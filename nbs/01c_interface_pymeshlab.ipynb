{
 "cells": [
  {
   "cell_type": "code",
   "execution_count": null,
   "id": "4ad2382a",
   "metadata": {},
   "outputs": [],
   "source": [
    "#| default_exp interface_pymeshlab"
   ]
  },
  {
   "cell_type": "markdown",
   "id": "b030c301",
   "metadata": {},
   "source": [
    "## `pymeshlab` interface\n",
    "\n",
    "> Convert `ObjMesh` to `pymeshlab`'s mesh class to apply meshlab filters.\n",
    "\n",
    "In this notebook, we define functions to convert our `ObjMesh` class to and from `pymeshlab`."
   ]
  },
  {
   "cell_type": "code",
   "execution_count": null,
   "id": "45a2f435",
   "metadata": {},
   "outputs": [
    {
     "name": "stdout",
     "output_type": "stream",
     "text": [
      "Warning:\n",
      "Unable to load the following plugins:\n",
      "\n",
      "\tlibio_e57.so: libio_e57.so does not seem to be a Qt Plugin.\n",
      "\n",
      "Cannot load library /home/nikolas/Programs/miniconda3/envs/blender-tissue-cartography/lib/python3.11/site-packages/pymeshlab/lib/plugins/libio_e57.so: (/lib/x86_64-linux-gnu/libp11-kit.so.0: undefined symbol: ffi_type_pointer, version LIBFFI_BASE_7.0)\n",
      "\n"
     ]
    }
   ],
   "source": [
    "#| export\n",
    "\n",
    "from blender_tissue_cartography import mesh as tcmesh\n",
    "\n",
    "import numpy as np\n",
    "import pymeshlab\n",
    "import warnings"
   ]
  },
  {
   "cell_type": "code",
   "execution_count": null,
   "id": "925dbe1c",
   "metadata": {},
   "outputs": [],
   "source": [
    "#| hide\n",
    "np.set_printoptions(suppress=True)"
   ]
  },
  {
   "cell_type": "code",
   "execution_count": null,
   "id": "aa2263fc",
   "metadata": {},
   "outputs": [],
   "source": [
    "#| export\n",
    "\n",
    "def convert_to_pymeshlab(mesh: tcmesh.ObjMesh, add_texture_info=None) -> pymeshlab.Mesh:\n",
    "    \"\"\"\n",
    "    Convert tcmesh.ObjMesh to pymeshlab.Mesh.\n",
    "    \n",
    "    See https://pymeshlab.readthedocs.io/en/latest/classes/mesh.html\n",
    "    Note: normal information is recalculated by pymeshlab. Discards any non-triangle faces.\n",
    "    \n",
    "    The texture information is saved as a vertex attribute via v_tex_coords_matrix. Note that this discards\n",
    "    information since a vertex can have multiple texture coordinates. For this reason,\n",
    "    we also save it as wedge_tex_coord_matrix (i.e. per triangle).\n",
    "    \n",
    "    Parameters\n",
    "    ----------\n",
    "    mesh : tcmesh.ObjMesh\n",
    "    add_texture_info : None or bool\n",
    "        Whether to add texture info to the pymeshlab.Mesh. If None, texture is added if\n",
    "        available for at least one vertex.\n",
    "    Returns\n",
    "    -------\n",
    "    pymeshlab.Mesh\n",
    "\n",
    "    \"\"\"\n",
    "    if not mesh.is_triangular:\n",
    "        warnings.warn(f\"Warning: mesh not triangular. discarding non-triangular faces\")\n",
    "    add_texture_info = ((not mesh.only_vertices and len(mesh.texture_vertices) > 0)\n",
    "                        if add_texture_info is None else add_texture_info)\n",
    "    if mesh.tris.shape[0] == 0:\n",
    "        return pymeshlab.Mesh(vertex_matrix=mesh.vertices)\n",
    "    if not add_texture_info:\n",
    "        return pymeshlab.Mesh(vertex_matrix=mesh.vertices, face_matrix=mesh.tris)\n",
    "    wedge_coords = mesh.texture_vertices[mesh.texture_tris].reshape((-1,2), order=\"C\")\n",
    "    converted = pymeshlab.Mesh(vertex_matrix=mesh.vertices, face_matrix=mesh.tris,\n",
    "                               v_tex_coords_matrix=mesh.vertex_textures,\n",
    "                               w_tex_coords_matrix=wedge_coords)\n",
    "    return converted"
   ]
  },
  {
   "cell_type": "code",
   "execution_count": null,
   "id": "eeb8e2b1",
   "metadata": {},
   "outputs": [
    {
     "name": "stderr",
     "output_type": "stream",
     "text": [
      "Warning: readOBJ() ignored non-comment line 4:\n",
      "  o embryo_rect\n"
     ]
    }
   ],
   "source": [
    "mesh_fname_data = \"registration_example/Drosophila_CAAX-mCherry_mesh_remeshed.obj\"\n",
    "mesh_fname_ref = \"registration_example/Drosophila_reference.obj\"\n",
    "\n",
    "mesh_data = tcmesh.ObjMesh.read_obj(mesh_fname_data)\n",
    "mesh_ref = tcmesh.ObjMesh.read_obj(mesh_fname_ref)"
   ]
  },
  {
   "cell_type": "code",
   "execution_count": null,
   "id": "9a43b41a",
   "metadata": {},
   "outputs": [],
   "source": [
    "pymesh_data = convert_to_pymeshlab(mesh_data)"
   ]
  },
  {
   "cell_type": "code",
   "execution_count": null,
   "id": "eb7b5b4d",
   "metadata": {},
   "outputs": [
    {
     "data": {
      "text/plain": [
       "array([0.99999487, 0.99997637, 0.99996542, ..., 0.99966711, 0.99984559,\n",
       "       0.99975186])"
      ]
     },
     "execution_count": null,
     "metadata": {},
     "output_type": "execute_result"
    }
   ],
   "source": [
    "pymesh_normals = pymesh_data.vertex_normal_matrix()\n",
    "pymesh_normals = (pymesh_normals.T / np.linalg.norm(pymesh_normals, axis=-1)).T\n",
    "\n",
    "mesh_normals = (mesh_data.normals.T / np.linalg.norm(mesh_data.normals, axis=-1)).T\n",
    "\n",
    "np.einsum('vi,vi->v', mesh_normals, pymesh_normals)"
   ]
  },
  {
   "cell_type": "code",
   "execution_count": null,
   "id": "7de68d68",
   "metadata": {},
   "outputs": [
    {
     "data": {
      "text/plain": [
       "True"
      ]
     },
     "execution_count": null,
     "metadata": {},
     "output_type": "execute_result"
    }
   ],
   "source": [
    "np.allclose(mesh_data.vertices, pymesh_data.vertex_matrix())"
   ]
  },
  {
   "cell_type": "code",
   "execution_count": null,
   "id": "c0748ec8",
   "metadata": {},
   "outputs": [],
   "source": [
    "### check correctness of wedge coords\n",
    "\n",
    "mesh = tcmesh.ObjMesh.read_obj(\"movie_example/mesh_subdiv.obj\")\n",
    "converted = convert_to_pymeshlab(mesh)"
   ]
  },
  {
   "cell_type": "code",
   "execution_count": null,
   "id": "fa9ac4d4",
   "metadata": {},
   "outputs": [],
   "source": [
    "ms = pymeshlab.MeshSet()\n",
    "#ms.add_mesh(converted)\n",
    "ms.load_new_mesh(\"movie_example/mesh_subdiv.obj\")"
   ]
  },
  {
   "cell_type": "code",
   "execution_count": null,
   "id": "07fe7924",
   "metadata": {},
   "outputs": [
    {
     "data": {
      "text/plain": [
       "True"
      ]
     },
     "execution_count": null,
     "metadata": {},
     "output_type": "execute_result"
    }
   ],
   "source": [
    "np.allclose(np.nan_to_num(ms.current_mesh().wedge_tex_coord_matrix()),\n",
    "            np.nan_to_num(converted.wedge_tex_coord_matrix()))"
   ]
  },
  {
   "cell_type": "markdown",
   "id": "e4d9d752",
   "metadata": {},
   "source": [
    "### Transforming back to `ObjMesh`"
   ]
  },
  {
   "cell_type": "code",
   "execution_count": null,
   "id": "6187f937",
   "metadata": {},
   "outputs": [],
   "source": [
    "#| export\n",
    "\n",
    "def convert_from_pymeshlab(mesh: pymeshlab.Mesh, reconstruct_texture_from_faces=True,\n",
    "                           texture_vertex_decimals=10) -> tcmesh.ObjMesh:\n",
    "    \"\"\"\n",
    "    Convert pymeshlab mesh to ObjMesh.\n",
    "    \n",
    "    Texture vertices can be reconstructed from wedge_tex_coord_matrix (per face) or from the\n",
    "    vertex attribute vertex_tex_coord_matrix. Reconstruction from face texture can accommodate\n",
    "    multiple texture coordinates per vertex (e.g. for UV maps with seams).\n",
    "    \n",
    "    Texture vertices are rounded to texture_vertex_decimals decimals\n",
    "    \"\"\"\n",
    "    vertices = mesh.vertex_matrix()\n",
    "    normals = mesh.vertex_normal_matrix()\n",
    "    normals = (normals.T / np.linalg.norm(normals, axis=-1)).T\n",
    "    if mesh.face_matrix().shape[0] == 0:\n",
    "        return tcmesh.ObjMesh(vertices=vertices, faces=[])\n",
    "    if not mesh.has_vertex_tex_coord():\n",
    "        faces = mesh.face_matrix()\n",
    "        return tcmesh.ObjMesh(vertices=vertices, faces=faces, normals=normals)\n",
    "    if mesh.has_vertex_tex_coord() and not reconstruct_texture_from_faces:\n",
    "        faces = [[2*[v,] for v in f] for f in mesh.face_matrix()]\n",
    "        return tcmesh.ObjMesh(vertices=vertices, faces=faces, normals=normals,\n",
    "                            texture_vertices=mesh.vertex_tex_coord_matrix())\n",
    "    # reconstruct texture vertices - big pain.\n",
    "    wegde_coords = mesh.wedge_tex_coord_matrix()\n",
    "    wegde_coords = wegde_coords.reshape((-1,3,2), order=\"C\").reshape((-1,2), order=\"F\")\n",
    "    wegde_coords = np.round(wegde_coords, decimals=texture_vertex_decimals)\n",
    "    texture_vertices_unique, index, inverse_index = np.unique(wegde_coords, axis=0,\n",
    "                                                              return_index=True, return_inverse=True)\n",
    "    sort_index = index.argsort()\n",
    "    reorder = {x : i for i, x in enumerate(sort_index)}\n",
    "    texture_vertices_unique = texture_vertices_unique[sort_index]\n",
    "    n_faces = mesh.face_matrix().shape[0]\n",
    "    faces = [[[v, reorder[inverse_index[ifc+iv*n_faces]]] for iv, v in enumerate(fc)]\n",
    "             for ifc, fc in enumerate(mesh.face_matrix())]\n",
    "\n",
    "    return tcmesh.ObjMesh(vertices=vertices, faces=faces, normals=normals, texture_vertices=texture_vertices_unique)"
   ]
  },
  {
   "cell_type": "code",
   "execution_count": null,
   "id": "b9c47e3f",
   "metadata": {},
   "outputs": [],
   "source": [
    "pymesh_ref = convert_to_pymeshlab(mesh_ref)\n",
    "pymesh_ref_converted = convert_from_pymeshlab(pymesh_ref)"
   ]
  },
  {
   "cell_type": "code",
   "execution_count": null,
   "id": "dc4527d1",
   "metadata": {},
   "outputs": [
    {
     "data": {
      "text/plain": [
       "True"
      ]
     },
     "execution_count": null,
     "metadata": {},
     "output_type": "execute_result"
    }
   ],
   "source": [
    "np.allclose(mesh_ref.texture_vertices[mesh_ref.texture_tris],\n",
    " pymesh_ref_converted.texture_vertices[pymesh_ref_converted.texture_tris])"
   ]
  },
  {
   "cell_type": "code",
   "execution_count": null,
   "id": "da34d028",
   "metadata": {},
   "outputs": [
    {
     "name": "stderr",
     "output_type": "stream",
     "text": [
      "Warning: readOBJ() ignored non-comment line 4:\n",
      "  o Drosophila_CAAX-mCherry_mesh_remeshed\n",
      "Warning: readOBJ() ignored non-comment line 48073:\n",
      "  l 2534 8160\n",
      "/tmp/ipykernel_1942205/15752383.py:16: RuntimeWarning: invalid value encountered in divide\n",
      "  normals = (normals.T / np.linalg.norm(normals, axis=-1)).T\n"
     ]
    }
   ],
   "source": [
    "mesh_seams = tcmesh.ObjMesh.read_obj(\"drosophila_example/Drosophila_CAAX-mCherry_mesh_uv.obj\")\n",
    "pymesh_seams = convert_to_pymeshlab(mesh_seams,add_texture_info=True)\n",
    "mesh_seams_reconverted = convert_from_pymeshlab(pymesh_seams, reconstruct_texture_from_faces=True)\n",
    "mesh_seams_reconverted.write_obj(\"drosophila_example/Drosophila_CAAX-mCherry_mesh_uv_resaved.obj\")"
   ]
  },
  {
   "cell_type": "code",
   "execution_count": null,
   "id": "d129a9c4",
   "metadata": {},
   "outputs": [
    {
     "data": {
      "text/plain": [
       "((8288, 2), (8288, 2))"
      ]
     },
     "execution_count": null,
     "metadata": {},
     "output_type": "execute_result"
    }
   ],
   "source": [
    "mesh_seams.texture_vertices.shape, mesh_seams_reconverted.texture_vertices.shape"
   ]
  },
  {
   "cell_type": "markdown",
   "id": "06008a04",
   "metadata": {},
   "source": [
    "You can now use `MeshLab` filters like in the following, and the face attributes will hopefully be correctly updated."
   ]
  },
  {
   "cell_type": "code",
   "execution_count": null,
   "id": "20617956",
   "metadata": {},
   "outputs": [
    {
     "data": {
      "text/plain": [
       "<blender_tissue_cartography.mesh.ObjMesh>"
      ]
     },
     "execution_count": null,
     "metadata": {},
     "output_type": "execute_result"
    }
   ],
   "source": [
    "ms = pymeshlab.MeshSet()\n",
    "ms.add_mesh(pymesh_seams)\n",
    "\n",
    "ms.meshing_merge_close_vertices(threshold=pymeshlab.PercentageValue(100))\n",
    "pymesh_seams_remeshed = ms.current_mesh()\n",
    "\n",
    "convert_from_pymeshlab(pymesh_seams_remeshed, reconstruct_texture_from_faces=True,\n",
    "                       texture_vertex_decimals=12)"
   ]
  },
  {
   "cell_type": "code",
   "execution_count": null,
   "id": "b6e54a90-cf6c-47b9-8b00-f1a627e18a80",
   "metadata": {},
   "outputs": [],
   "source": []
  }
 ],
 "metadata": {
  "kernelspec": {
   "display_name": "conda-env-blender-tissue-cartography-py",
   "language": "python",
   "name": "conda-env-blender-tissue-cartography-py"
  }
 },
 "nbformat": 4,
 "nbformat_minor": 5
}

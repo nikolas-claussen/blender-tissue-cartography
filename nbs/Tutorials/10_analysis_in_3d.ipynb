{
 "cells": [
  {
   "cell_type": "markdown",
   "id": "629e875d-20ea-484d-87c1-f5172268c372",
   "metadata": {},
   "source": [
    "## 10. 3D Image analysis with cartographic projections"
   ]
  }
 ],
 "metadata": {
  "kernelspec": {
   "display_name": "Python [conda env:blender-tissue-cartography] *",
   "language": "python",
   "name": "conda-env-blender-tissue-cartography-py"
  },
  "language_info": {
   "codemirror_mode": {
    "name": "ipython",
    "version": 3
   },
   "file_extension": ".py",
   "mimetype": "text/x-python",
   "name": "python",
   "nbconvert_exporter": "python",
   "pygments_lexer": "ipython3",
   "version": "3.11.9"
  }
 },
 "nbformat": 4,
 "nbformat_minor": 5
}

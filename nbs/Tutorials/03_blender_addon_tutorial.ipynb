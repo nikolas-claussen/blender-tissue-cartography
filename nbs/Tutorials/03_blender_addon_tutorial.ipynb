{
 "cells": [
  {
   "cell_type": "markdown",
   "id": "1ccb9500-4360-4cc5-8ced-8e61b86a6e2c",
   "metadata": {},
   "source": [
    "## Tissue cartography Blender add-on\n",
    "\n",
    "You can use `blender_tissue_cartography` in two forms:\n",
    "\n",
    "1. The `blender_tissue_cartography` python library\n",
    "2. The `blender_tissue_cartography` blender add-on\n",
    "\n",
    "For sophisticated use cases (dynamic datasets, custom computer vision operation), or automated pipeline, use the python library. Most users though can start with the blender add-on, which allows you to carry out almost all steps of the tissue cartography pipeline within blender's graphical user interface."
   ]
  },
  {
   "cell_type": "code",
   "execution_count": null,
   "id": "caece62a-3936-419e-b1ff-707a0a04a5d0",
   "metadata": {},
   "outputs": [],
   "source": []
  }
 ],
 "metadata": {
  "kernelspec": {
   "display_name": "Python [conda env:blender-tissue-cartography] *",
   "language": "python",
   "name": "conda-env-blender-tissue-cartography-py"
  },
  "language_info": {
   "codemirror_mode": {
    "name": "ipython",
    "version": 3
   },
   "file_extension": ".py",
   "mimetype": "text/x-python",
   "name": "python",
   "nbconvert_exporter": "python",
   "pygments_lexer": "ipython3",
   "version": "3.11.9"
  }
 },
 "nbformat": 4,
 "nbformat_minor": 5
}

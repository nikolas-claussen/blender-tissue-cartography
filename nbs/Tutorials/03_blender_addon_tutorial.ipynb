{
 "cells": [
  {
   "cell_type": "markdown",
   "id": "1ccb9500-4360-4cc5-8ced-8e61b86a6e2c",
   "metadata": {},
   "source": [
    "## Tissue cartography Blender add-on\n",
    "\n",
    "You can use `blender_tissue_cartography` in two forms:\n",
    "\n",
    "1. The `blender_tissue_cartography` python library\n",
    "2. The `blender_tissue_cartography` blender add-on\n",
    "\n",
    "For sophisticated use cases (dynamic datasets, custom computer vision operation), or automated pipeline, use the python library. Most users though can start with the blender add-on, which allows you to carry out almost all steps of the tissue cartography pipeline within blender's graphical user interface."
   ]
  },
  {
   "cell_type": "markdown",
   "id": "1f5ee900-6ceb-4071-a50f-0ce11a8d04e0",
   "metadata": {},
   "source": [
    "### Installation\n",
    "\n",
    "1. Download the add-on file [blender_addon.py](https://github.com/nikolas-claussen/blender-tissue-cartography/blob/main/blender_addon/blender_addon.py) from GitHub\n",
    "\n",
    "2. [Install the add-on](https://docs.blender.org/manual/en/latest/editors/preferences/addons.html): Open Blender and click \"Edit ->  Preferences -> Add-ons -> Add-on Settings -> Install from disk\" and select `blender_tissue_cartography_addon.py`.\n",
    "\n",
    "3. Restart Blender."
   ]
  },
  {
   "cell_type": "markdown",
   "id": "828d60eb-f6bd-4b0f-88d7-9820bacea69f",
   "metadata": {},
   "source": [
    "### Add-on user nte"
   ]
  }
 ],
 "metadata": {
  "kernelspec": {
   "display_name": "Python [conda env:blender-tissue-cartography] *",
   "language": "python",
   "name": "conda-env-blender-tissue-cartography-py"
  },
  "language_info": {
   "codemirror_mode": {
    "name": "ipython",
    "version": 3
   },
   "file_extension": ".py",
   "mimetype": "text/x-python",
   "name": "python",
   "nbconvert_exporter": "python",
   "pygments_lexer": "ipython3",
   "version": "3.11.9"
  }
 },
 "nbformat": 4,
 "nbformat_minor": 5
}

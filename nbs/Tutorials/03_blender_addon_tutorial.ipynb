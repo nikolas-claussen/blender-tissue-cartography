{
 "cells": [
  {
   "cell_type": "markdown",
   "id": "1ccb9500-4360-4cc5-8ced-8e61b86a6e2c",
   "metadata": {},
   "source": [
    "## Blender tutorial\n",
    "\n",
    "\n",
    "`blender_tissue_cartography` ca"
   ]
  }
 ],
 "metadata": {
  "kernelspec": {
   "display_name": "Python [conda env:blender-tissue-cartography] *",
   "language": "python",
   "name": "conda-env-blender-tissue-cartography-py"
  },
  "language_info": {
   "codemirror_mode": {
    "name": "ipython",
    "version": 3
   },
   "file_extension": ".py",
   "mimetype": "text/x-python",
   "name": "python",
   "nbconvert_exporter": "python",
   "pygments_lexer": "ipython3",
   "version": "3.11.9"
  }
 },
 "nbformat": 4,
 "nbformat_minor": 5
}

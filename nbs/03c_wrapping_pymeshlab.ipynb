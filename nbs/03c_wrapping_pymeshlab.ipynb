{
 "cells": [
  {
   "cell_type": "code",
   "execution_count": 1,
   "id": "b2a0b50e",
   "metadata": {},
   "outputs": [],
   "source": [
    "#| default_exp wrapping_pymeshlab"
   ]
  },
  {
   "cell_type": "code",
   "execution_count": 2,
   "id": "9548e157",
   "metadata": {},
   "outputs": [
    {
     "name": "stdout",
     "output_type": "stream",
     "text": [
      "Warning:\n",
      "Unable to load the following plugins:\n",
      "\n",
      "\tlibio_e57.so: libio_e57.so does not seem to be a Qt Plugin.\n",
      "\n",
      "Cannot load library /home/nikolas/Programs/miniconda3/envs/blender-tissue-cartography/lib/python3.11/site-packages/pymeshlab/lib/plugins/libio_e57.so: (/lib/x86_64-linux-gnu/libp11-kit.so.0: undefined symbol: ffi_type_pointer, version LIBFFI_BASE_7.0)\n",
      "\n"
     ]
    }
   ],
   "source": [
    "#| export\n",
    "\n",
    "from blender_tissue_cartography import io as tcio\n",
    "from blender_tissue_cartography import registration as tcreg\n",
    "from blender_tissue_cartography import interface_pymeshlab as intmsl\n",
    "import numpy as np\n",
    "from copy import deepcopy\n",
    "import warnings\n",
    "import pymeshlab"
   ]
  },
  {
   "cell_type": "code",
   "execution_count": 3,
   "id": "20675761",
   "metadata": {},
   "outputs": [],
   "source": [
    "from blender_tissue_cartography import interpolation as tcinterp\n",
    "from skimage import transform\n",
    "from scipy import stats, spatial, linalg\n",
    "import os\n",
    "import matplotlib.pyplot as plt\n",
    "import mcubes"
   ]
  },
  {
   "cell_type": "code",
   "execution_count": 4,
   "id": "dd2642e1",
   "metadata": {},
   "outputs": [],
   "source": [
    "from tqdm.notebook import tqdm\n",
    "from importlib import reload"
   ]
  },
  {
   "cell_type": "code",
   "execution_count": 5,
   "id": "f5d325e1",
   "metadata": {},
   "outputs": [],
   "source": [
    "np.set_printoptions(suppress=True)"
   ]
  },
  {
   "cell_type": "markdown",
   "id": "db284ad4",
   "metadata": {},
   "source": [
    "## Automated wrapping\n",
    "\n",
    "This notebook builds the tools for automated mesh wrapping (setting vertex positions of one mesh to the closest point on another mesh). This is a part of the pipeline for dynamic surfaces discussed in notebook 3a.\n",
    "\n",
    "We have two separate notebooks  - and modules -  for wrapping, depending on whether we use `pymeshlab` or `open3d`. The reason for this is that `pymeshlab` may not be available on all platforms."
   ]
  },
  {
   "cell_type": "markdown",
   "id": "2c3fa724",
   "metadata": {},
   "source": [
    "## Loading and segmenting the dataset\n",
    "\n",
    "We will use the same dataset - a _Drosophila_ example - as in tutorial 2."
   ]
  },
  {
   "cell_type": "code",
   "execution_count": 6,
   "id": "83c40b9c",
   "metadata": {},
   "outputs": [],
   "source": [
    "metadata_dict = {'filename': 'wrapping_example/Drosophila_CAAX-mCherry',\n",
    "                 'resolution_in_microns': (1.05, 1.05, 1.05), # lightsheet data has isotropic resolution\n",
    "                 'subsampling_factors': (1/2, 1/2, 1/2),\n",
    "                }"
   ]
  },
  {
   "cell_type": "code",
   "execution_count": 7,
   "id": "f8915350",
   "metadata": {},
   "outputs": [
    {
     "name": "stdout",
     "output_type": "stream",
     "text": [
      "image shape: (1, 190, 509, 188)\n"
     ]
    }
   ],
   "source": [
    "image = tcio.adjust_axis_order(tcio.imread(f\"{metadata_dict['filename']}.tif\"))\n",
    "print(\"image shape:\", image.shape) # image shape - spatial axes are in z-x-y order"
   ]
  },
  {
   "cell_type": "markdown",
   "id": "5a39209f",
   "metadata": {},
   "source": [
    "## 3d segmentation / Meshing\n",
    "\n",
    "Already done - we'll just read in the results."
   ]
  },
  {
   "cell_type": "markdown",
   "id": "f69be504",
   "metadata": {},
   "source": [
    "## Registration\n",
    "\n",
    "Using the tools from notebook 3a, compute an affine registration of the reference onto the data mesh."
   ]
  },
  {
   "cell_type": "code",
   "execution_count": 8,
   "id": "289f2c91",
   "metadata": {},
   "outputs": [],
   "source": [
    "mesh_data = tcio.ObjMesh.read_obj(f\"{metadata_dict['filename']}_mesh_remeshed.obj\")\n",
    "mesh_ref = tcio.ObjMesh.read_obj(f\"wrapping_example/Drosophila_reference.obj\")"
   ]
  },
  {
   "cell_type": "code",
   "execution_count": 9,
   "id": "56abc551",
   "metadata": {},
   "outputs": [],
   "source": [
    "trafo_centroid_intertia, _ = tcreg.align_by_centroid_and_intertia(mesh_ref.vertices, mesh_data.vertices,\n",
    "                                                                  q=0.01, shear=True)\n",
    "\n",
    "trafo_icp, _, _ = tcreg.icp(mesh_ref.vertices, mesh_data.vertices, initial=trafo_centroid_intertia,\n",
    "                            threshold=1e-4, max_iterations=100, scale=True, n_samples=5000)"
   ]
  },
  {
   "cell_type": "code",
   "execution_count": 10,
   "id": "5d249115",
   "metadata": {},
   "outputs": [],
   "source": [
    "# we now save the pre-registered mesh. Note that we want to transform both our\n",
    "# mesh coordinates and the corresponding normals, as well as potentially flip face orientation\n",
    "\n",
    "mesh_registered = mesh_ref.apply_affine_to_mesh(trafo_icp)\n",
    "mesh_registered.name = \"Drosophila_reference_preregistered\"\n",
    "mesh_registered.write_obj(f\"wrapping_example/Drosophila_reference_registered.obj\")"
   ]
  },
  {
   "cell_type": "markdown",
   "id": "a5453f24",
   "metadata": {},
   "source": [
    "## Procedural wrapping\n",
    "\n",
    "We can also automatically wrap using blender's python API. Let's see how it works. \n",
    "- `trimesh.proximity` appears not feasible - way too slow, 15s for 1k vertices.\n",
    "- Annoyingly, blender scripts cannot be directly run from python. It must be done from within the blender script window. The goal here would be to write a script that can be either easily run in blender, or run from the command line (also possible via python's `shutil`).\n",
    "- `open3d` is another option - see [here](https://www.open3d.org/docs/latest/tutorial/geometry/distance_queries.html). However, this adds another big dependency to the project.\n",
    "- `pymeshlab`'s `transfer_attributes_per_vertex`\n",
    "\n",
    "We will use the interfacing tools from notebooks 1b, 1c which allow us to convert our `ObjMesh` into `pymeshlab` or `open3d` classes."
   ]
  },
  {
   "cell_type": "markdown",
   "id": "f0155692",
   "metadata": {},
   "source": [
    "### `pymeshlab`\n",
    "\n",
    "GUI: \"Filters -> Sampling -> Vertex Attribute Transfer\". Python: `transfer_attributes_per_vertex`.\n",
    "\n",
    "Note: meshlab default io discards UV information. We have to use our own class."
   ]
  },
  {
   "cell_type": "code",
   "execution_count": 11,
   "id": "305b7f4e",
   "metadata": {},
   "outputs": [],
   "source": [
    "#| export\n",
    "\n",
    "def shrinkwrap_pymeshlab(mesh_source, mesh_target, n_iter_smooth_target=10, n_iter_smooth_wrapped=10):\n",
    "    \"\"\"\n",
    "    Shrink-wrap the source mesh onto the target mesh using pymeshlab.\n",
    "    \n",
    "    Sets the vertex positions of mesh_source to the closes point on the surface of mesh_target (not necessarily\n",
    "    a vertex). Optionally, smoothes the target mesh and the wrapped mesh for smoother results using a Taubin\n",
    "    filter (recommended). Gives out a warning if the shrink-wrapping flips any vertex normals, which can\n",
    "    indicate problems.\n",
    "    \n",
    "    The shrinkwrapped mesh still has the UV maps of the source mesh, and so can be used to compute\n",
    "    cartographic projections.\n",
    "    \n",
    "    Parameters\n",
    "    ----------\n",
    "    mesh_source : tcio.ObjMesh\n",
    "        Mesh to be deformed\n",
    "    mesh_target : tcio.ObjMesh\n",
    "        Mesh with target shape\n",
    "    n_iter_smooth_target : int, default 10\n",
    "        Taubin smoothing iterations for target\n",
    "    n_iter_smooth_wrapped : int, default 10\n",
    "        Taubin smoothing iterations for shrinkwrapped mesh, after shrinkwrapping\n",
    "\n",
    "    Returns\n",
    "    -------\n",
    "    mesh_wrapped : tcio.ObjMesh\n",
    "\n",
    "    \"\"\"\n",
    "    mesh_target_msl = intmsl.convert_to_pymeshlab(mesh_target)\n",
    "    mesh_source_msl = intmsl.convert_to_pymeshlab(mesh_source)\n",
    "    # create MeshSet and add the two meshes\n",
    "    ms = pymeshlab.MeshSet()\n",
    "    ms.add_mesh(mesh_target_msl)\n",
    "    ms.add_mesh(mesh_source_msl)\n",
    "    # taubin smoothing of target\n",
    "    ms.set_current_mesh(0)\n",
    "    ms.apply_coord_taubin_smoothing(stepsmoothnum=n_iter_smooth_target)\n",
    "    # wrapping - note that the source-target convention is incorrectly documented\n",
    "    ms.transfer_attributes_per_vertex(sourcemesh=0, targetmesh=1, vertexsampling=False, geomtransfer=True,\n",
    "                                      normaltransfer=True, upperbound=pymeshlab.PercentageValue(100))\n",
    "    # taubin smoothing of wrapped source\n",
    "    ms.set_current_mesh(1)\n",
    "    ms.apply_coord_taubin_smoothing(stepsmoothnum=n_iter_smooth_target)\n",
    "    mesh_wrapped = intmsl.convert_from_pymeshlab(ms.mesh(1))\n",
    "    # check if any normals were flipped\n",
    "    dots = np.einsum(\"vi,vi->v\", mesh_source.vertex_normals, mesh_wrapped.vertex_normals)\n",
    "    if np.sum(dots < 0) > 0:\n",
    "        warnings.warn(f\"Warning: {np.sum(dots<0)} normal(s) flipped during shrink-wrapping\")\n",
    "    return mesh_wrapped"
   ]
  },
  {
   "cell_type": "code",
   "execution_count": 12,
   "id": "68c29249",
   "metadata": {},
   "outputs": [],
   "source": [
    "# Load source and target mesh\n",
    "mesh_target = tcio.ObjMesh.read_obj(\"wrapping_example/Drosophila_CAAX-mCherry_mesh_remeshed.obj\")\n",
    "mesh_source = tcio.ObjMesh.read_obj(\"wrapping_example/Drosophila_reference_registered.obj\")"
   ]
  },
  {
   "cell_type": "code",
   "execution_count": 13,
   "id": "fab73ca1",
   "metadata": {},
   "outputs": [
    {
     "name": "stderr",
     "output_type": "stream",
     "text": [
      "/tmp/ipykernel_1377331/2091124418.py:50: UserWarning: Warning: 1 normal(s) flipped during shrink-wrapping\n",
      "  warnings.warn(f\"Warning: {np.sum(dots<0)} normal(s) flipped during shrink-wrapping\")\n"
     ]
    }
   ],
   "source": [
    "mesh_wrapped_msl = shrinkwrap_pymeshlab(mesh_source, mesh_target,\n",
    "                                        n_iter_smooth_target=10, n_iter_smooth_wrapped=10)"
   ]
  },
  {
   "cell_type": "code",
   "execution_count": 14,
   "id": "421afedd",
   "metadata": {},
   "outputs": [
    {
     "name": "stdout",
     "output_type": "stream",
     "text": [
      "CPU times: user 1.02 s, sys: 19.4 ms, total: 1.04 s\n",
      "Wall time: 1.04 s\n"
     ]
    }
   ],
   "source": [
    "%%time\n",
    "mesh_target_msl = intmsl.convert_to_pymeshlab(mesh_target)\n",
    "mesh_source_msl = intmsl.convert_to_pymeshlab(mesh_source)\n",
    "mesh_wrapped = intmsl.convert_from_pymeshlab(mesh_source_msl)"
   ]
  },
  {
   "cell_type": "code",
   "execution_count": 15,
   "id": "d7aad435",
   "metadata": {},
   "outputs": [
    {
     "name": "stdout",
     "output_type": "stream",
     "text": [
      "CPU times: user 1.42 s, sys: 43.5 ms, total: 1.46 s\n",
      "Wall time: 1.46 s\n"
     ]
    },
    {
     "name": "stderr",
     "output_type": "stream",
     "text": [
      "/tmp/ipykernel_1377331/2091124418.py:50: UserWarning: Warning: 1 normal(s) flipped during shrink-wrapping\n",
      "  warnings.warn(f\"Warning: {np.sum(dots<0)} normal(s) flipped during shrink-wrapping\")\n"
     ]
    }
   ],
   "source": [
    "%%time\n",
    "mesh_wrapped_msl = shrinkwrap_pymeshlab(mesh_source, mesh_target,\n",
    "                                        n_iter_smooth_target=10, n_iter_smooth_wrapped=10)"
   ]
  },
  {
   "cell_type": "code",
   "execution_count": 16,
   "id": "43334223",
   "metadata": {},
   "outputs": [],
   "source": [
    "mesh_wrapped_msl.write_obj(\"wrapping_example/Drosophila_reference_wrapped_msl.obj\")"
   ]
  },
  {
   "cell_type": "markdown",
   "id": "2c3779ce",
   "metadata": {},
   "source": [
    "## UV projection\n",
    "\n",
    "To see how well all of this has worked, let's use the wrapped mesh to generate UV projections."
   ]
  },
  {
   "cell_type": "code",
   "execution_count": 17,
   "id": "1188e5de",
   "metadata": {},
   "outputs": [],
   "source": [
    "normal_offsets = np.array([-4, -2, 0, 2]) ##np.linspace(-5, 2, 8) # in microns\n",
    "metadata_dict[\"normal_offsets\"] = normal_offsets # add the info to the metadata\n",
    "uv_grid_steps = 512"
   ]
  },
  {
   "cell_type": "code",
   "execution_count": 18,
   "id": "5a9b785a",
   "metadata": {},
   "outputs": [],
   "source": [
    "tcio.save_dict_to_json(f\"{metadata_dict['filename']}_metadata.json\", metadata_dict)"
   ]
  },
  {
   "cell_type": "code",
   "execution_count": 19,
   "id": "8be399b4",
   "metadata": {
    "scrolled": true
   },
   "outputs": [
    {
     "ename": "RuntimeError",
     "evalue": "Triangulation is invalid",
     "output_type": "error",
     "traceback": [
      "\u001b[0;31m---------------------------------------------------------------------------\u001b[0m",
      "\u001b[0;31mRuntimeError\u001b[0m                              Traceback (most recent call last)",
      "Cell \u001b[0;32mIn[19], line 1\u001b[0m\n\u001b[0;32m----> 1\u001b[0m projected_data_wrapped, projected_coordinates_wrapped, projected_normals_wrapped \u001b[38;5;241m=\u001b[39m tcinterp\u001b[38;5;241m.\u001b[39mcreate_cartographic_projections(\n\u001b[1;32m      2\u001b[0m     image\u001b[38;5;241m=\u001b[39m\u001b[38;5;124mf\u001b[39m\u001b[38;5;124m\"\u001b[39m\u001b[38;5;132;01m{\u001b[39;00mmetadata_dict[\u001b[38;5;124m'\u001b[39m\u001b[38;5;124mfilename\u001b[39m\u001b[38;5;124m'\u001b[39m]\u001b[38;5;132;01m}\u001b[39;00m\u001b[38;5;124m.tif\u001b[39m\u001b[38;5;124m\"\u001b[39m,\n\u001b[1;32m      3\u001b[0m     mesh\u001b[38;5;241m=\u001b[39m\u001b[38;5;124mf\u001b[39m\u001b[38;5;124m\"\u001b[39m\u001b[38;5;124mwrapping_example/Drosophila_reference_wrapped_msl.obj\u001b[39m\u001b[38;5;124m\"\u001b[39m,\n\u001b[1;32m      4\u001b[0m     resolution\u001b[38;5;241m=\u001b[39mmetadata_dict[\u001b[38;5;124m\"\u001b[39m\u001b[38;5;124mresolution_in_microns\u001b[39m\u001b[38;5;124m\"\u001b[39m],\n\u001b[1;32m      5\u001b[0m     normal_offsets\u001b[38;5;241m=\u001b[39mnormal_offsets,\n\u001b[1;32m      6\u001b[0m     uv_grid_steps\u001b[38;5;241m=\u001b[39muv_grid_steps)\n",
      "File \u001b[0;32m~/Documents/UCSB/streichan/numerics/code/python code/jupyter notebooks/blender-tissue-cartography/blender_tissue_cartography/interpolation.py:306\u001b[0m, in \u001b[0;36mcreate_cartographic_projections\u001b[0;34m(image, mesh, resolution, normal_offsets, uv_grid_steps, uv_mask)\u001b[0m\n\u001b[1;32m    301\u001b[0m     interpolated_data \u001b[38;5;241m=\u001b[39m interpolate_volumetric_data_to_uv_multilayer(image,\n\u001b[1;32m    302\u001b[0m                                                                      interpolated_3d_positions,\n\u001b[1;32m    303\u001b[0m                                                                      interpolated_normals, normal_offsets,\n\u001b[1;32m    304\u001b[0m                                                                      resolution, uv_mask\u001b[38;5;241m=\u001b[39muv_mask)\n\u001b[1;32m    305\u001b[0m \u001b[38;5;28;01melse\u001b[39;00m:\n\u001b[0;32m--> 306\u001b[0m     interpolated_3d_positions \u001b[38;5;241m=\u001b[39m interpolate_3d_to_uv(mesh\u001b[38;5;241m.\u001b[39mmatched_texture_vertices, mesh\u001b[38;5;241m.\u001b[39mmatched_vertices,\n\u001b[1;32m    307\u001b[0m                                                      mesh_triangles\u001b[38;5;241m=\u001b[39mmesh\u001b[38;5;241m.\u001b[39mtexture_tris,\n\u001b[1;32m    308\u001b[0m                                                      uv_grid_steps\u001b[38;5;241m=\u001b[39muv_grid_steps)\n\u001b[1;32m    309\u001b[0m     interpolated_normals \u001b[38;5;241m=\u001b[39m interpolate_3d_to_uv(mesh\u001b[38;5;241m.\u001b[39mmatched_texture_vertices, mesh\u001b[38;5;241m.\u001b[39mmatched_normals,\n\u001b[1;32m    310\u001b[0m                                                 mesh_triangles\u001b[38;5;241m=\u001b[39mmesh\u001b[38;5;241m.\u001b[39mtexture_tris,\n\u001b[1;32m    311\u001b[0m                                                 uv_grid_steps\u001b[38;5;241m=\u001b[39muv_grid_steps)\n\u001b[1;32m    312\u001b[0m     interpolated_data \u001b[38;5;241m=\u001b[39m interpolate_volumetric_data_to_uv_multilayer(image,\n\u001b[1;32m    313\u001b[0m                                                                      interpolated_3d_positions,\n\u001b[1;32m    314\u001b[0m                                                                      interpolated_normals, normal_offsets,\n\u001b[1;32m    315\u001b[0m                                                                      resolution, uv_mask\u001b[38;5;241m=\u001b[39m\u001b[38;5;28;01mNone\u001b[39;00m)\n",
      "File \u001b[0;32m~/Documents/UCSB/streichan/numerics/code/python code/jupyter notebooks/blender-tissue-cartography/blender_tissue_cartography/interpolation.py:159\u001b[0m, in \u001b[0;36minterpolate_3d_to_uv\u001b[0;34m(matched_texture_vertices, matched_vertices_or_normals, mesh_triangles, uv_mask, uv_grid_steps)\u001b[0m\n\u001b[1;32m    157\u001b[0m \u001b[38;5;28;01melse\u001b[39;00m:\n\u001b[1;32m    158\u001b[0m     triangulation \u001b[38;5;241m=\u001b[39m mpl\u001b[38;5;241m.\u001b[39mtri\u001b[38;5;241m.\u001b[39mTriangulation(\u001b[38;5;241m*\u001b[39mmatched_texture_vertices\u001b[38;5;241m.\u001b[39mT, mesh_triangles)\n\u001b[0;32m--> 159\u001b[0m     interpolators \u001b[38;5;241m=\u001b[39m [mpl\u001b[38;5;241m.\u001b[39mtri\u001b[38;5;241m.\u001b[39mLinearTriInterpolator(triangulation, x) \u001b[38;5;28;01mfor\u001b[39;00m x \u001b[38;5;129;01min\u001b[39;00m matched_vertices_or_normals\u001b[38;5;241m.\u001b[39mT]\n\u001b[1;32m    160\u001b[0m     interpolated_3d \u001b[38;5;241m=\u001b[39m np\u001b[38;5;241m.\u001b[39mstack([interpolator(U,V) \u001b[38;5;28;01mfor\u001b[39;00m interpolator \u001b[38;5;129;01min\u001b[39;00m interpolators], axis\u001b[38;5;241m=\u001b[39m\u001b[38;5;241m-\u001b[39m\u001b[38;5;241m1\u001b[39m)[::\u001b[38;5;241m-\u001b[39m\u001b[38;5;241m1\u001b[39m]\n\u001b[1;32m    161\u001b[0m \u001b[38;5;28;01mreturn\u001b[39;00m interpolated_3d\n",
      "File \u001b[0;32m~/Documents/UCSB/streichan/numerics/code/python code/jupyter notebooks/blender-tissue-cartography/blender_tissue_cartography/interpolation.py:159\u001b[0m, in \u001b[0;36m<listcomp>\u001b[0;34m(.0)\u001b[0m\n\u001b[1;32m    157\u001b[0m \u001b[38;5;28;01melse\u001b[39;00m:\n\u001b[1;32m    158\u001b[0m     triangulation \u001b[38;5;241m=\u001b[39m mpl\u001b[38;5;241m.\u001b[39mtri\u001b[38;5;241m.\u001b[39mTriangulation(\u001b[38;5;241m*\u001b[39mmatched_texture_vertices\u001b[38;5;241m.\u001b[39mT, mesh_triangles)\n\u001b[0;32m--> 159\u001b[0m     interpolators \u001b[38;5;241m=\u001b[39m [mpl\u001b[38;5;241m.\u001b[39mtri\u001b[38;5;241m.\u001b[39mLinearTriInterpolator(triangulation, x) \u001b[38;5;28;01mfor\u001b[39;00m x \u001b[38;5;129;01min\u001b[39;00m matched_vertices_or_normals\u001b[38;5;241m.\u001b[39mT]\n\u001b[1;32m    160\u001b[0m     interpolated_3d \u001b[38;5;241m=\u001b[39m np\u001b[38;5;241m.\u001b[39mstack([interpolator(U,V) \u001b[38;5;28;01mfor\u001b[39;00m interpolator \u001b[38;5;129;01min\u001b[39;00m interpolators], axis\u001b[38;5;241m=\u001b[39m\u001b[38;5;241m-\u001b[39m\u001b[38;5;241m1\u001b[39m)[::\u001b[38;5;241m-\u001b[39m\u001b[38;5;241m1\u001b[39m]\n\u001b[1;32m    161\u001b[0m \u001b[38;5;28;01mreturn\u001b[39;00m interpolated_3d\n",
      "File \u001b[0;32m~/Programs/miniconda3/envs/blender-tissue-cartography/lib/python3.11/site-packages/matplotlib/tri/_triinterpolate.py:258\u001b[0m, in \u001b[0;36mLinearTriInterpolator.__init__\u001b[0;34m(self, triangulation, z, trifinder)\u001b[0m\n\u001b[1;32m    257\u001b[0m \u001b[38;5;28;01mdef\u001b[39;00m \u001b[38;5;21m__init__\u001b[39m(\u001b[38;5;28mself\u001b[39m, triangulation, z, trifinder\u001b[38;5;241m=\u001b[39m\u001b[38;5;28;01mNone\u001b[39;00m):\n\u001b[0;32m--> 258\u001b[0m     \u001b[38;5;28msuper\u001b[39m()\u001b[38;5;241m.\u001b[39m\u001b[38;5;21m__init__\u001b[39m(triangulation, z, trifinder)\n\u001b[1;32m    260\u001b[0m     \u001b[38;5;66;03m# Store plane coefficients for fast interpolation calculations.\u001b[39;00m\n\u001b[1;32m    261\u001b[0m     \u001b[38;5;28mself\u001b[39m\u001b[38;5;241m.\u001b[39m_plane_coefficients \u001b[38;5;241m=\u001b[39m \\\n\u001b[1;32m    262\u001b[0m         \u001b[38;5;28mself\u001b[39m\u001b[38;5;241m.\u001b[39m_triangulation\u001b[38;5;241m.\u001b[39mcalculate_plane_coefficients(\u001b[38;5;28mself\u001b[39m\u001b[38;5;241m.\u001b[39m_z)\n",
      "File \u001b[0;32m~/Programs/miniconda3/envs/blender-tissue-cartography/lib/python3.11/site-packages/matplotlib/tri/_triinterpolate.py:43\u001b[0m, in \u001b[0;36mTriInterpolator.__init__\u001b[0;34m(self, triangulation, z, trifinder)\u001b[0m\n\u001b[1;32m     39\u001b[0m     \u001b[38;5;28;01mraise\u001b[39;00m \u001b[38;5;167;01mValueError\u001b[39;00m(\u001b[38;5;124m\"\u001b[39m\u001b[38;5;124mz array must have same length as triangulation x\u001b[39m\u001b[38;5;124m\"\u001b[39m\n\u001b[1;32m     40\u001b[0m                      \u001b[38;5;124m\"\u001b[39m\u001b[38;5;124m and y arrays\u001b[39m\u001b[38;5;124m\"\u001b[39m)\n\u001b[1;32m     42\u001b[0m _api\u001b[38;5;241m.\u001b[39mcheck_isinstance((TriFinder, \u001b[38;5;28;01mNone\u001b[39;00m), trifinder\u001b[38;5;241m=\u001b[39mtrifinder)\n\u001b[0;32m---> 43\u001b[0m \u001b[38;5;28mself\u001b[39m\u001b[38;5;241m.\u001b[39m_trifinder \u001b[38;5;241m=\u001b[39m trifinder \u001b[38;5;129;01mor\u001b[39;00m \u001b[38;5;28mself\u001b[39m\u001b[38;5;241m.\u001b[39m_triangulation\u001b[38;5;241m.\u001b[39mget_trifinder()\n\u001b[1;32m     45\u001b[0m \u001b[38;5;66;03m# Default scaling factors : 1.0 (= no scaling)\u001b[39;00m\n\u001b[1;32m     46\u001b[0m \u001b[38;5;66;03m# Scaling may be used for interpolations for which the order of\u001b[39;00m\n\u001b[1;32m     47\u001b[0m \u001b[38;5;66;03m# magnitude of x, y has an impact on the interpolant definition.\u001b[39;00m\n\u001b[1;32m     48\u001b[0m \u001b[38;5;66;03m# Please refer to :meth:`_interpolate_multikeys` for details.\u001b[39;00m\n\u001b[1;32m     49\u001b[0m \u001b[38;5;28mself\u001b[39m\u001b[38;5;241m.\u001b[39m_unit_x \u001b[38;5;241m=\u001b[39m \u001b[38;5;241m1.0\u001b[39m\n",
      "File \u001b[0;32m~/Programs/miniconda3/envs/blender-tissue-cartography/lib/python3.11/site-packages/matplotlib/tri/_triangulation.py:202\u001b[0m, in \u001b[0;36mTriangulation.get_trifinder\u001b[0;34m(self)\u001b[0m\n\u001b[1;32m    199\u001b[0m \u001b[38;5;28;01mif\u001b[39;00m \u001b[38;5;28mself\u001b[39m\u001b[38;5;241m.\u001b[39m_trifinder \u001b[38;5;129;01mis\u001b[39;00m \u001b[38;5;28;01mNone\u001b[39;00m:\n\u001b[1;32m    200\u001b[0m     \u001b[38;5;66;03m# Default TriFinder class.\u001b[39;00m\n\u001b[1;32m    201\u001b[0m     \u001b[38;5;28;01mfrom\u001b[39;00m \u001b[38;5;21;01mmatplotlib\u001b[39;00m\u001b[38;5;21;01m.\u001b[39;00m\u001b[38;5;21;01mtri\u001b[39;00m\u001b[38;5;21;01m.\u001b[39;00m\u001b[38;5;21;01m_trifinder\u001b[39;00m \u001b[38;5;28;01mimport\u001b[39;00m TrapezoidMapTriFinder\n\u001b[0;32m--> 202\u001b[0m     \u001b[38;5;28mself\u001b[39m\u001b[38;5;241m.\u001b[39m_trifinder \u001b[38;5;241m=\u001b[39m TrapezoidMapTriFinder(\u001b[38;5;28mself\u001b[39m)\n\u001b[1;32m    203\u001b[0m \u001b[38;5;28;01mreturn\u001b[39;00m \u001b[38;5;28mself\u001b[39m\u001b[38;5;241m.\u001b[39m_trifinder\n",
      "File \u001b[0;32m~/Programs/miniconda3/envs/blender-tissue-cartography/lib/python3.11/site-packages/matplotlib/tri/_trifinder.py:45\u001b[0m, in \u001b[0;36mTrapezoidMapTriFinder.__init__\u001b[0;34m(self, triangulation)\u001b[0m\n\u001b[1;32m     42\u001b[0m \u001b[38;5;28msuper\u001b[39m()\u001b[38;5;241m.\u001b[39m\u001b[38;5;21m__init__\u001b[39m(triangulation)\n\u001b[1;32m     43\u001b[0m \u001b[38;5;28mself\u001b[39m\u001b[38;5;241m.\u001b[39m_cpp_trifinder \u001b[38;5;241m=\u001b[39m _tri\u001b[38;5;241m.\u001b[39mTrapezoidMapTriFinder(\n\u001b[1;32m     44\u001b[0m     triangulation\u001b[38;5;241m.\u001b[39mget_cpp_triangulation())\n\u001b[0;32m---> 45\u001b[0m \u001b[38;5;28mself\u001b[39m\u001b[38;5;241m.\u001b[39m_initialize()\n",
      "File \u001b[0;32m~/Programs/miniconda3/envs/blender-tissue-cartography/lib/python3.11/site-packages/matplotlib/tri/_trifinder.py:89\u001b[0m, in \u001b[0;36mTrapezoidMapTriFinder._initialize\u001b[0;34m(self)\u001b[0m\n\u001b[1;32m     84\u001b[0m \u001b[38;5;28;01mdef\u001b[39;00m \u001b[38;5;21m_initialize\u001b[39m(\u001b[38;5;28mself\u001b[39m):\n\u001b[1;32m     85\u001b[0m \u001b[38;5;250m    \u001b[39m\u001b[38;5;124;03m\"\"\"\u001b[39;00m\n\u001b[1;32m     86\u001b[0m \u001b[38;5;124;03m    Initialize the underlying C++ object.  Can be called multiple times if,\u001b[39;00m\n\u001b[1;32m     87\u001b[0m \u001b[38;5;124;03m    for example, the triangulation is modified.\u001b[39;00m\n\u001b[1;32m     88\u001b[0m \u001b[38;5;124;03m    \"\"\"\u001b[39;00m\n\u001b[0;32m---> 89\u001b[0m     \u001b[38;5;28mself\u001b[39m\u001b[38;5;241m.\u001b[39m_cpp_trifinder\u001b[38;5;241m.\u001b[39minitialize()\n",
      "\u001b[0;31mRuntimeError\u001b[0m: Triangulation is invalid"
     ]
    }
   ],
   "source": [
    "projected_data_wrapped, projected_coordinates_wrapped, projected_normals_wrapped = tcinterp.create_cartographic_projections(\n",
    "    image=f\"{metadata_dict['filename']}.tif\",\n",
    "    mesh=f\"wrapping_example/Drosophila_reference_wrapped_msl.obj\",\n",
    "    resolution=metadata_dict[\"resolution_in_microns\"],\n",
    "    normal_offsets=normal_offsets,\n",
    "    uv_grid_steps=uv_grid_steps)"
   ]
  },
  {
   "cell_type": "code",
   "execution_count": null,
   "id": "80e45ea7",
   "metadata": {},
   "outputs": [],
   "source": [
    "# show the projected data - looks good!\n",
    "\n",
    "fig, (ax1, ax2) = plt.subplots(figsize=(8,8), ncols=2)\n",
    "ax1.imshow(projected_data_wrapped[0, 0], vmax=10000)\n",
    "ax2.imshow(projected_data_wrapped[0, 2], vmax=10000)"
   ]
  },
  {
   "cell_type": "code",
   "execution_count": null,
   "id": "220bf98b",
   "metadata": {},
   "outputs": [],
   "source": []
  },
  {
   "cell_type": "code",
   "execution_count": null,
   "id": "afc501a3",
   "metadata": {},
   "outputs": [],
   "source": []
  }
 ],
 "metadata": {
  "kernelspec": {
   "display_name": "Python [conda env:blender-tissue-cartography]",
   "language": "python",
   "name": "conda-env-blender-tissue-cartography-py"
  },
  "language_info": {
   "codemirror_mode": {
    "name": "ipython",
    "version": 3
   },
   "file_extension": ".py",
   "mimetype": "text/x-python",
   "name": "python",
   "nbconvert_exporter": "python",
   "pygments_lexer": "ipython3",
   "version": "3.11.9"
  }
 },
 "nbformat": 4,
 "nbformat_minor": 5
}

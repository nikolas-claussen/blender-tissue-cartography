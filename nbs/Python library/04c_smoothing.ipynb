{
 "cells": [
  {
   "cell_type": "code",
   "execution_count": null,
   "id": "b2a0b50e",
   "metadata": {},
   "outputs": [],
   "source": [
    "#| default_exp smoothing"
   ]
  },
  {
   "cell_type": "markdown",
   "id": "db284ad4",
   "metadata": {},
   "source": [
    "## Mesh smoothing\n",
    "\n",
    "> Smooth mesh with various filters"
   ]
  },
  {
   "cell_type": "code",
   "execution_count": null,
   "id": "9548e157",
   "metadata": {},
   "outputs": [],
   "source": [
    "#| export\n",
    "\n",
    "from blender_tissue_cartography import mesh as tcmesh\n",
    "from blender_tissue_cartography import registration as tcreg\n",
    "\n",
    "import numpy as np\n",
    "from copy import deepcopy\n",
    "import warnings\n",
    "import igl\n",
    "\n",
    "from scipy import sparse"
   ]
  },
  {
   "cell_type": "code",
   "execution_count": null,
   "id": "20675761",
   "metadata": {},
   "outputs": [],
   "source": [
    "#| hide\n",
    "from blender_tissue_cartography import interpolation as tcinterp\n",
    "from skimage import transform\n",
    "import matplotlib.pyplot as plt"
   ]
  },
  {
   "cell_type": "code",
   "execution_count": null,
   "id": "f5d325e1",
   "metadata": {},
   "outputs": [],
   "source": [
    "#| hide\n",
    "np.set_printoptions(suppress=True)"
   ]
  },
  {
   "cell_type": "markdown",
   "id": "4d54e2d0",
   "metadata": {},
   "source": [
    "### Smoothing in `libigl`\n",
    "\n",
    "We implement Laplacian and Taubin smoothing for vertex positions using `libigl`'s Laplacian operator."
   ]
  },
  {
   "cell_type": "code",
   "execution_count": null,
   "id": "b85b8216",
   "metadata": {},
   "outputs": [],
   "source": [
    "#| export\n",
    "\n",
    "def get_uniform_laplacian(tris, normalize=True):\n",
    "    \"\"\"\n",
    "    Get uniform Laplacian (purely connectivity-based) as a sparse matrix.\n",
    "    \n",
    "    If normalize, the diagonal = -1. Else, the diagonal equals the number of neighbors.\n",
    "    \"\"\"\n",
    "    a = igl.adjacency_matrix(tris)\n",
    "    a_sum = np.squeeze(np.asarray(a.sum(axis=1)))\n",
    "    a_diag = sparse.diags(a_sum)\n",
    "    if normalize:\n",
    "        return sparse.diags(1/a_sum)@(a - a_diag)\n",
    "    return (a - a_diag)"
   ]
  },
  {
   "cell_type": "code",
   "execution_count": null,
   "id": "2398a587",
   "metadata": {},
   "outputs": [],
   "source": [
    "#| export\n",
    "\n",
    "def smooth_laplacian(mesh: tcmesh.ObjMesh, lamb=0.5, n_iter=10, method=\"explicit\", boundary=\"fixed\") -> tcmesh.ObjMesh:\n",
    "    \"\"\"\n",
    "    Smooth mesh vertex positions using Laplacian filter.\n",
    "    \n",
    "    Assumes mesh is triangular.\n",
    "    \n",
    "    Parameters\n",
    "    ----------\n",
    "    mesh : ObjMesh\n",
    "        Initial mesh.\n",
    "    lamb : float, default 0.5\n",
    "        Filter strength. Higher = more smoothing.\n",
    "    n_iter : int\n",
    "        Filter iterations\n",
    "    method : str, default \"explicit\"\n",
    "        Can use \"explicit\" (fast, simple) or \"implicit\" (slow, more accurate) methods.\n",
    "    boundary : str, \"fixed\" or \"free\"\n",
    "        Whether to allow mesh boundaries to move\n",
    "\n",
    "    Returns\n",
    "    -------\n",
    "    mesh_smoothed : ObjMesh\n",
    "        Smoothed mesh.\n",
    "\n",
    "    \"\"\"\n",
    "    if not mesh.is_triangular:\n",
    "        warnings.warn(f\"Warning: mesh not triangular - result may be incorrect\", RuntimeWarning)\n",
    "    v_smoothed = np.copy(mesh.vertices)\n",
    "    f = mesh.tris\n",
    "    boundary_vertices = igl.boundary_facets(f)[:, 0]\n",
    "\n",
    "    if method == \"implicit\":\n",
    "        laplacian = igl.cotmatrix(v_smoothed, f)\n",
    "        for _ in range(n_iter):\n",
    "            mass = igl.massmatrix(v_smoothed, f, igl.MASSMATRIX_TYPE_BARYCENTRIC)\n",
    "            v_smoothed = sparse.linalg.spsolve(mass - lamb * laplacian, mass.dot(v_smoothed))\n",
    "            if boundary == \"fixed\":\n",
    "                v_smoothed[boundary_vertices] = mesh.vertices[boundary_vertices]\n",
    "    elif method == \"explicit\":\n",
    "        laplacian_uniform = get_uniform_laplacian(f)\n",
    "        for _ in range(n_iter):\n",
    "            v_smoothed += lamb*laplacian_uniform.dot(v_smoothed)\n",
    "            if boundary == \"fixed\":\n",
    "                v_smoothed[boundary_vertices] = mesh.vertices[boundary_vertices]\n",
    "    mesh_smoothed = tcmesh.ObjMesh(v_smoothed, mesh.faces, texture_vertices=mesh.texture_vertices,\n",
    "                                 normals=None, name=mesh.name)\n",
    "    mesh_smoothed.set_normals()\n",
    "    return mesh_smoothed"
   ]
  },
  {
   "cell_type": "code",
   "execution_count": null,
   "id": "42b41f04",
   "metadata": {},
   "outputs": [
    {
     "name": "stderr",
     "output_type": "stream",
     "text": [
      "Warning: readOBJ() ignored non-comment line 1:\n",
      "  o Drosophila_reference_preregistered\n"
     ]
    }
   ],
   "source": [
    "# Load a test mesh\n",
    "mesh_registered = tcmesh.ObjMesh.read_obj(f\"datasets/wrapping_example/Drosophila_reference_registered.obj\")"
   ]
  },
  {
   "cell_type": "code",
   "execution_count": null,
   "id": "39ffca08",
   "metadata": {},
   "outputs": [],
   "source": [
    "mesh_smoothed = smooth_laplacian(mesh_registered, lamb=0.5, n_iter=10, method=\"explicit\")\n",
    "mesh_smoothed.write_obj(\"datasets/wrapping_example/Drosophila_reference_smoothed_uniform_igl.obj\")"
   ]
  },
  {
   "cell_type": "code",
   "execution_count": null,
   "id": "407d2322",
   "metadata": {},
   "outputs": [],
   "source": [
    "boundary_vertices = igl.boundary_facets(mesh_registered.texture_tris)[:, 0]"
   ]
  },
  {
   "cell_type": "code",
   "execution_count": null,
   "id": "06815f76",
   "metadata": {},
   "outputs": [
    {
     "data": {
      "text/plain": [
       "True"
      ]
     },
     "execution_count": null,
     "metadata": {},
     "output_type": "execute_result"
    }
   ],
   "source": [
    "np.allclose(mesh_smoothed.texture_vertices[boundary_vertices],\n",
    "            mesh_registered.texture_vertices[boundary_vertices])"
   ]
  },
  {
   "cell_type": "code",
   "execution_count": null,
   "id": "5e0b7f41",
   "metadata": {},
   "outputs": [],
   "source": [
    "#| export\n",
    "\n",
    "def smooth_taubin(mesh: tcmesh.ObjMesh, lamb=0.5, nu=0.53, n_iter=10,) -> tcmesh.ObjMesh:\n",
    "    \"\"\"\n",
    "    Smooth using Taubin filter (like Laplacian, but avoids shrinkage).\n",
    "    \n",
    "    Assumes mesh is triangular. See \"Improved Laplacian Smoothing of Noisy Surface Meshes\"\n",
    "    J. Vollmer, R. Mencl, and H. Muller.\n",
    "    \n",
    "    Parameters\n",
    "    ----------\n",
    "    mesh : ObjMesh\n",
    "        Initial mesh.\n",
    "    lamb : float, default 0.5\n",
    "        Filter strength. Higher = more smoothing.\n",
    "    nu : float, default 0.53\n",
    "        Counteract shrinkage. Higher = more dilation.\n",
    "    n_iter : int\n",
    "        Filter iterations\n",
    "\n",
    "    Returns\n",
    "    -------\n",
    "    mesh_smoothed : ObjMesh\n",
    "        Smoothed mesh.\n",
    "\n",
    "    \"\"\"\n",
    "    if not mesh.is_triangular:\n",
    "        warnings.warn(f\"Warning: mesh not triangular - result may be incorrect\", RuntimeWarning)\n",
    "    v_smoothed = np.copy(mesh.vertices)\n",
    "    laplacian_uniform = get_uniform_laplacian(mesh.tris)\n",
    "    for _ in range(n_iter):\n",
    "        v_smoothed += lamb*laplacian_uniform.dot(v_smoothed)\n",
    "        v_smoothed -= nu*laplacian_uniform.dot(v_smoothed)\n",
    "    mesh_smoothed = tcmesh.ObjMesh(v_smoothed, mesh.faces, texture_vertices=mesh.texture_vertices,\n",
    "                                 normals=None, name=mesh.name)\n",
    "    mesh_smoothed.set_normals()\n",
    "    return mesh_smoothed"
   ]
  },
  {
   "cell_type": "code",
   "execution_count": null,
   "id": "acf038ef",
   "metadata": {},
   "outputs": [],
   "source": [
    "mesh_smoothed_taubin = smooth_taubin(mesh_registered, lamb=0.5, nu=0.53, n_iter=10)\n",
    "mesh_smoothed_taubin.write_obj(\"datasets/wrapping_example/Drosophila_reference_smoothed_taubin_igl.obj\")"
   ]
  },
  {
   "cell_type": "markdown",
   "id": "ee5748e8",
   "metadata": {},
   "source": [
    "## Texture smoothing\n",
    "\n",
    "Sometimes, UV maps can become very deformed, or even display self-intersection. Smoothing can fix this."
   ]
  },
  {
   "cell_type": "code",
   "execution_count": null,
   "id": "5123ff58",
   "metadata": {},
   "outputs": [],
   "source": [
    "#| export\n",
    "\n",
    "def smooth_laplacian_texture(mesh: tcmesh.ObjMesh, lamb=0.5, n_iter=10, boundary=\"fixed\") -> tcmesh.ObjMesh:\n",
    "    \"\"\"\n",
    "    Smooth mesh texture positions using Laplacian filter.\n",
    "    \n",
    "    This function is very helpful in fixing UV maps with flipped triangles, as detected by\n",
    "    igl.flipped_triangles. Assumes mesh is triangular.\n",
    "    \n",
    "    Parameters\n",
    "    ----------\n",
    "    mesh : ObjMesh\n",
    "        Initial mesh.\n",
    "    lamb : float, default 0.5\n",
    "        Filter strength. Higher = more smoothing.\n",
    "    n_iter : int\n",
    "        Filter iterations\n",
    "    boundary : str, \"fixed\" or \"free\"\n",
    "         Whether to allow UV \"island\" boundary to move\n",
    "\n",
    "    Returns\n",
    "    -------\n",
    "    mesh_smoothed : ObjMesh\n",
    "        Smoothed mesh.\n",
    "\n",
    "    \"\"\"\n",
    "    if not mesh.is_triangular:\n",
    "        warnings.warn(f\"Warning: mesh not triangular - result may be incorrect\", RuntimeWarning)\n",
    "    v_smoothed = np.copy(mesh.texture_vertices)\n",
    "    f = mesh.texture_tris\n",
    "    laplacian_uniform = get_uniform_laplacian(f)\n",
    "    boundary_vertices = igl.boundary_facets(f)[:, 0]\n",
    "\n",
    "    for _ in range(n_iter):\n",
    "        v_smoothed += lamb*laplacian_uniform.dot(v_smoothed)\n",
    "        if boundary == \"fixed\":\n",
    "            v_smoothed[boundary_vertices] = mesh.texture_vertices[boundary_vertices]\n",
    "    mesh_smoothed = tcmesh.ObjMesh(mesh.vertices, mesh.faces, texture_vertices=v_smoothed,\n",
    "                                 normals=mesh.normals, name=mesh.name)\n",
    "    return mesh_smoothed"
   ]
  },
  {
   "cell_type": "code",
   "execution_count": null,
   "id": "48e5deca",
   "metadata": {},
   "outputs": [],
   "source": [
    "mesh_texture_smoothed = smooth_laplacian_texture(mesh_registered, lamb=0.5, n_iter=10,)\n"
   ]
  },
  {
   "cell_type": "markdown",
   "id": "d13db78c",
   "metadata": {},
   "source": [
    "### On-surface smoothing\n",
    "\n",
    "Smooth, but project at each step so the mesh vertices are back on the surface. This is very useful to smooth out surface-surface maps."
   ]
  },
  {
   "cell_type": "code",
   "execution_count": null,
   "id": "1c3cc499",
   "metadata": {},
   "outputs": [],
   "source": [
    "#| export\n",
    "\n",
    "def smooth_laplacian_on_surface(mesh: tcmesh.ObjMesh, n_iter=10, lamb=0.5, n_iter_laplace=10,\n",
    "                                boundary=\"fixed\") -> tcmesh.ObjMesh:\n",
    "    \"\"\"\n",
    "    Smooth mesh vertex positions using Laplacian filter and project vertices back to the original surface.\n",
    "    \n",
    "    Alternates between Laplacian smoothing and projecting back to the original surface. Uses\n",
    "    explicit method for Laplacian smoothing\n",
    "    \n",
    "    Parameters\n",
    "    ----------\n",
    "    mesh : ObjMesh\n",
    "        Initial mesh.\n",
    "    n_iter : int\n",
    "        Number of iterations at each step\n",
    "    lamb : float, default 0.5\n",
    "        Filter strength. Higher = more smoothing.\n",
    "    n_iter_laplace : int\n",
    "        Laplace filter iterations. If reprojection messes up your mesh, decrease this number.\n",
    "    boundary : str, \"fixed\" or \"free\"\n",
    "        Whether to allow mesh boundaries to move\n",
    "\n",
    "    Returns\n",
    "    -------\n",
    "    mesh_smoothed : ObjMesh\n",
    "        Smoothed mesh.\n",
    "\n",
    "    \"\"\"\n",
    "    if not mesh.is_triangular:\n",
    "        warnings.warn(f\"Warning: mesh not triangular - result may be incorrect\", RuntimeWarning)\n",
    "    v_reference = np.copy(mesh.vertices)\n",
    "    v_smoothed = np.copy(mesh.vertices)\n",
    "    f = mesh.tris\n",
    "    boundary_vertices = igl.boundary_facets(f)[:, 0]\n",
    "    laplacian_uniform = get_uniform_laplacian(f)\n",
    "\n",
    "    for _ in range(n_iter):\n",
    "        # smooth\n",
    "        for _ in range(n_iter):\n",
    "            v_smoothed += lamb*laplacian_uniform.dot(v_smoothed)\n",
    "            if boundary == \"fixed\":\n",
    "                v_smoothed[boundary_vertices] = mesh.vertices[boundary_vertices]\n",
    "        # project \n",
    "        _, _, v_smoothed = igl.point_mesh_squared_distance(v_smoothed, v_reference, f)\n",
    "        v_reference = np.copy(v_smoothed)\n",
    "    mesh_smoothed = tcmesh.ObjMesh(v_smoothed, mesh.faces, texture_vertices=mesh.texture_vertices,\n",
    "                                 normals=mesh.normals, name=mesh.name)\n",
    "    mesh_smoothed.set_normals()\n",
    "    return mesh_smoothed"
   ]
  },
  {
   "cell_type": "code",
   "execution_count": null,
   "id": "41224bea",
   "metadata": {},
   "outputs": [],
   "source": [
    "mesh_test = tcmesh.ObjMesh.read_obj(f\"datasets/movie_example/meshes_wrapped_reverse/mesh_01_wrapped_reverse.obj\")\n",
    "mesh_smoothed = smooth_laplacian_on_surface(mesh_test, n_iter=20, lamb=0.5, n_iter_laplace=5)\n",
    "mesh_smoothed.write_obj(f\"datasets/movie_example/on_surface_smooth.obj\")"
   ]
  },
  {
   "cell_type": "code",
   "execution_count": null,
   "id": "c5438e7b-defb-4974-b8c8-2de6b7c2eaab",
   "metadata": {},
   "outputs": [],
   "source": []
  }
 ],
 "metadata": {
  "kernelspec": {
   "display_name": "conda-env-blender-tissue-cartography-py",
   "language": "python",
   "name": "conda-env-blender-tissue-cartography-py"
  }
 },
 "nbformat": 4,
 "nbformat_minor": 5
}

{
 "cells": [
  {
   "cell_type": "markdown",
   "id": "48996fd9",
   "metadata": {},
   "source": [
    "## Movie pipeline\n",
    "\n",
    "\n",
    "**Main idea**: define UV map for first frame. Then shrink-wrap the first frame onto the mesh of the next frame (i.e. set vertex positions to the closest point on next frame's mesh, with an optional step of affine registration in between). On the shrink-wrapped mesh, we have our UV map, so we can use it for pullbacks. Best to carry out a little (corrective/Taubin) smoothing of shrink-wrap target and wrapped mesh to ensure better results.\n",
    "\n",
    "**Main problem**: However, shrink-wrap runs into problems when large deformations appear which make remeshing necessary. \n",
    "\n",
    "**Possible solutions**:\n",
    "\n",
    "- Remeshing. In blender, remeshing does _not_ preserve UV info (since you create a new mesh).\n",
    "    - Pymeshlab: what is the behavior of `meshing_isotropic_explicit_remeshing` ? \n",
    "\n",
    "- Instead of deforming mesh of first frame, copy the UV info onto the target mesh. Possible in pymeshlab and blender. Problem: this will create issues at seams - the UV info is interpolated to copy, and this will create bad results where the UV map is discontinouous. Option - only do this from time to time?\n",
    "    - Pymeshlab: `transfer_attributes_per_vertex`\n",
    "    \n",
    "- Subdivision. This creates a new, finer topology, which can accomodate the shape transformations. But the new faces are a superset of the old faces, and hence the UV info is preserved. Applying subdivision _everywhere_ does not help, since this greatly increases the size of the mesh each time. We only want to subdivide where it is necessary.  Note: Catmull-Clark is not great on triangular meshes, made for quads. Multiresolution Modifier in blender? Does not seem to subdivide only where necessary. Adaptive resolution in blender? Loop subdivision algorithm? What about libigl? \n",
    "    - Pymeshlab: ` meshing_surface_subdivision_loop`/`meshing_surface_subdivision_ls3_loop`/`meshing_surface_subdivision_butterfly`/`meshing_surface_subdivision_midpoint`. Can select which faces/edges to refine! Very helpful potentially is `meshing_vertex_attribute_seam`.\n",
    "    - Libigl: `loop`/`loop_subdivision_matrix`. This is _uniform_ remeshing.\n",
    "    - Trimesh: `trimesh.remesh.subdivide_to_size`. Unfortunately returns a \"triangle soup\" not an actual mesh.\n",
    "\n",
    "**Other improvements which may help** \n",
    "\n",
    "- What happens if you start with a very deformed mesh and go the other way, i.e. apply your UV map in reverse? In general it is better to go from deformed to less deformed. In particular for growing surfaces, reverse in time is easiest way to go for sure.\n",
    "\n",
    "- For better quality, create an average shape for making your initial UV map? Like a prototype mesh. Could do so by shrink-wrapping a mesh onto a few targets, and then averaging vertex positions, plus smooth and isotropic remeshing.\n",
    "\n",
    "**Outlier filtering**\n",
    "\n",
    "For mesh project."
   ]
  },
  {
   "cell_type": "markdown",
   "id": "5c25698e",
   "metadata": {},
   "source": [
    "**Other notes**\n",
    "\n",
    "- Blender make multi-color surfaces (using texture and material preview) and Semi-Transparent too. Can surely be done without UV map (texture coordinates I think)"
   ]
  },
  {
   "cell_type": "markdown",
   "id": "3e95dc00",
   "metadata": {},
   "source": [
    "**Other options**\n",
    "\n",
    "The other option, generally speaking, is to UV map from each timepoint mesh separately. Then use a reproducible algorithm of sorts to make sure one has consistent maps. Overall this is the strategy of Noah and Dillon. But this interferes with the idea of a graphical, interactive way of making UV maps! Maybe we can still learn something from the tubular paper."
   ]
  },
  {
   "cell_type": "markdown",
   "id": "c39a8f17",
   "metadata": {},
   "source": []
  }
 ],
 "metadata": {
  "kernelspec": {
   "display_name": "Python [conda env:blender-tissue-cartography] *",
   "language": "python",
   "name": "conda-env-blender-tissue-cartography-py"
  },
  "language_info": {
   "codemirror_mode": {
    "name": "ipython",
    "version": 3
   },
   "file_extension": ".py",
   "mimetype": "text/x-python",
   "name": "python",
   "nbconvert_exporter": "python",
   "pygments_lexer": "ipython3",
   "version": "3.11.9"
  }
 },
 "nbformat": 4,
 "nbformat_minor": 5
}

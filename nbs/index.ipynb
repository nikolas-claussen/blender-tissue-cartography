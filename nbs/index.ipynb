{
 "cells": [
  {
   "cell_type": "code",
   "execution_count": null,
   "metadata": {},
   "outputs": [],
   "source": [
    "#| hide\n",
    "from blender_tissue_cartography.core import *"
   ]
  },
  {
   "cell_type": "markdown",
   "metadata": {},
   "source": [
    "# blender-tissue-cartography\n",
    "\n",
    "> Pipeline for tissue extraction and analysis of surfaces from volumetric microscopy data using blender"
   ]
  },
  {
   "cell_type": "markdown",
   "metadata": {},
   "source": [
    "## Install"
   ]
  },
  {
   "cell_type": "markdown",
   "metadata": {},
   "source": [
    "Clone the git repository and then run\n",
    "\n",
    "```sh\n",
    "pip install -e '.[dev]'\n",
    "```"
   ]
  },
  {
   "cell_type": "markdown",
   "metadata": {},
   "source": [
    "## Dependencies\n",
    "\n",
    "### Required\n",
    "\n",
    "- Python, with the following libraries\n",
    "    - [jupyter](https://jupyter.org/)\n",
    "    - [Numpy](https://numpy.org/) / [Matplotlib](https://matplotlib.org/) / [Scipy](https://scipy.org/)\n",
    "    - [skimage](https://scikit-image.org) various image processing tools.\n",
    "    - [h5py](https://www.h5py.org/)  for reading/writing of `.h5` files.\n",
    "    - [tifffile](https://github.com/cgohlke/tifffile/) for reading/writing of `.tif` files, including metadata.\n",
    "    - [PyMCubes](https://github.com/pmneila/PyMCubes) Marching cubes.\n",
    "    - [PyMeshLab](https://pymeshlab.readthedocs.io/en/latest/index.html) Python interface to MeshLab.\n",
    "- [Ilastik](https://www.ilastik.org/) Image classification and segmentation,\n",
    "- [Meshlab](https://www.meshlab.net/) GUI and python library with advanced surface reconstruction tools (required for some workflows).\n",
    "- [Blender](https://www.blender.org/) Mesh editing and UV mapping.\n",
    "\n",
    "### Optional\n",
    "\n",
    "- Python libraries:\n",
    "    - [Morphsnakes](https://github.com/pmneila/morphsnakes) \"Inflating balloon\" segmentation \n",
    "    - [trimesh](https://trimesh.org/) for working with triangular meshes\n",
    "    - [nbdev](https://nbdev.fast.ai/tutorials/tutorial.html) for notebook-based development, if you want to add your own code\n",
    "- Blender plugins:\n",
    "    - [MicroscopyNodes](https://github.com/oanegros/MicroscopyNodes) for rendering volumetric `.tif` files in blender\n",
    "    - [Uvsquares](https://github.com/Radivarig/UvSquares) For UV maps with uniform distortion"
   ]
  },
  {
   "cell_type": "markdown",
   "metadata": {},
   "source": [
    "## How to use\n",
    "\n",
    "To start a tissue cartography project, create a folders to hold your data and results. Copy your `.tif` microscopy data and one of the template jupyter notebooks into the folders, launch jupyter, and follow the instructions.\n",
    "\n",
    "To see how things work, it's best to start with a fully-worked out example (see the different `example_` folders)."
   ]
  }
 ],
 "metadata": {
  "kernelspec": {
   "display_name": "python3",
   "language": "python",
   "name": "python3"
  }
 },
 "nbformat": 4,
 "nbformat_minor": 4
}

{
 "cells": [
  {
   "cell_type": "code",
   "execution_count": null,
   "metadata": {},
   "outputs": [],
   "source": [
    "#| hide\n",
    "from blender_tissue_cartography.core import *"
   ]
  },
  {
   "cell_type": "markdown",
   "metadata": {},
   "source": [
    "# blender-tissue-cartography\n",
    "\n",
    "> Extract surfaces from volumetric microscopy data and project image data to planar textures using blender"
   ]
  },
  {
   "cell_type": "markdown",
   "metadata": {},
   "source": [
    "## Work in progress!\n",
    "\n",
    "- Tools for individual recordings are in a reasonably complete state.\n",
    "- Support for multiple recordings (e.g. frames of a movie with a dynamic surface or multiple images of similarly-shaped structures) is in progress\n",
    "    - Done: automated affine registration, manual wrapping\n",
    "    - To do: automated wrapping.\n",
    "    \n",
    "- Goal: have stuff like `open3d` and `pymeshlab` be as modular a component as possible. don't make them the main data structure. make conversion tools to/from `open3d` and `pymeshlab`"
   ]
  },
  {
   "cell_type": "markdown",
   "metadata": {},
   "source": [
    "## Installation\n",
    "\n",
    "1. Install required non-python programs: [Fiji](https://fiji.sc/) (optional), [Ilastik](https://www.ilastik.org/), [Meshlab](https://www.meshlab.net/) (optional), and [Blender](https://www.blender.org/).\n",
    "\n",
    "2. Install python via [anaconda/miniconda](https://docs.anaconda.com/miniconda/miniconda-install/), if you haven't already.\n",
    "\n",
    "3. Download and unpack `blender-tissue-cartography` (\"Code -> Download Zip\", or clone the github repository).\n",
    "\n",
    "4. Create a `conda` environment with all python dependencies and install the `blender-tissue-cartography` module. Open a command window in the `blender-tissue-cartography` directory and type:\n",
    "    - `conda env create -n blender-tissue-cartography -f environment.yml` \n",
    "    - `conda activate blender-tissue-cartography`\n",
    "    - `pip install -e '.[dev]'\n",
    "\n",
    "5. (Optional) Install the Blender plugin [MicroscopyNodes](https://github.com/oanegros/MicroscopyNodes) for rendering volumetric `.tif` files in blender"
   ]
  },
  {
   "cell_type": "markdown",
   "metadata": {},
   "source": [
    "## How to use\n",
    "\n",
    "To start a tissue cartography project, create a folders to hold your data and results. Copy your `.tif` microscopy data and one of the template jupyter notebooks into the folders, [launch jupyter](https://docs.jupyter.org/en/latest/running.html), and follow the instructions.\n",
    "\n",
    "To see how things work, it's best to start with a fully-worked out example - [launch jupyter](https://docs.jupyter.org/en/latest/running.html) and open `nbs/03_spherical_example.ipynb`. To understand how the software is designed, work though the notebooks in the `nbs/` folder in numerical order.\n",
    "\n",
    "Here's a screenshot to give you an idea of the work flow for the example _Drosophila_ dataset: Volumetric data in ImageJ (center), jupyter computational notebook to run the `blender-tissue-cartography` module (left), and blender project with extracted mesh and texture (right):"
   ]
  },
  {
   "cell_type": "markdown",
   "metadata": {},
   "source": [
    "![title](screenshot_readme.png)"
   ]
  },
  {
   "cell_type": "markdown",
   "metadata": {},
   "source": [
    "## Software stack\n",
    "\n",
    "### Required\n",
    "\n",
    "- Python, with the following libraries\n",
    "    - [jupyter](https://jupyter.org/)\n",
    "    - [Numpy](https://numpy.org/) / [Matplotlib](https://matplotlib.org/) / [Scipy](https://scipy.org/)\n",
    "    - [skimage](https://scikit-image.org) various image processing tools.\n",
    "    - [h5py](https://www.h5py.org/)  for reading/writing of `.h5` files.\n",
    "    - [tifffile](https://github.com/cgohlke/tifffile/) for reading/writing of `.tif` files, including metadata.\n",
    "    - [PyMCubes](https://github.com/pmneila/PyMCubes) Marching cubes.\n",
    "    - [PyMeshLab](https://pymeshlab.readthedocs.io/en/latest/index.html) Python interface to MeshLab.\n",
    "- [Ilastik](https://www.ilastik.org/) Image classification and segmentation,\n",
    "- [Meshlab](https://www.meshlab.net/) GUI and python library with advanced surface reconstruction tools (required for some workflows).\n",
    "- [Blender](https://www.blender.org/) Mesh editing and UV mapping.\n",
    "\n",
    "### Optional\n",
    "\n",
    "- Python libraries:\n",
    "    - [Morphsnakes](https://github.com/pmneila/morphsnakes) \"Inflating balloon\" segmentation \n",
    "    - [nbdev](https://nbdev.fast.ai/tutorials/tutorial.html) for notebook-based development, if you want to add your own code\n",
    "    - [trimesh](https://trimesh.org/) for working with triangular meshes\n",
    "- Blender plugins:\n",
    "    - [MicroscopyNodes](https://github.com/oanegros/MicroscopyNodes) for rendering volumetric `.tif` files in blender\n",
    "    - [Uvsquares](https://github.com/Radivarig/UvSquares) For UV maps with uniform distortion"
   ]
  }
 ],
 "metadata": {
  "kernelspec": {
   "display_name": "Python 3 (ipykernel)",
   "language": "python",
   "name": "python3"
  },
  "language_info": {
   "codemirror_mode": {
    "name": "ipython",
    "version": 3
   },
   "file_extension": ".py",
   "mimetype": "text/x-python",
   "name": "python",
   "nbconvert_exporter": "python",
   "pygments_lexer": "ipython3",
   "version": "3.9.18"
  }
 },
 "nbformat": 4,
 "nbformat_minor": 4
}

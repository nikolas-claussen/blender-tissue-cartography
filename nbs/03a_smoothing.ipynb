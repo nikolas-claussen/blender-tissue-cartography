{
 "cells": [
  {
   "cell_type": "code",
   "execution_count": 1,
   "id": "b2a0b50e",
   "metadata": {},
   "outputs": [],
   "source": [
    "#| default_exp smoothing"
   ]
  },
  {
   "cell_type": "code",
   "execution_count": 2,
   "id": "9548e157",
   "metadata": {},
   "outputs": [],
   "source": [
    "#| export\n",
    "\n",
    "from blender_tissue_cartography import io as tcio\n",
    "from blender_tissue_cartography import registration as tcreg\n",
    "\n",
    "import numpy as np\n",
    "from copy import deepcopy\n",
    "import warnings\n",
    "import igl\n",
    "\n",
    "from scipy import sparse"
   ]
  },
  {
   "cell_type": "code",
   "execution_count": 3,
   "id": "20675761",
   "metadata": {},
   "outputs": [],
   "source": [
    "from blender_tissue_cartography import interpolation as tcinterp\n",
    "from skimage import transform\n",
    "import matplotlib.pyplot as plt"
   ]
  },
  {
   "cell_type": "code",
   "execution_count": 4,
   "id": "dd2642e1",
   "metadata": {},
   "outputs": [],
   "source": [
    "from tqdm.notebook import tqdm\n",
    "from importlib import reload"
   ]
  },
  {
   "cell_type": "code",
   "execution_count": 5,
   "id": "f5d325e1",
   "metadata": {},
   "outputs": [],
   "source": [
    "np.set_printoptions(suppress=True)"
   ]
  },
  {
   "cell_type": "markdown",
   "id": "db284ad4",
   "metadata": {},
   "source": [
    "## Mesh smoothing\n",
    "\n",
    "Here, we implement several mesh smoothing methods using `libigl`."
   ]
  },
  {
   "cell_type": "code",
   "execution_count": 5,
   "id": "42b41f04",
   "metadata": {},
   "outputs": [],
   "source": [
    "# load a test mesh\n",
    "mesh_registered = tcio.ObjMesh.read_obj(f\"wrapping_example/Drosophila_reference_registered.obj\")"
   ]
  },
  {
   "cell_type": "markdown",
   "id": "a5453f24",
   "metadata": {},
   "source": [
    "## Procedural wrapping\n",
    "\n",
    "We can also automatically wrap using blender's python API. Let's see how it works. \n",
    "- Annoyingly, blender scripts cannot be directly run from python. It must be done from within the blender script window. The goal here would be to write a script that can be either easily run in blender, or run from the command line (also possible via python's `shutil`).\n",
    "- `libigl`'s `point_mesh_squared_distance`"
   ]
  },
  {
   "cell_type": "markdown",
   "id": "4d54e2d0",
   "metadata": {},
   "source": [
    "### Smoothing in `libigl`\n",
    "\n",
    "We implement Laplacian and Taubin smoothing for vertex positions using `libigl`'s Laplacian operator."
   ]
  },
  {
   "cell_type": "code",
   "execution_count": 6,
   "id": "b85b8216",
   "metadata": {},
   "outputs": [],
   "source": [
    "#| export\n",
    "\n",
    "def get_uniform_laplacian(tris, normalize=True):\n",
    "    \"\"\"\n",
    "    Get uniform Laplacian (purely connectivity based) as sparse matrix.\n",
    "    \n",
    "    If normalize, the diagonal = -1. Else, diagonal equals number of neighbors.\n",
    "    \"\"\"\n",
    "    a = igl.adjacency_matrix(tris)\n",
    "    a_sum = np.squeeze(np.asarray(a.sum(axis=1)))\n",
    "    a_diag = sparse.diags(a_sum)\n",
    "    if normalize:\n",
    "        return sparse.diags(1/a_sum)@(a - a_diag)\n",
    "    return (a - a_diag)"
   ]
  },
  {
   "cell_type": "code",
   "execution_count": 7,
   "id": "2398a587",
   "metadata": {},
   "outputs": [],
   "source": [
    "#| export\n",
    "\n",
    "def smooth_laplacian(mesh: tcio.ObjMesh, lamb=0.5, n_iter=10, method=\"explicit\", boundary=\"fixed\") -> tcio.ObjMesh:\n",
    "    \"\"\"\n",
    "    Smooth mesh vertex positions using Laplacian filter.\n",
    "    \n",
    "    Assumes mesh is triangular.\n",
    "    \n",
    "    Parameters\n",
    "    ----------\n",
    "    mesh : ObjMesh\n",
    "        Initial mesh.\n",
    "    lamb : float, default 0.5\n",
    "        Filter strength. Higher = more smoothing.\n",
    "    n_iter : int\n",
    "        Filter iterations\n",
    "    method : str, default \"explicit\"\n",
    "        Can use explicit (fast, simple) or implicit (slow, more accurate) method.\n",
    "    boundary : str, \"fixed\" or \"free\"\n",
    "        Whether to allow mesh boundary to move\n",
    "\n",
    "    Returns\n",
    "    -------\n",
    "    mesh_smoothed : ObjMesh\n",
    "        Smoothed mesh.\n",
    "\n",
    "    \"\"\"\n",
    "    if not mesh.is_triangular:\n",
    "        warnings.warn(f\"Warning: mesh not triangular - result may be incorrect\", RuntimeWarning)\n",
    "    v_smoothed = np.copy(mesh.vertices)\n",
    "    f = mesh.tris\n",
    "    boundary_vertices = igl.boundary_facets(f)[:, 0]\n",
    "\n",
    "    if method == \"implicit\":\n",
    "        laplacian = igl.cotmatrix(v_smoothed, f)\n",
    "        for _ in range(n_iter):\n",
    "            mass = igl.massmatrix(v_smoothed, f, igl.MASSMATRIX_TYPE_BARYCENTRIC)\n",
    "            v_smoothed = sparse.linalg.spsolve(mass - lamb * laplacian, mass.dot(v_smoothed))\n",
    "            if boundary == \"fixed\":\n",
    "                v_smoothed[boundary_vertices] = mesh.vertices[boundary_vertices]\n",
    "    elif method == \"explicit\":\n",
    "        laplacian_uniform = get_uniform_laplacian(f)\n",
    "        for _ in range(n_iter):\n",
    "            v_smoothed += lamb*laplacian_uniform.dot(v_smoothed)\n",
    "            if boundary == \"fixed\":\n",
    "                v_smoothed[boundary_vertices] = mesh.vertices[boundary_vertices]\n",
    "    mesh_smoothed = tcio.ObjMesh(v_smoothed, mesh.faces, texture_vertices=mesh.texture_vertices,\n",
    "                                 normals=None, name=mesh.name)\n",
    "    mesh_smoothed.set_normals()\n",
    "    return mesh_smoothed"
   ]
  },
  {
   "cell_type": "code",
   "execution_count": 9,
   "id": "0c5b1559",
   "metadata": {},
   "outputs": [],
   "source": [
    "mesh_texture_smoothed = smooth_laplacian_texture(mesh_registered, lamb=0.5, n_iter=100, boundary=\"fixed\")"
   ]
  },
  {
   "cell_type": "code",
   "execution_count": 10,
   "id": "407d2322",
   "metadata": {},
   "outputs": [],
   "source": [
    "boundary_vertices = igl.boundary_facets(mesh_registered.texture_tris)[:, 0]"
   ]
  },
  {
   "cell_type": "code",
   "execution_count": 11,
   "id": "06815f76",
   "metadata": {},
   "outputs": [
    {
     "data": {
      "text/plain": [
       "True"
      ]
     },
     "execution_count": 11,
     "metadata": {},
     "output_type": "execute_result"
    }
   ],
   "source": [
    "np.allclose(mesh_texture_smoothed.texture_vertices[boundary_vertices],\n",
    "            mesh_registered.texture_vertices[boundary_vertices])"
   ]
  },
  {
   "cell_type": "code",
   "execution_count": 12,
   "id": "39ffca08",
   "metadata": {},
   "outputs": [],
   "source": [
    "mesh_smoothed = smooth_laplacian(mesh_registered, lamb=0.5, n_iter=10, method=\"explicit\")"
   ]
  },
  {
   "cell_type": "code",
   "execution_count": 13,
   "id": "2cc89e4a",
   "metadata": {},
   "outputs": [],
   "source": [
    "mesh_smoothed.write_obj(\"wrapping_example/Drosophila_reference_smoothed_uniform_igl.obj\")"
   ]
  },
  {
   "cell_type": "code",
   "execution_count": 14,
   "id": "5e0b7f41",
   "metadata": {},
   "outputs": [],
   "source": [
    "#| export\n",
    "\n",
    "def smooth_taubin(mesh: tcio.ObjMesh, lamb=0.5, nu=0.53, n_iter=10,) -> tcio.ObjMesh:\n",
    "    \"\"\"\n",
    "    Smooth using Taubin filter (like Laplacian, but avoids shrinkage).\n",
    "    \n",
    "    Assumes mesh is triangular. See   \"Improved Laplacian Smoothing of Noisy Surface Meshes\"\n",
    "    J. Vollmer, R. Mencl, and H. Muller.\n",
    "    \n",
    "    Parameters\n",
    "    ----------\n",
    "    mesh : ObjMesh\n",
    "        Initial mesh.\n",
    "    lamb : float, default 0.5\n",
    "        Filter strength. Higher = more smoothing.\n",
    "    nu : float, default 0.53\n",
    "        Counteract shrinkage. Higher = more dilation.\n",
    "    n_iter : int\n",
    "        Filter iterations\n",
    "\n",
    "    Returns\n",
    "    -------\n",
    "    mesh_smoothed : ObjMesh\n",
    "        Smoothed mesh.\n",
    "\n",
    "    \"\"\"\n",
    "    if not mesh.is_triangular:\n",
    "        warnings.warn(f\"Warning: mesh not triangular - result may be incorrect\", RuntimeWarning)\n",
    "    v_smoothed = np.copy(mesh.vertices)\n",
    "    laplacian_uniform = get_uniform_laplacian(mesh.tris)\n",
    "    for _ in range(n_iter):\n",
    "        v_smoothed += lamb*laplacian_uniform.dot(v_smoothed)\n",
    "        v_smoothed -= nu*laplacian_uniform.dot(v_smoothed)\n",
    "    mesh_smoothed = tcio.ObjMesh(v_smoothed, mesh.faces, texture_vertices=mesh.texture_vertices,\n",
    "                                 normals=None, name=mesh.name)\n",
    "    mesh_smoothed.set_normals()\n",
    "    return mesh_smoothed"
   ]
  },
  {
   "cell_type": "code",
   "execution_count": 15,
   "id": "acf038ef",
   "metadata": {},
   "outputs": [],
   "source": [
    "mesh_smoothed_taubin = smooth_taubin(mesh_registered, lamb=0.5, nu=0.53, n_iter=10)"
   ]
  },
  {
   "cell_type": "code",
   "execution_count": 16,
   "id": "ca6e698d",
   "metadata": {},
   "outputs": [],
   "source": [
    "mesh_smoothed_taubin.write_obj(\"wrapping_example/Drosophila_reference_smoothed_taubin_igl.obj\")"
   ]
  },
  {
   "cell_type": "markdown",
   "id": "ee5748e8",
   "metadata": {},
   "source": [
    "## Texture smoothing\n",
    "\n",
    "Sometimes, UV maps can become very deformed, or even display self-intersection. Smoothing can fix this."
   ]
  },
  {
   "cell_type": "code",
   "execution_count": 8,
   "id": "5123ff58",
   "metadata": {},
   "outputs": [],
   "source": [
    "#| export\n",
    "\n",
    "def smooth_laplacian_texture(mesh: tcio.ObjMesh, lamb=0.5, n_iter=10, boundary=\"fixed\") -> tcio.ObjMesh:\n",
    "    \"\"\"\n",
    "    Smooth mesh texture positions using Laplacian filter.\n",
    "    \n",
    "    This function is very helpful to fix UV maps with flipped triangles, as detected by\n",
    "    igl.flipped_triangles. Assumes mesh is triangular.\n",
    "    \n",
    "    Parameters\n",
    "    ----------\n",
    "    mesh : ObjMesh\n",
    "        Initial mesh.\n",
    "    lamb : float, default 0.5\n",
    "        Filter strength. Higher = more smoothing.\n",
    "    n_iter : int\n",
    "        Filter iterations\n",
    "    boundary : str, \"fixed\" or \"free\"\n",
    "         Whether to allow UV \"island\" boundary to move\n",
    "\n",
    "    Returns\n",
    "    -------\n",
    "    mesh_smoothed : ObjMesh\n",
    "        Smoothed mesh.\n",
    "\n",
    "    \"\"\"\n",
    "    if not mesh.is_triangular:\n",
    "        warnings.warn(f\"Warning: mesh not triangular - result may be incorrect\", RuntimeWarning)\n",
    "    v_smoothed = np.copy(mesh.texture_vertices)\n",
    "    f = mesh.texture_tris\n",
    "    laplacian_uniform = get_uniform_laplacian(f)\n",
    "    boundary_vertices = igl.boundary_facets(f)[:, 0]\n",
    "\n",
    "    for _ in range(n_iter):\n",
    "        v_smoothed += lamb*laplacian_uniform.dot(v_smoothed)\n",
    "        if boundary == \"fixed\":\n",
    "            v_smoothed[boundary_vertices] = mesh.texture_vertices[boundary_vertices]\n",
    "    mesh_smoothed = tcio.ObjMesh(mesh.vertices, mesh.faces, texture_vertices=v_smoothed,\n",
    "                                 normals=mesh.normals, name=mesh.name)\n",
    "    return mesh_smoothed"
   ]
  },
  {
   "cell_type": "markdown",
   "id": "6880cdd3",
   "metadata": {},
   "source": [
    "For strongly degraded UV maps with many self-intersection (flipped triangles), a more radical appoach can help - fix only the UV island boundaries, and recompute all UV vertex positions using a harmonic map. This fixes the self-intersection issues. Such UV maps can for example result from a spherical or cylindrical projection of a very deformed object."
   ]
  },
  {
   "cell_type": "code",
   "execution_count": null,
   "id": "fa38f38a",
   "metadata": {},
   "outputs": [],
   "source": []
  },
  {
   "cell_type": "code",
   "execution_count": null,
   "id": "6689a8e8",
   "metadata": {},
   "outputs": [],
   "source": []
  },
  {
   "cell_type": "code",
   "execution_count": null,
   "id": "48e5deca",
   "metadata": {},
   "outputs": [],
   "source": []
  },
  {
   "cell_type": "markdown",
   "id": "d13db78c",
   "metadata": {},
   "source": [
    "### On-surface smoothing\n",
    "\n",
    "Smooth, but project at each step so the mesh vertices are back on the surface. This is very useful to smooth out surface-surface maps."
   ]
  },
  {
   "cell_type": "code",
   "execution_count": 33,
   "id": "1c3cc499",
   "metadata": {},
   "outputs": [],
   "source": [
    "#| export\n",
    "\n",
    "def smooth_laplacian_on_surface(mesh: tcio.ObjMesh, n_iter=10, lamb=0.5, n_iter_laplace=10,\n",
    "                                boundary=\"fixed\") -> tcio.ObjMesh:\n",
    "    \"\"\"\n",
    "    Smooth mesh vertex positions using Laplacian filter and project vertices back to original surface.\n",
    "    \n",
    "    Alternates between Laplacian smoothing and projecting back to original surface. Uses\n",
    "    explicit method for Laplactian smoothing\n",
    "    \n",
    "    Parameters\n",
    "    ----------\n",
    "    mesh : ObjMesh\n",
    "        Initial mesh.\n",
    "    n_iter : int\n",
    "        Number of iterations at each step\n",
    "    lamb : float, default 0.5\n",
    "        Filter strength. Higher = more smoothing.\n",
    "    n_iter_laplace : int\n",
    "        Laplace filter iterations. If reprojection messes upt your mesh, decrease this number.\n",
    "    boundary : str, \"fixed\" or \"free\"\n",
    "        Whether to allow mesh boundary to move\n",
    "\n",
    "    Returns\n",
    "    -------\n",
    "    mesh_smoothed : ObjMesh\n",
    "        Smoothed mesh.\n",
    "\n",
    "    \"\"\"\n",
    "    if not mesh.is_triangular:\n",
    "        warnings.warn(f\"Warning: mesh not triangular - result may be incorrect\", RuntimeWarning)\n",
    "    v_reference = np.copy(mesh.vertices)\n",
    "    v_smoothed = np.copy(mesh.vertices)\n",
    "    f = mesh.tris\n",
    "    boundary_vertices = igl.boundary_facets(f)[:, 0]\n",
    "    laplacian_uniform = get_uniform_laplacian(f)\n",
    "\n",
    "    for _ in range(n_iter):\n",
    "        # smooth\n",
    "        for _ in range(n_iter):\n",
    "            v_smoothed += lamb*laplacian_uniform.dot(v_smoothed)\n",
    "            if boundary == \"fixed\":\n",
    "                v_smoothed[boundary_vertices] = mesh.vertices[boundary_vertices]\n",
    "        # project \n",
    "        _, _, v_smoothed = igl.point_mesh_squared_distance(v_smoothed, v_reference, f)\n",
    "        v_reference = np.copy(v_smoothed)\n",
    "    mesh_smoothed = tcio.ObjMesh(v_smoothed, mesh.faces, texture_vertices=mesh.texture_vertices,\n",
    "                                 normals=mesh.normals, name=mesh.name)\n",
    "    mesh_smoothed.set_normals()\n",
    "    return mesh_smoothed"
   ]
  },
  {
   "cell_type": "code",
   "execution_count": 34,
   "id": "41224bea",
   "metadata": {},
   "outputs": [],
   "source": [
    "mesh_test = tcio.ObjMesh.read_obj(f\"movie_example/meshes_wrapped_reverse/mesh_01_wrapped_reverse.obj\")"
   ]
  },
  {
   "cell_type": "code",
   "execution_count": 35,
   "id": "792a7e0a",
   "metadata": {},
   "outputs": [],
   "source": [
    "mesh_smoothed = smooth_laplacian_on_surface(mesh_test, n_iter=20, lamb=0.5, n_iter_laplace=5)"
   ]
  },
  {
   "cell_type": "code",
   "execution_count": 36,
   "id": "8b3eafb2",
   "metadata": {},
   "outputs": [],
   "source": [
    "mesh_smoothed.write_obj(f\"movie_example/on_surface_smooth.obj\")"
   ]
  }
 ],
 "metadata": {
  "kernelspec": {
   "display_name": "Python [conda env:blender-tissue-cartography] *",
   "language": "python",
   "name": "conda-env-blender-tissue-cartography-py"
  },
  "language_info": {
   "codemirror_mode": {
    "name": "ipython",
    "version": 3
   },
   "file_extension": ".py",
   "mimetype": "text/x-python",
   "name": "python",
   "nbconvert_exporter": "python",
   "pygments_lexer": "ipython3",
   "version": "3.11.9"
  }
 },
 "nbformat": 4,
 "nbformat_minor": 5
}

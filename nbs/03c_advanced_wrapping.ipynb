{
 "cells": [
  {
   "cell_type": "code",
   "execution_count": 1,
   "id": "d2f7d109",
   "metadata": {},
   "outputs": [],
   "source": [
    "#| default_exp advanced_wrapping"
   ]
  },
  {
   "cell_type": "code",
   "execution_count": 2,
   "id": "bb9423cb",
   "metadata": {},
   "outputs": [],
   "source": [
    "#| export\n",
    "\n",
    "from blender_tissue_cartography import io as tcio\n",
    "from blender_tissue_cartography import registration as tcreg\n",
    "from blender_tissue_cartography import wrapping as tcwrap\n",
    "\n",
    "import numpy as np\n",
    "from copy import deepcopy\n",
    "import warnings\n",
    "import igl\n",
    "\n",
    "from scipy import sparse\n",
    "import shutil"
   ]
  },
  {
   "cell_type": "code",
   "execution_count": 3,
   "id": "1a9ee229",
   "metadata": {},
   "outputs": [],
   "source": [
    "from tqdm.notebook import tqdm\n",
    "from importlib import reload\n",
    "\n",
    "import matplotlib.pyplot as plt"
   ]
  },
  {
   "cell_type": "code",
   "execution_count": 4,
   "id": "88a62ff4",
   "metadata": {},
   "outputs": [],
   "source": [
    "np.set_printoptions(suppress=True)"
   ]
  },
  {
   "cell_type": "markdown",
   "id": "5b8c3703",
   "metadata": {},
   "source": [
    "## Advanced wrapping\n",
    "\n",
    "In this notebook we present some additional wrapping algorithms. So far, we have wrapped two meshes by simply projection each source mesh vertex onto the closest position on the target mesh. This works, but has drawbacks when there are large, localized deformations.\n",
    "\n",
    "We can think of the wrapping process like stretching the source surface to fit onto the target surface. The \"closest point\" method effectively gives the source surface zero elastic resistance during the stretching. This means that small regions will capture all deformations, leading to poor results.\n",
    "\n",
    "Here, we'll look into alternative algorithms which implement some form of effective elasticity."
   ]
  },
  {
   "cell_type": "markdown",
   "id": "24de6d91",
   "metadata": {},
   "source": [
    "#### Loading test data\n",
    "\n",
    "Let's load the test meshes from the fly midgut"
   ]
  },
  {
   "cell_type": "code",
   "execution_count": 5,
   "id": "105acb19",
   "metadata": {},
   "outputs": [
    {
     "data": {
      "application/vnd.jupyter.widget-view+json": {
       "model_id": "7f78943d37ed4e34aa5a7a212de997a5",
       "version_major": 2,
       "version_minor": 0
      },
      "text/plain": [
       "  0%|          | 0/31 [00:00<?, ?it/s]"
      ]
     },
     "metadata": {},
     "output_type": "display_data"
    }
   ],
   "source": [
    "meshes_dict = {i: tcio.read_other_formats_without_uv(f\"movie_example/meshes/mesh_{str(i).zfill(2)}.ply\")\n",
    "               for i in tqdm(range(1, 32))}"
   ]
  },
  {
   "cell_type": "code",
   "execution_count": 6,
   "id": "306db2a3",
   "metadata": {},
   "outputs": [],
   "source": [
    "mesh_initial_UV = tcio.ObjMesh.read_obj(\"movie_example/initial_uv.obj\")\n",
    "mesh_final_UV = tcio.ObjMesh.read_obj(\"movie_example/final_uv.obj\") # this is a UV map defined for tpt 20"
   ]
  },
  {
   "cell_type": "markdown",
   "id": "038ad7cc",
   "metadata": {},
   "source": [
    "### Reverse wrapping"
   ]
  },
  {
   "cell_type": "code",
   "execution_count": 13,
   "id": "19977bb0",
   "metadata": {},
   "outputs": [
    {
     "data": {
      "text/plain": [
       "<module 'blender_tissue_cartography.wrapping' from '/home/nikolas/Documents/UCSB/streichan/numerics/code/python code/jupyter notebooks/blender-tissue-cartography/blender_tissue_cartography/wrapping.py'>"
      ]
     },
     "execution_count": 13,
     "metadata": {},
     "output_type": "execute_result"
    }
   ],
   "source": [
    "reload(tcwrap)"
   ]
  },
  {
   "cell_type": "code",
   "execution_count": 14,
   "id": "3c4bad31",
   "metadata": {},
   "outputs": [],
   "source": [
    "t_final = 20\n",
    "meshes_wrapped_reverse = {20: mesh_final_UV}"
   ]
  },
  {
   "cell_type": "code",
   "execution_count": 15,
   "id": "509cab5e",
   "metadata": {},
   "outputs": [
    {
     "data": {
      "application/vnd.jupyter.widget-view+json": {
       "model_id": "d9854dc3c5b24c66b60f5179696eefe0",
       "version_major": 2,
       "version_minor": 0
      },
      "text/plain": [
       "0it [00:00, ?it/s]"
      ]
     },
     "metadata": {},
     "output_type": "display_data"
    },
    {
     "name": "stdout",
     "output_type": "stream",
     "text": [
      "19\n",
      "18\n",
      "17\n",
      "16\n"
     ]
    },
    {
     "name": "stderr",
     "output_type": "stream",
     "text": [
      "/home/nikolas/Documents/UCSB/streichan/numerics/code/python code/jupyter notebooks/blender-tissue-cartography/blender_tissue_cartography/wrapping.py:192: RuntimeWarning: Warning: 2 normal(s) flipped during shrink-wrapping\n",
      "  return mesh_wrapped\n"
     ]
    },
    {
     "name": "stdout",
     "output_type": "stream",
     "text": [
      "15\n",
      "14\n",
      "13\n",
      "12\n",
      "11\n",
      "10\n",
      "9\n",
      "8\n",
      "7\n",
      "6\n",
      "5\n",
      "4\n",
      "3\n",
      "2\n",
      "1\n"
     ]
    }
   ],
   "source": [
    "for i in tqdm(reversed(range(1, t_final))):\n",
    "    print(i)\n",
    "    mesh_source = meshes_wrapped_reverse[i+1]\n",
    "    mesh_target = meshes_dict[i]\n",
    "    # register using ICP\n",
    "    trafo_centroid_intertia, _ = tcreg.align_by_centroid_and_intertia(mesh_source.vertices, mesh_target.vertices,\n",
    "                                    q=0.01, shear=True, choose_minimal_rotation=True)\n",
    "    trafo_icp, _, _ = tcreg.icp(mesh_source.vertices, mesh_target.vertices, initial=trafo_centroid_intertia,\n",
    "                                threshold=1e-4, max_iterations=20, include_scaling=True, n_samples=5000)\n",
    "    mesh_registered = mesh_source.apply_affine_to_mesh(trafo_icp)\n",
    "    # shrink-wrap\n",
    "    mesh_wrapped = tcwrap.shrinkwrap_igl(mesh_registered, mesh_target,\n",
    "                                         n_iter_smooth_target=2, n_iter_smooth_wrapped=2)\n",
    "    mesh_wrapped = tcwrap.smooth_laplacian_on_surface(mesh_wrapped, n_iter=5, lamb=0.5, n_iter_laplace=10)\n",
    "    # append to list\n",
    "    mesh_wrapped.write_obj(f\"movie_example/meshes_wrapped_reverse/mesh_{str(i).zfill(2)}_wrapped_reverse.obj\")\n",
    "    meshes_wrapped_reverse[i] = mesh_wrapped"
   ]
  },
  {
   "cell_type": "markdown",
   "id": "cc676c6b",
   "metadata": {},
   "source": [
    "### Non-rigid ICP\n",
    "\n",
    "Try it out first using trimesh, then do myself to avoid dependency"
   ]
  },
  {
   "cell_type": "code",
   "execution_count": 17,
   "id": "d46a8856",
   "metadata": {},
   "outputs": [],
   "source": [
    "from blender_tissue_cartography import interface_trimesh as inttri\n",
    "import trimesh"
   ]
  },
  {
   "cell_type": "code",
   "execution_count": null,
   "id": "2b17c360",
   "metadata": {},
   "outputs": [],
   "source": []
  },
  {
   "cell_type": "code",
   "execution_count": null,
   "id": "3e72574b",
   "metadata": {},
   "outputs": [],
   "source": []
  },
  {
   "cell_type": "code",
   "execution_count": null,
   "id": "01d528ba",
   "metadata": {},
   "outputs": [],
   "source": []
  },
  {
   "cell_type": "code",
   "execution_count": null,
   "id": "14e3a146",
   "metadata": {},
   "outputs": [],
   "source": []
  },
  {
   "cell_type": "code",
   "execution_count": null,
   "id": "dd71768e",
   "metadata": {},
   "outputs": [],
   "source": []
  },
  {
   "cell_type": "markdown",
   "id": "b5a60a89",
   "metadata": {},
   "source": [
    "### Thin-plate spline registration"
   ]
  },
  {
   "cell_type": "code",
   "execution_count": null,
   "id": "ccc5f6cd",
   "metadata": {},
   "outputs": [],
   "source": []
  },
  {
   "cell_type": "code",
   "execution_count": null,
   "id": "3c4da0a8",
   "metadata": {},
   "outputs": [],
   "source": []
  },
  {
   "cell_type": "code",
   "execution_count": null,
   "id": "a9ee00e5",
   "metadata": {},
   "outputs": [],
   "source": []
  },
  {
   "cell_type": "code",
   "execution_count": null,
   "id": "2bff6b37",
   "metadata": {},
   "outputs": [],
   "source": []
  },
  {
   "cell_type": "code",
   "execution_count": null,
   "id": "68743960",
   "metadata": {},
   "outputs": [],
   "source": []
  }
 ],
 "metadata": {
  "kernelspec": {
   "display_name": "Python [conda env:blender-tissue-cartography] *",
   "language": "python",
   "name": "conda-env-blender-tissue-cartography-py"
  },
  "language_info": {
   "codemirror_mode": {
    "name": "ipython",
    "version": 3
   },
   "file_extension": ".py",
   "mimetype": "text/x-python",
   "name": "python",
   "nbconvert_exporter": "python",
   "pygments_lexer": "ipython3",
   "version": "3.11.9"
  }
 },
 "nbformat": 4,
 "nbformat_minor": 5
}

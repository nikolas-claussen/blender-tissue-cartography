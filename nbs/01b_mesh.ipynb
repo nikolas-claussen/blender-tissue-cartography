{
 "cells": [
  {
   "cell_type": "code",
   "execution_count": null,
   "id": "54aa0347",
   "metadata": {},
   "outputs": [],
   "source": [
    "#| default_exp mesh"
   ]
  },
  {
   "cell_type": "markdown",
   "id": "f5514327",
   "metadata": {},
   "source": [
    "## Mesh data structure\n",
    "\n",
    "> Data structure for triangular meshes and UV maps\n",
    "\n",
    "In this notebook, we define a class for triangular meshes with UV maps, and show how to use it with the data from the ``basics_example`` folder."
   ]
  },
  {
   "cell_type": "code",
   "execution_count": null,
   "id": "c01ea96c",
   "metadata": {},
   "outputs": [],
   "source": [
    "#| export\n",
    "\n",
    "import numpy as np\n",
    "from typing import Iterable\n",
    "import os\n",
    "from copy import deepcopy\n",
    "import warnings\n",
    "\n",
    "import igl"
   ]
  },
  {
   "cell_type": "code",
   "execution_count": null,
   "id": "d67c0267",
   "metadata": {},
   "outputs": [],
   "source": [
    "import matplotlib.pyplot as plt"
   ]
  },
  {
   "cell_type": "markdown",
   "id": "a586f315",
   "metadata": {},
   "source": [
    "### Define metadata\n",
    "\n",
    "We then enter the relevant metadata - the filename, resolution in microns, and how much we want to subsample for segmentation purposes. This is important for correctly scaling mesh vertex positions when computing the mesh from image data."
   ]
  },
  {
   "cell_type": "code",
   "execution_count": null,
   "id": "2346a597",
   "metadata": {},
   "outputs": [],
   "source": [
    "metadata_dict = {'filename': 'datasets/basics_example/basics_example',\n",
    "                 'resolution_in_microns': (1, 0.36, 0.36), # you can typically get this from the .tif metadata\n",
    "                 'subsampling_factors': (1, 1/3, 1/3), # how much you subsampled your image for segmentation\n",
    "                }"
   ]
  },
  {
   "cell_type": "markdown",
   "id": "7c012870",
   "metadata": {},
   "source": [
    "We now define our main class for mesh io and mesh handling. We save all meshes as wavefront `.obj` files (see [wikipedia](https://en.wikipedia.org/wiki/Wavefront_.obj_file)). In Python, we represent missing entries (such as a vertex that doesn't have a normal by `np.nan`.\n",
    "\n",
    "**Important convention** For sanity's sake, we will always store all mesh coordinates in microns. This means rescaling appropriately after calculating the mesh from the 3d segmentation.\n",
    "\n",
    "For reading, writing, holding, and handling `.obj` meshes, we will create the `ObjMesh` class. You can think of an `.obj` mesh as a _map_ between two meshes (the mesh in 3d, and its texture coordinates in 2d), defined on a per-face basis."
   ]
  },
  {
   "cell_type": "code",
   "execution_count": null,
   "id": "825202cd",
   "metadata": {},
   "outputs": [],
   "source": [
    "#| export\n",
    "\n",
    "def flatten(lst, max_depth=1000, iter_count=0):\n",
    "    \"\"\"\n",
    "    Flatten a list of lists into a list.\n",
    "\n",
    "    Also works with inhomogeneous lists, e.g., [[0,1],2]. The argument\n",
    "    depth determines how \"deep\" to flatten the list, e.g. with max_depth=1:\n",
    "    [[(1,0), (1,0)]] -> [(1,0), (1,0)].\n",
    "\n",
    "    Parameters\n",
    "    ----------\n",
    "    lst : list\n",
    "        list-of-lists.\n",
    "    max_depth : int, optional\n",
    "        To what depth to flatten the list.\n",
    "    iter_count : int, optional\n",
    "        Helper argument for recursion depth determination.\n",
    "    \n",
    "    Returns\n",
    "    -------\n",
    "    iterator\n",
    "        flattened list.\n",
    "    \"\"\"\n",
    "    for el in lst:\n",
    "        if (isinstance(el, Iterable) and not isinstance(el, (str, bytes))\n",
    "                and iter_count < max_depth):\n",
    "            yield from flatten(el, max_depth=max_depth,\n",
    "                               iter_count=iter_count+1)\n",
    "        else:\n",
    "            yield el\n",
    "            \n",
    "def pad_list(lst, length=3, fill_value=np.nan):\n",
    "    \"\"\"Pad end of list with fill_value if shorter than the desired length.\"\"\"\n",
    "    return lst + max([0, (length-len(lst))]) * [fill_value,]\n",
    "\n",
    "def unique(sequence):\n",
    "    \"\"\"Create list of unique entries in sequence while preserving order\"\"\"\n",
    "    seen = set()\n",
    "    return [x for x in sequence if not (x in seen or seen.add(x))]\n",
    "\n",
    "def index_else_nan(arr, inds):\n",
    "    \"\"\"Return arr[inds], masked so that the result is np.nan wherever ind is nan\"\"\"\n",
    "    if len(np.shape(inds)):\n",
    "        inds = np.array(inds)\n",
    "    mask = np.isnan(inds)\n",
    "    masked_inds = np.copy(inds)\n",
    "    masked_inds[mask] = 0\n",
    "    masked_inds = masked_inds.astype(int)    \n",
    "    selected = arr[masked_inds]\n",
    "    selected[mask] = np.nan\n",
    "    return selected\n",
    "\n",
    "def invert_dictionary(my_map, assume_unique=False):\n",
    "    \"\"\"\n",
    "    Invert key -> value map defined by a dictionary\n",
    "    \n",
    "    If assume_unique is True, key/value pairs are assumed to be unique.\n",
    "    Else, a dictionary of lists is returned. Each entry is a list\n",
    "    of keys that map to the given value.\n",
    "    \"\"\"\n",
    "    if assume_unique:\n",
    "        return {v: k for k, v in my_map.items()}\n",
    "    inv_map = {}\n",
    "    for k, v in my_map.items():\n",
    "        inv_map[v] = inv_map.get(v, []) + [k]\n",
    "    return inv_map\n",
    "\n",
    "def _match_normals_to_vertices(vs, ns, fs):\n",
    "    \"\"\"Internal helper function for reading in meshes. fs = [(vertex, texture, normal)]\"\"\"\n",
    "    vn_dict = {v: [] for v in range(vs.shape[0])}\n",
    "    for v, _, n in flatten(fs, max_depth=1):\n",
    "        if not np.isnan(n):\n",
    "            vn_dict[v].append(n)\n",
    "    return np.stack([ns[vn_dict[i]].mean(axis=0) for i in range(vs.shape[0])], axis=0)"
   ]
  },
  {
   "cell_type": "code",
   "execution_count": null,
   "id": "0364d601",
   "metadata": {},
   "outputs": [],
   "source": [
    "#| export\n",
    "\n",
    "class ObjMesh:\n",
    "    \"\"\"\n",
    "    Simple class for reading, holding, transforming, and saving 3d polygonal meshes in the .obj format.\n",
    "    See https://en.wikipedia.org/wiki/Wavefront_.obj_file.\n",
    "    Attributes\n",
    "        - vertices = [(x_0, y_0, z_0), ... ]\n",
    "        - texture_vertices = [(u_0, v_0), ...] or None\n",
    "        - normals = [(nx_0, ny_0, nz_0), ...] or None\n",
    "        - faces = [f0, ...]\n",
    "        - only_vertices = bool. \n",
    "    vertices, texture_vertices, normals are np.arrays, faces is a list.\n",
    "    Each face is either a list of vertex indices (if only_vertices is True), or, if the mesh\n",
    "    has texture information, a list of vertex/texture vertex index pairs. \n",
    "    Normals are always defined per-vertex, i.e. self.normals[i] is the normal vector at\n",
    "    self.vertices[i].   Missing data is represented by np.nan.\n",
    "    Faces can be any length (triangles, quads, ...). Indices start at 0!\n",
    "    \n",
    "    The methods self.get_uv_index_to_vertex_index_map(), self.get_uv_matched_vertex_indices()\n",
    "    can be used to map data from 3d to UV, for instance for cartographic interpolation:\n",
    "    self.vertices[self.get_vertex_to_texture_vertex_indices()] will give you the 3d coordinates\n",
    "    at each texture vertex point in 2d.\n",
    "    \"\"\"\n",
    "    \n",
    "    def __init__(self, vertices, faces, texture_vertices=None, normals=None, name=None):\n",
    "        self.vertices, self.faces = (vertices, faces)\n",
    "        self.texture_vertices, self.normals = (texture_vertices, normals)\n",
    "        self.name = None\n",
    "       \n",
    "    @staticmethod\n",
    "    def read_obj_fallback(filename):\n",
    "        \"\"\"\n",
    "        Return vertices, texture vertices, normals, and faces from an obj file.\n",
    "        \n",
    "        Fallback option for meshes containing mixed faces (e.g. triangles and quads),\n",
    "        or partial UV/normal information, which is not handled by libigl.\n",
    "\n",
    "        Faces are lists of pairs of vertex/texture vertex indices. If a certain vertex has no texture \n",
    "        associated with it, the entry is np.nan, else it is an index into the vertex/texture arrays\n",
    "        (note: indices of returned faces start at 0!). See https://en.wikipedia.org/wiki/Wavefront_.obj_file.\n",
    "        \n",
    "        Intended for .obj files containing a single object only. Will emit a warning if multiple objects\n",
    "        are detected.\n",
    "\n",
    "        Parameters\n",
    "        ----------\n",
    "        filename : str\n",
    "            filename\n",
    "        Returns\n",
    "        -------\n",
    "        mesh: ObjMesh\n",
    "        \"\"\"\n",
    "        def _str_to_int_or_nan(x):\n",
    "            \"\"\"Convert string to int or np.nan if string is empty\"\"\"\n",
    "            if x == '':\n",
    "                return np.nan\n",
    "            return int(x)\n",
    "        with open(filename, 'r') as f:\n",
    "            lines = f.readlines()\n",
    "        names = [ln.split()[1:] for ln in lines if ln.startswith(\"o \")]\n",
    "        if len(names) > 1:\n",
    "            warnings.warn(f\"Warning: multiple meshes in .obj file\", RuntimeWarning)\n",
    "        name = None if len(names) == 0 else names[0]\n",
    "        vs = np.array([ln.split()[1:] for ln in lines if ln.startswith(\"v \")]).astype(float)\n",
    "        vts = np.array([ln.split()[1:] for ln in lines if ln.startswith(\"vt \")]).astype(float)\n",
    "        ns = np.array([ln.split()[1:] for ln in lines if ln.startswith(\"vn \")]).astype(float)\n",
    "        fs = [ln.split()[1:] for ln in lines if ln.startswith(\"f \")]\n",
    "        fs = [[pad_list([_str_to_int_or_nan(y)-1 for y in x.split(\"/\")], length=3, fill_value=np.nan)\n",
    "               for x in f] for f in fs]\n",
    "        if ns.shape == (0,):\n",
    "            ns = None\n",
    "        else: # match up normals to vertices\n",
    "            ns = _match_normals_to_vertices(vs, ns, fs)\n",
    "            ns = (ns.T / np.linalg.norm(ns, axis=-1)).T\n",
    "        if vts.shape == (0,): # if there is no texture information\n",
    "            fs = [[v[0] for v in f] for f in fs]\n",
    "            mesh = ObjMesh(vs, fs, texture_vertices=None, normals=ns, name=name)\n",
    "        else: \n",
    "            fs = [[v[:2] for v in f] for f in fs]\n",
    "            mesh = ObjMesh(vs, fs, texture_vertices=vts, normals=ns, name=name)\n",
    "        if not mesh.is_triangular:\n",
    "            warnings.warn(f\"Warning: non-triangular meshes are deprecated\", DeprecationWarning)\n",
    "        return mesh\n",
    "    \n",
    "    @staticmethod  \n",
    "    def read_obj(filename):\n",
    "        \"\"\"\n",
    "        Return vertices, texture vertices, normals, and faces from an obj file.\n",
    "\n",
    "        Faces are lists of pairs of vertex/texture vertex indices. If a certain vertex has no texture \n",
    "        associated with it, the entry is np.nan, else it is an index into the vertex/texture arrays\n",
    "        (note: indices of returned faces start at 0!). See https://en.wikipedia.org/wiki/Wavefront_.obj_file.\n",
    "        \n",
    "        Intended for .obj files containing a single object only.\n",
    "\n",
    "        Parameters\n",
    "        ----------\n",
    "        filename : str\n",
    "            filename\n",
    "        Returns\n",
    "        -------\n",
    "        mesh: ObjMesh\n",
    "        \"\"\"\n",
    "        try:\n",
    "            vertices, texture_vertices, normals, faces, texture_faces, normal_faces = igl.read_obj(filename)\n",
    "            if normals.shape[0] == 0:\n",
    "                obj_normals = None\n",
    "            else:\n",
    "                obj_normals = igl.average_onto_vertices(vertices, faces, normals[normal_faces].mean(axis=1))\n",
    "                obj_normals = (obj_normals.T / np.linalg.norm(obj_normals, axis=-1)).T\n",
    "            if texture_faces.shape[0] == 0:\n",
    "                obj_texture_vertices = None\n",
    "                obj_faces = faces\n",
    "            else:\n",
    "                obj_texture_vertices = texture_vertices\n",
    "                obj_faces = np.stack([faces, texture_faces], axis=2).tolist()\n",
    "            mesh = ObjMesh(vertices, obj_faces, obj_texture_vertices, obj_normals)\n",
    "            if not mesh.is_triangular:\n",
    "                warnings.warn(f\"Warning: non-triangular meshes are deprecated\", DeprecationWarning)\n",
    "            return mesh \n",
    "        except ValueError:\n",
    "            return ObjMesh.read_obj_fallback(filename)\n",
    "        \n",
    "    def write_obj(self, filename, include_uv_and_normals=True):\n",
    "        \"\"\"\n",
    "        Write mesh to .obj format.\n",
    "\n",
    "        Can write texture coordinates and normals if included. \n",
    "\n",
    "        Parameters\n",
    "        ----------\n",
    "        filename : str\n",
    "            filename to save to\n",
    "        include_uv_and_normals : bool, default True\n",
    "            include UV and normal information if available.\n",
    "            \n",
    "        Returns\n",
    "        -------\n",
    "        None\n",
    "\n",
    "        \"\"\"\n",
    "        def _int_or_nan_to_str(x):\n",
    "            \"\"\"Convert int/nan to string. np.nan is converted to the empty string\"\"\"\n",
    "            if np.isnan(x):\n",
    "                return ''\n",
    "            return str(x)\n",
    "        namelines = [\"o {}\\n\".format(self.name)] if self.name is not None else []\n",
    "        if self.only_vertices:\n",
    "            vlines = [\"v {} {} {}\\n\".format(*v) for v in self.vertices]\n",
    "            flines = [\"f {} {} {}\\n\".format(*[int(v+1) for v in fc]) for fc in self.faces]\n",
    "            with open(filename, 'w') as f:\n",
    "                f.writelines(namelines)\n",
    "                f.writelines(vlines)\n",
    "                f.writelines(flines)\n",
    "        if not self.only_vertices and not include_uv_and_normals:\n",
    "            vlines = [\"v {} {} {}\\n\".format(*v) for v in self.vertices]\n",
    "            flines = [\"f {} {} {}\\n\".format(*[int(v[0]+1) for v in fc]) for fc in self.faces]\n",
    "            with open(filename, 'w') as f:\n",
    "                f.writelines(namelines)\n",
    "                f.writelines(vlines)\n",
    "                f.writelines(flines)\n",
    "        if not self.only_vertices and include_uv_and_normals:\n",
    "            assert all([len(v)==2 for v in flatten(self.faces, max_depth=1)]), \"each vertex must have 2 indices\"\n",
    "            texture_vertices = [] if self.texture_vertices is None else self.texture_vertices\n",
    "            vlines = [\"v {} {} {}\\n\".format(*v) for v in self.vertices]\n",
    "            vtlines = [\"vt {} {}\\n\".format(*vt) for vt in texture_vertices]\n",
    "            nlines = [\"vn {} {} {}\\n\".format(*n) for n in self.normals] if self.normals is not None else []\n",
    "            faces_with_normals = [[[v[0], v[1], v[0]] for v in fc] for fc in self.faces]\n",
    "            flines = [\"f {} {} {}\\n\".format(*[\"{}/{}/{}\".format(*[_int_or_nan_to_str(ix+1) for ix in v])\n",
    "                                              for v in fc]) for fc in faces_with_normals]\n",
    "            with open(filename, 'w') as f:\n",
    "                f.writelines(namelines)\n",
    "                f.writelines(vlines)\n",
    "                f.writelines(vtlines)\n",
    "                f.writelines(nlines)\n",
    "                f.writelines(flines)\n",
    "        return None\n",
    "    \n",
    "    @property\n",
    "    def only_vertices(self):\n",
    "        if self.texture_vertices is None:\n",
    "            assert all([not isinstance(v, Iterable) for v in flatten(self.faces, max_depth=1)]), \\\n",
    "                \"If texture_vertices is None, faces must be lists of vertex indices only\"\n",
    "            return True\n",
    "        return False\n",
    "    \n",
    "    @property\n",
    "    def is_triangular(self):\n",
    "        \"\"\"Check if mesh has triangular faces only.\"\"\"\n",
    "        return all([len(fc)==3 for fc in self.faces]) \n",
    "            \n",
    "    @property\n",
    "    def tris(self):\n",
    "        \"\"\"Get all 3d triangles in mesh as a numpy array. Entries are vertex indices.\"\"\"\n",
    "        if self.only_vertices:\n",
    "            return np.array([fc for fc in self.faces if len(fc)==3])\n",
    "        return np.array([[v[0] for v in fc] for fc in self.faces if len(fc)==3])\n",
    "    \n",
    "    @property\n",
    "    def texture_tris(self):\n",
    "        \"\"\"Get all texture triangles in mesh as a numpy array. Entries are texture_vertex indices.\"\"\"\n",
    "        if self.only_vertices:\n",
    "            return np.array([np.nan for fc in self.faces if len(fc)==3])\n",
    "        return np.array([[v[1] for v in fc] for fc in self.faces if len(fc)==3])\n",
    "    \n",
    "    @property\n",
    "    def vertex_textures(self):\n",
    "        \"\"\"Get array of vertex texture coordinates. If multiple textures per vertex are stored,\n",
    "        the last one is returned.\"\"\"\n",
    "        if self.only_vertices:\n",
    "            return np.nan*np.ones_like(self.vertices)[:,:2]\n",
    "        if len(self.texture_vertices) == 0:\n",
    "            return np.nan*np.ones_like(self.vertices)[:,:2]\n",
    "        v_vt_pairs = [np.nan for v in range(self.vertices.shape[0])] # in case there are stray vertices w/out face\n",
    "        for v, vt in flatten(self.faces, max_depth=1):\n",
    "            v_vt_pairs[v] = vt\n",
    "        return index_else_nan(self.texture_vertices, np.array(v_vt_pairs))\n",
    "    \n",
    "    def set_normals(self):\n",
    "        \"\"\"Recompute normals based on 3d positions. Only works for triangular meshes.\"\"\"\n",
    "        if not self.is_triangular:\n",
    "            warnings.warn(f\"Warning: mesh not triangular - normals may be incorrect\", RuntimeWarning)\n",
    "        normals = igl.per_vertex_normals(self.vertices, self.tris,)\n",
    "        self.normals = (normals.T / np.linalg.norm(normals, axis=1)).T\n",
    "        return None\n",
    "        \n",
    "    def get_uv_index_to_vertex_index_map(self):\n",
    "        \"\"\"Get map from texture vertex index to the corresponding 3d vertex index as a dictionary.\"\"\"\n",
    "        return {v[1]: v[0] for v in flatten(self.faces, max_depth=1) if not np.isnan(v[1])}\n",
    "    \n",
    "    def get_vertex_index_to_uv_index_map(self):\n",
    "        \"\"\"\n",
    "        Get map from 3d vertex index to the corresponding UV vertex index as a dictionary.\n",
    "        \n",
    "        Note: each dict value is a list, since a 3d vertex can map to multiple UV vertices.\n",
    "        For vertices that do not have any corresponding UV vertex, the list is empty.\n",
    "        \"\"\"\n",
    "        uv_to_vertex = self.get_uv_index_to_vertex_index_map()\n",
    "        vertex_to_uv = invert_dictionary(uv_to_vertex, assume_unique=False)\n",
    "        missing = set(range(self.vertices.shape[0])).difference(set(vertex_to_uv.keys()))\n",
    "        for m in missing:\n",
    "            vertex_to_uv[m] = []\n",
    "        return vertex_to_uv\n",
    "        \n",
    "    def get_vertex_to_texture_vertex_indices(self):\n",
    "        \"\"\"\n",
    "        Get an array of indices into 3d vertices that map them to the corresponding texture vertices.\n",
    "        \n",
    "        Useful for translating per-vertex data into per-texture-vertex data:\n",
    "        array -> array[self.get_vertex_to_texture_vertex_indices()]\n",
    "        \"\"\"\n",
    "        texture_vertex_dict = self.get_uv_index_to_vertex_index_map()\n",
    "        return np.array([texture_vertex_dict[i] for i in range(self.texture_vertices.shape[0])])\n",
    "        \n",
    "    def map_per_vertex_to_per_texture_vertex(self, field):\n",
    "        \"\"\"\n",
    "        Map per-vertex field (array of shape (n_vertices, ...)) to texture vertices.\n",
    "        vertices.\n",
    "        \"\"\"\n",
    "        return field[self.get_vertex_to_texture_vertex_indices()]\n",
    "        \n",
    "    def map_per_texture_vertex_to_per_vertex(self, field):\n",
    "        \"\"\"\n",
    "        Map per-texture vertex field (array of shape (n_texture_vertices, ...)) to 3d vertices.\n",
    "        vertices.\n",
    "        \"\"\"\n",
    "        vertex_to_uv = self.get_vertex_index_to_uv_index_map()\n",
    "        return np.stack([field[vertex_to_uv[i]].mean(axis=0) for i in range(self.vertices.shape[0])], axis=0)\n",
    "        \n",
    "    def cut_along_seams(self):\n",
    "        \"\"\"\n",
    "        Cut mesh along texture seams.\n",
    "\n",
    "        Returns a new ObjMesh in which the topology of the vertices matches the topology of the texture vertices,\n",
    "        by duplicating vertices along \"seams\" (i.e. which have multiple corresponding texture vertices),\n",
    "        and discarding any vertices without texture coordinates.\n",
    "        \n",
    "        Returns\n",
    "        -------\n",
    "        ObjMesh\n",
    "\n",
    "        \"\"\"\n",
    "        assert not self.only_vertices and len(self.normals) > 0 and len(self.texture_vertices) > 0, \\\n",
    "            \"\"\"Method requires texture or normal information\"\"\"\n",
    "        texture_vertex_dict = {v[1]: v[0] for v in flatten(self.faces, max_depth=1) if not np.isnan(v[1])}\n",
    "        matched_vertex_inds = np.array([texture_vertex_dict[i] for i in range(self.texture_vertices.shape[0])])\n",
    "        matched_vertices = self.vertices[matched_vertex_inds]\n",
    "        matched_normals = index_else_nan(self.normals, matched_vertex_inds)\n",
    "        cut_faces = [[[v[1], v[1]] for v in fc] for fc in self.faces if not any([np.isnan(v[1]) for v in fc])]\n",
    "        return ObjMesh(matched_vertices, cut_faces, texture_vertices=self.texture_vertices,\n",
    "                       normals=matched_normals, name=self.name)\n",
    "        \n",
    "    def apply_affine_to_mesh(self, trafo,):\n",
    "        \"\"\"\n",
    "        Apply affine transformation to mesh.\n",
    "        \n",
    "        Rotate/shear and translate vertices, rotate/shear and renormalize normals,\n",
    "        flip faces if the transformation determinant is -1.\n",
    "\n",
    "        Parameters\n",
    "        ----------\n",
    "        trafo : np.array of shape (4,4) or (3,3)\n",
    "            Transformation matrix. If (4,4), it is interpreted as an affine transformation.\n",
    "\n",
    "        Returns\n",
    "        -------\n",
    "        newmesh : ObjMesh\n",
    "            Transformed mesh.\n",
    "\n",
    "        \"\"\"\n",
    "        assert trafo.shape==(3,3) or trafo.shape==(4,4), \"Transformation matrix must be 3*3 or 4*4\"\n",
    "        if trafo.shape == (3,3):\n",
    "            trafo_matrix, trafo_translate = (trafo, np.zeros(3))\n",
    "        elif trafo.shape == (4,4):\n",
    "            trafo_matrix, trafo_translate = (trafo[:3,:3], trafo[:3,-1])\n",
    "        newmesh = deepcopy(self)\n",
    "        newmesh.vertices = self.vertices@trafo_matrix.T + trafo_translate\n",
    "        if self.normals is not None:\n",
    "            normals_transformed = self.normals@trafo_matrix.T\n",
    "            newmesh.normals = (normals_transformed.T / np.linalg.norm(normals_transformed, axis=-1)).T\n",
    "        if np.linalg.det(trafo_matrix) < 0:\n",
    "            newmesh.faces = [fc[::-1] for fc in self.faces]\n",
    "        return newmesh"
   ]
  },
  {
   "cell_type": "code",
   "execution_count": null,
   "id": "b075367a",
   "metadata": {},
   "outputs": [],
   "source": [
    "#| export\n",
    "\n",
    "def read_other_formats_without_uv(filename):\n",
    "    \"\"\"\n",
    "    Return vertices and faces from a non-.obj mesh file format. file.\n",
    "\n",
    "    Supported formats are .obj, .off, .stl, .wrl, .ply, .mesh.\n",
    "    Will NOT read in normals or texture coordinates. If you have texture\n",
    "    coordinates, save your mesh as .obj. Will only return triangular faces.\n",
    "\n",
    "    See https://libigl.github.io/libigl-python-bindings/igl_docs/#read_triangle_mesh.\n",
    "\n",
    "    Parameters\n",
    "    ----------\n",
    "    filename : str\n",
    "        filename\n",
    "    Returns\n",
    "    -------\n",
    "    mesh: ObjMesh\n",
    "        Only contains face and vertex info.\n",
    "    \"\"\"\n",
    "    vs, fs = igl.read_triangle_mesh(filename)\n",
    "    ns = igl.per_vertex_normals(vs, fs)\n",
    "    return ObjMesh(vs, fs, texture_vertices=None, normals=ns, name=None)\n"
   ]
  },
  {
   "cell_type": "markdown",
   "id": "f7d274c8",
   "metadata": {},
   "source": [
    "### Handling of non-triangular meshes\n",
    "\n",
    "We prefer to work with triangulated meshes. For triangulated meshes:\n",
    "1. there is a well-defined way to _interpolate_ data across mesh faces (barycentric interpolation)\n",
    "2. the deformation of a face under a mapping (e.g. cartographic map to the plane) is uniquely defined\n",
    "3. many more algorithms are available (notably in `igl`)\n",
    "\n",
    "Non-triangular meshes and meshes with mixes of triangles and higher-order faces, like quads, are supported by this data structure, but not recommended."
   ]
  },
  {
   "cell_type": "code",
   "execution_count": null,
   "id": "eeec156d",
   "metadata": {},
   "outputs": [],
   "source": [
    "# let's consider some examples\n",
    "mesh_cube = \"datasets/basics_example/cube.obj\"\n",
    "mesh_mixed= \"datasets/basics_example/cube_mixed.obj\"\n",
    "\n",
    "mesh_large = \"datasets/registration_example/Drosophila_reference.obj\"\n",
    "mesh_no_uv = \"datasets/basics_example/cube_no_uv.obj\"\n",
    "mesh_only_normals = \"datasets/basics_example/cube_only_normals.obj\"\n",
    "\n",
    "mesh_partial_uv = \"datasets/basics_example/cube_partial_uv.obj\"\n",
    "mesh_partial_uv_large = \"datasets/basics_example/torus.obj\""
   ]
  },
  {
   "cell_type": "code",
   "execution_count": null,
   "id": "787cbc67",
   "metadata": {},
   "outputs": [
    {
     "data": {
      "text/plain": [
       "<__main__.ObjMesh>"
      ]
     },
     "execution_count": null,
     "metadata": {},
     "output_type": "execute_result"
    },
    {
     "name": "stderr",
     "output_type": "stream",
     "text": [
      "Warning: readOBJ() ignored non-comment line 3:\n",
      "  o Cube\n"
     ]
    }
   ],
   "source": [
    "#| hide\n",
    "\n",
    "# construct an ObjMesh from the data returned by igl.read_obj\n",
    "\n",
    "vertices, texture_vertices, normals, faces, texture_faces, normal_faces = igl.read_obj(mesh_cube)\n",
    "if normals.shape[0] == 0:\n",
    "    obj_normals = None\n",
    "else:\n",
    "    obj_normals = igl.average_onto_vertices(vertices, faces, normals[normal_faces].mean(axis=1))\n",
    "if texture_faces.shape[0] == 0:\n",
    "    obj_texture_vertices = None\n",
    "    obj_faces = faces\n",
    "else:\n",
    "    obj_texture_vertices = texture_vertices\n",
    "    obj_faces = np.stack([faces, texture_faces], axis=2).tolist()\n",
    "\n",
    "ObjMesh(vertices, obj_faces, obj_texture_vertices, obj_normals)"
   ]
  },
  {
   "cell_type": "code",
   "execution_count": null,
   "id": "b38245f8",
   "metadata": {},
   "outputs": [
    {
     "name": "stderr",
     "output_type": "stream",
     "text": [
      "/tmp/ipykernel_1942162/3286167482.py:118: DeprecationWarning: Warning: non-triangular meshes are deprecated\n",
      "  warnings.warn(f\"Warning: non-triangular meshes are deprecated\", DeprecationWarning)\n",
      "Warning: readOBJ() ignored non-comment line 3:\n",
      "  o Cube\n"
     ]
    }
   ],
   "source": [
    "mesh = ObjMesh.read_obj(mesh_cube)\n"
   ]
  },
  {
   "cell_type": "code",
   "execution_count": null,
   "id": "e94efa30",
   "metadata": {},
   "outputs": [
    {
     "name": "stderr",
     "output_type": "stream",
     "text": [
      "Warning: readOBJ() ignored non-comment line 3:\n",
      "  o Cube\n"
     ]
    },
    {
     "ename": "ValueError",
     "evalue": "File 'basics_example/cube_mixed.obj' not found or containing faces of varying degree (which is not supported yet).",
     "output_type": "error",
     "traceback": [
      "\u001b[0;31m---------------------------------------------------------------------------\u001b[0m",
      "\u001b[0;31mValueError\u001b[0m                                Traceback (most recent call last)",
      "Cell \u001b[0;32mIn[13], line 7\u001b[0m\n\u001b[1;32m      1\u001b[0m \u001b[38;5;66;03m#| hide, notest\u001b[39;00m\n\u001b[1;32m      2\u001b[0m \n\u001b[1;32m      3\u001b[0m \n\u001b[1;32m      4\u001b[0m \u001b[38;5;66;03m# igl fails on mixed triangle/quad meshes. here, we'll use our own (slower) Python code as a fallback\u001b[39;00m\n\u001b[0;32m----> 7\u001b[0m vertices, texture_vertices, normals, faces, texture_faces, normal_faces \u001b[38;5;241m=\u001b[39m igl\u001b[38;5;241m.\u001b[39mread_obj(mesh_mixed)\n",
      "\u001b[0;31mValueError\u001b[0m: File 'basics_example/cube_mixed.obj' not found or containing faces of varying degree (which is not supported yet)."
     ]
    }
   ],
   "source": [
    "#| hide\n",
    "#| notest\n",
    "\n",
    "\n",
    "# igl fails on mixed triangle/quad meshes. here, we'll use our own (slower) Python code as a fallback\n",
    "\n",
    "\n",
    "vertices, texture_vertices, normals, faces, texture_faces, normal_faces = igl.read_obj(mesh_mixed)"
   ]
  },
  {
   "cell_type": "code",
   "execution_count": null,
   "id": "f875a478",
   "metadata": {},
   "outputs": [
    {
     "name": "stderr",
     "output_type": "stream",
     "text": [
      "Warning: readOBJ() ignored non-comment line 3:\n",
      "  o Cube\n",
      "/tmp/ipykernel_1942162/3286167482.py:82: DeprecationWarning: Warning: non-triangular meshes are deprecated\n",
      "  warnings.warn(f\"Warning: non-triangular meshes are deprecated\", DeprecationWarning)\n"
     ]
    },
    {
     "data": {
      "text/plain": [
       "<__main__.ObjMesh>"
      ]
     },
     "execution_count": null,
     "metadata": {},
     "output_type": "execute_result"
    }
   ],
   "source": [
    "ObjMesh.read_obj(mesh_mixed)"
   ]
  },
  {
   "cell_type": "code",
   "execution_count": null,
   "id": "92a3114c",
   "metadata": {},
   "outputs": [
    {
     "name": "stderr",
     "output_type": "stream",
     "text": [
      "Warning: readOBJ() ignored non-comment line 3:\n",
      "  o Cube\n",
      "/tmp/ipykernel_1942162/3286167482.py:82: DeprecationWarning: Warning: non-triangular meshes are deprecated\n",
      "  warnings.warn(f\"Warning: non-triangular meshes are deprecated\", DeprecationWarning)\n"
     ]
    },
    {
     "data": {
      "text/plain": [
       "[[0, 1, 3, 2],\n",
       " [2, 3, 7, 6],\n",
       " [6, 7, 5, 4],\n",
       " [4, 5, 1, 0],\n",
       " [2, 6, 4, 0],\n",
       " [3, 5, 7],\n",
       " [3, 1, 5]]"
      ]
     },
     "execution_count": null,
     "metadata": {},
     "output_type": "execute_result"
    }
   ],
   "source": [
    "ObjMesh.read_obj(mesh_mixed).faces"
   ]
  },
  {
   "cell_type": "code",
   "execution_count": null,
   "id": "30686e61",
   "metadata": {},
   "outputs": [
    {
     "name": "stderr",
     "output_type": "stream",
     "text": [
      "Warning: readOBJ() ignored non-comment line 3:\n",
      "  o Cube\n",
      "Error: readOBJ() face on line 32 has invalid format\n"
     ]
    },
    {
     "ename": "ValueError",
     "evalue": "File 'basics_example/cube_partial_uv.obj' not found or containing faces of varying degree (which is not supported yet).",
     "output_type": "error",
     "traceback": [
      "\u001b[0;31m---------------------------------------------------------------------------\u001b[0m",
      "\u001b[0;31mValueError\u001b[0m                                Traceback (most recent call last)",
      "Cell \u001b[0;32mIn[18], line 6\u001b[0m\n\u001b[1;32m      1\u001b[0m \u001b[38;5;66;03m#| hide\u001b[39;00m\n\u001b[1;32m      2\u001b[0m \u001b[38;5;66;03m#| notest\u001b[39;00m\n\u001b[1;32m      3\u001b[0m \n\u001b[1;32m      4\u001b[0m \u001b[38;5;66;03m# igl also fails for partial UV info\u001b[39;00m\n\u001b[0;32m----> 6\u001b[0m vertices, texture_vertices, normals, faces, texture_faces, normal_faces \u001b[38;5;241m=\u001b[39m igl\u001b[38;5;241m.\u001b[39mread_obj(mesh_partial_uv)\n",
      "\u001b[0;31mValueError\u001b[0m: File 'basics_example/cube_partial_uv.obj' not found or containing faces of varying degree (which is not supported yet)."
     ]
    }
   ],
   "source": [
    "#| hide\n",
    "#| notest\n",
    "\n",
    "# igl also fails for partial UV info\n",
    "\n",
    "vertices, texture_vertices, normals, faces, texture_faces, normal_faces = igl.read_obj(mesh_partial_uv)"
   ]
  },
  {
   "cell_type": "code",
   "execution_count": null,
   "id": "c188fe00",
   "metadata": {},
   "outputs": [
    {
     "name": "stderr",
     "output_type": "stream",
     "text": [
      "Warning: readOBJ() ignored non-comment line 3:\n",
      "  o Cube\n",
      "Error: readOBJ() face on line 32 has invalid format\n"
     ]
    },
    {
     "data": {
      "text/plain": [
       "[[[1, nan], [2, nan], [0, nan]],\n",
       " [[3, nan], [6, nan], [2, nan]],\n",
       " [[7, nan], [4, nan], [6, nan]],\n",
       " [[5, 1], [0, 2], [4, 3]],\n",
       " [[6, nan], [0, nan], [2, nan]],\n",
       " [[3, 4], [5, 1], [7, 5]],\n",
       " [[1, nan], [3, 0], [2, nan]],\n",
       " [[3, nan], [7, nan], [6, nan]],\n",
       " [[7, 12], [5, nan], [4, nan]],\n",
       " [[5, 1], [1, 6], [0, 2]],\n",
       " [[6, nan], [4, nan], [0, nan]],\n",
       " [[3, 4], [1, 6], [5, 1]]]"
      ]
     },
     "execution_count": null,
     "metadata": {},
     "output_type": "execute_result"
    }
   ],
   "source": [
    "# for meshes with partial UV information, missing data is represented by np.nan\n",
    "\n",
    "ObjMesh.read_obj(mesh_partial_uv).faces"
   ]
  },
  {
   "cell_type": "code",
   "execution_count": null,
   "id": "f21b7ff7",
   "metadata": {},
   "outputs": [
    {
     "name": "stderr",
     "output_type": "stream",
     "text": [
      "UsageError: Line magic function `%%timeit` not found.\n"
     ]
    }
   ],
   "source": [
    "#| hide\n",
    "\n",
    "%%timeit\n",
    "_ = ObjMesh.read_obj(mesh_large)"
   ]
  },
  {
   "cell_type": "code",
   "execution_count": null,
   "id": "05530f81",
   "metadata": {},
   "outputs": [
    {
     "name": "stderr",
     "output_type": "stream",
     "text": [
      "UsageError: Line magic function `%%timeit` not found.\n"
     ]
    }
   ],
   "source": [
    "#| hide\n",
    "\n",
    "%%timeit\n",
    "_ = ObjMesh.read_obj_fallback(mesh_large)"
   ]
  },
  {
   "cell_type": "markdown",
   "id": "b7a9fdb2",
   "metadata": {},
   "source": [
    "### Test read/write "
   ]
  },
  {
   "cell_type": "code",
   "execution_count": null,
   "id": "5c97963d",
   "metadata": {},
   "outputs": [
    {
     "name": "stderr",
     "output_type": "stream",
     "text": [
      "Warning: readOBJ() ignored non-comment line 4:\n",
      "  o Cube\n"
     ]
    },
    {
     "data": {
      "text/plain": [
       "<__main__.ObjMesh>"
      ]
     },
     "execution_count": null,
     "metadata": {},
     "output_type": "execute_result"
    }
   ],
   "source": [
    "read_other_formats_without_uv(\"datasets/wrapping_example/mixed_faces_example.obj\")"
   ]
  },
  {
   "cell_type": "code",
   "execution_count": null,
   "id": "22082112",
   "metadata": {},
   "outputs": [
    {
     "name": "stderr",
     "output_type": "stream",
     "text": [
      "Warning: readOBJ() ignored non-comment line 1:\n",
      "  o Drosophila_reference_preregistered\n"
     ]
    }
   ],
   "source": [
    "# test the read_obj function on an example\n",
    "mesh_fname_data = \"datasets/registration_example/Drosophila_CAAX-mCherry_mesh_remeshed.obj\"\n",
    "\n",
    "mesh = ObjMesh.read_obj(mesh_fname_data)"
   ]
  },
  {
   "cell_type": "markdown",
   "id": "8b275a68",
   "metadata": {},
   "source": [
    "## Mesh cutting and gluing\n",
    "\n",
    "The `cut_along_seams` method can be used to \"cut\" a mesh along its UV seams. This duplicates 3d vertices so that the 3d topology and the unwrapped UV topology match. For example, if your UV map cuts your sphere mesh into a north and a south hemisphere for unwrapping, `cut_along_seams` will cut the mesh into two halves.\n",
    "\n",
    "Conversely, `glue_seams` undoes the cutting by merging close vertices."
   ]
  },
  {
   "cell_type": "code",
   "execution_count": null,
   "id": "cffc829d",
   "metadata": {},
   "outputs": [],
   "source": [
    "#| export\n",
    "\n",
    "def glue_seams(mesh, decimals=None):\n",
    "    \"\"\"\n",
    "    Merge close vertices.\n",
    "\n",
    "    Useful to undo cutting of meshes along UV seams. Note: the exact order of vertices will\n",
    "    not in general be recovered by gluing after cutting.\n",
    "\n",
    "    Parameters\n",
    "    ----------\n",
    "    mesh : ObjMesh\n",
    "    decimals : int or None, default 10\n",
    "        Vertices whose positions agree up to 'decimals' decimals are merged. Note: you can use negative values.\n",
    "        If None, estimate a value based on the shortest edge length in the mesh (-2*log_10(minimum length))\n",
    "\n",
    "    Returns\n",
    "    -------\n",
    "    glued_mesh : ObjMesh\n",
    "        Mesh with merged vertices.\n",
    "\n",
    "    \"\"\"\n",
    "    if decimals is None:\n",
    "        ls = igl.edge_lengths(mesh.vertices, mesh.tris)\n",
    "        decimals = np.round(-2*np.log10(ls.min())).astype(int)\n",
    "    rounded_verts = np.round(mesh.vertices, decimals=decimals)\n",
    "    unique_verts, index, inverse_index = np.unique(rounded_verts, axis=0, return_index=True, return_inverse=True)\n",
    "    sort_index = index.argsort()\n",
    "    sort_sort_index = sort_index.argsort()\n",
    "    unique_verts = unique_verts[sort_index]\n",
    "    glued_faces = [[[sort_sort_index[inverse_index[v[0]]], v[1]] for v in fc] for fc in mesh.faces]\n",
    "    glued_mesh = ObjMesh(unique_verts, glued_faces, texture_vertices=mesh.texture_vertices,\n",
    "                         normals=None, name=mesh.name)\n",
    "    glued_mesh.set_normals()\n",
    "    return glued_mesh"
   ]
  },
  {
   "cell_type": "code",
   "execution_count": null,
   "id": "cd2f0a4b",
   "metadata": {},
   "outputs": [
    {
     "name": "stderr",
     "output_type": "stream",
     "text": [
      "Warning: readOBJ() ignored non-comment line 4:\n",
      "  o mesh_01_cylinder_seams_uv\n"
     ]
    },
    {
     "data": {
      "text/plain": [
       "((20212, 3), (20623, 3), (12036, 3))"
      ]
     },
     "execution_count": null,
     "metadata": {},
     "output_type": "execute_result"
    }
   ],
   "source": [
    "mesh = ObjMesh.read_obj(\"datasets/movie_example/initial_uv.obj\")\n",
    "mesh_cut = mesh.cut_along_seams()\n",
    "glued_mesh = glue_seams(mesh_cut)\n",
    "glued_mesh.write_obj(\"datasets/movie_example/initial_uv_glued.obj\")\n",
    "\n",
    "mesh.vertices.shape, mesh_cut.vertices.shape, glued_mesh.vertices.shape"
   ]
  }
 ],
 "metadata": {
  "kernelspec": {
   "display_name": "conda-env-blender-tissue-cartography-py",
   "language": "python",
   "name": "conda-env-blender-tissue-cartography-py"
  }
 },
 "nbformat": 4,
 "nbformat_minor": 5
}

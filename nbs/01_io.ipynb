{
 "cells": [
  {
   "cell_type": "code",
   "execution_count": null,
   "id": "92e8c94f",
   "metadata": {},
   "outputs": [],
   "source": [
    "#| default_exp io"
   ]
  },
  {
   "cell_type": "code",
   "execution_count": null,
   "id": "c01ea96c",
   "metadata": {},
   "outputs": [],
   "source": [
    "#| export\n",
    "\n",
    "import numpy as np\n",
    "from skimage import transform\n",
    "from skimage.io import imread, imsave\n",
    "import h5py\n",
    "from typing import Iterable\n",
    "import tifffile\n",
    "import json"
   ]
  },
  {
   "cell_type": "code",
   "execution_count": null,
   "id": "49966bf2",
   "metadata": {},
   "outputs": [],
   "source": [
    "import matplotlib.pyplot as plt\n",
    "import os\n",
    "import mcubes"
   ]
  },
  {
   "cell_type": "markdown",
   "id": "f5514327",
   "metadata": {},
   "source": [
    "## Basic I/O\n",
    "\n",
    "In this notebook, we define a number of functions for image, mesh, and metadata loading and saving, and show how to use the with the data from the ``basics_example`` folder."
   ]
  },
  {
   "cell_type": "markdown",
   "id": "a586f315",
   "metadata": {},
   "source": [
    "## Load and subsample data for segmentation\n",
    "\n",
    "Let's load the dataset. We then enter the relevant metadata - the filename, resolution in microns, and how much we want to subsample for segmentation purposes."
   ]
  },
  {
   "cell_type": "code",
   "execution_count": null,
   "id": "a1c7e707",
   "metadata": {},
   "outputs": [],
   "source": [
    "#| export\n",
    "\n",
    "def adjust_axis_order(image, channel_axis=None):\n",
    "    \"\"\"\n",
    "    Adjust axis order of image (numpy array) so that the channel axis is axis 0. \n",
    "    \n",
    "    If channel axis is not specified, it is infered as the axis with the smallest number of entries.\n",
    "    If the image contains a single channel, this function adds a singleton dimension.\n",
    "    Axis order is otherwise left unchanged. Image must have 3 axes (single channel volumetric)\n",
    "    or four axes (multichannel volumetric). \n",
    "    \n",
    "    Parameters\n",
    "    ----------\n",
    "    image: np.ndarray with 3 or 4 axes\n",
    "        Input image.\n",
    "    channel_axis: int or None, optional\n",
    "        Channel axis\n",
    "    \n",
    "    Returns\n",
    "    -------\n",
    "    transposed image: np.ndarray with 4 axes\n",
    "        Input image, channel now axis 0.\n",
    "    \"\"\"\n",
    "    assert 2 < len(image.shape) <5 , \"image must have 3 or 4 axes\"\n",
    "    if len(image.shape) == 3:\n",
    "        return image[np.newaxis]\n",
    "    if channel_axis is None:\n",
    "        channel_axis = np.argmin(image.shape)\n",
    "    return np.moveaxis(image, channel_axis, 0)"
   ]
  },
  {
   "cell_type": "code",
   "execution_count": null,
   "id": "2346a597",
   "metadata": {},
   "outputs": [],
   "source": [
    "metadata_dict = {'filename': 'basics_example/basics_example',\n",
    "                 'resolution_in_microns': (1, 0.36, 0.36), # you can typically get this from the .tif metadata\n",
    "                 'subsampling_factors': (1, 1/3, 1/3),\n",
    "                 'normal_offsets':np.linspace(-2, 2, 5) # normal offsets for map projection, in microns\n",
    "                }"
   ]
  },
  {
   "cell_type": "code",
   "execution_count": null,
   "id": "b1fa308e",
   "metadata": {},
   "outputs": [
    {
     "name": "stdout",
     "output_type": "stream",
     "text": [
      "image shape: (2, 26, 454, 511)\n"
     ]
    }
   ],
   "source": [
    "image = adjust_axis_order(imread(f\"{metadata_dict['filename']}.tif\"))\n",
    "print(\"image shape:\", image.shape) # image shape - spatial axes are in z-x-y order"
   ]
  },
  {
   "cell_type": "code",
   "execution_count": null,
   "id": "1981c01d",
   "metadata": {},
   "outputs": [
    {
     "name": "stdout",
     "output_type": "stream",
     "text": [
      "subsampled image shape: (2, 26, 151, 170)\n"
     ]
    }
   ],
   "source": [
    "subsampled_image = transform.rescale(image, metadata_dict['subsampling_factors'],\n",
    "                                     channel_axis=0, preserve_range=True)\n",
    "print(\"subsampled image shape:\", subsampled_image.shape)"
   ]
  },
  {
   "cell_type": "markdown",
   "id": "901857d3",
   "metadata": {},
   "source": [
    "## Create 3d segmentation\n",
    "\n",
    "Now create a 3d segmentation, in this case using ilatik. ilastik works best with input saved as `.h5` data sets. "
   ]
  },
  {
   "cell_type": "code",
   "execution_count": null,
   "id": "51eb13ee",
   "metadata": {},
   "outputs": [],
   "source": [
    "#| export\n",
    "\n",
    "def save_h5(filename, image, h5_dataset_name=\"image\"):\n",
    "    \"\"\"Save image (numpy array) as .h5 file (e.g. as input for ilastik).\"\"\"\n",
    "    with h5py.File(filename, \"w\") as f:\n",
    "        f.create_dataset('image', data=image)\n",
    "    return None\n",
    "\n",
    "def load_h5(filename):\n",
    "    \"\"\"Load .h5 file (e.g. ilastik output) into numpy array. Loads alphabetically first entry in .h5.\"\"\"\n",
    "    with h5py.File(filename, \"r\") as f:\n",
    "        arr = f[sorted(f.keys())[0]][()] \n",
    "    return arr"
   ]
  },
  {
   "cell_type": "code",
   "execution_count": null,
   "id": "62c33c8b",
   "metadata": {},
   "outputs": [],
   "source": [
    "# we now save the subsampled image a .h5 file for input into ilastik for segmentation\n",
    "\n",
    "save_h5(f\"{metadata_dict['filename']}_subsampled.h5\", subsampled_image)"
   ]
  },
  {
   "cell_type": "code",
   "execution_count": null,
   "id": "16e77650",
   "metadata": {},
   "outputs": [
    {
     "name": "stdout",
     "output_type": "stream",
     "text": [
      "segmentation shape: (26, 151, 170)\n"
     ]
    }
   ],
   "source": [
    "# after creating an ilastik project, training the model, and exporting the probabilities, we load the segmentation\n",
    "\n",
    "segmentation = load_h5(f\"{metadata_dict['filename']}_subsampled-image_Probabilities.h5\")\n",
    "segmentation = segmentation[0] # select the first channel of the segmentation - it's the probablity a pixel\n",
    "                               # is part of the sample\n",
    "print(\"segmentation shape:\", segmentation.shape)"
   ]
  },
  {
   "cell_type": "code",
   "execution_count": null,
   "id": "ba35599c",
   "metadata": {},
   "outputs": [
    {
     "data": {
      "text/plain": [
       "<matplotlib.image.AxesImage>"
      ]
     },
     "execution_count": null,
     "metadata": {},
     "output_type": "execute_result"
    },
    {
     "data": {
      "image/png": "[encoded data removed]",
      "text/plain": [
       "<Figure size 640x480 with 1 Axes>"
      ]
     },
     "metadata": {},
     "output_type": "display_data"
    }
   ],
   "source": [
    "# look at the segmentation in a cross section\n",
    "\n",
    "plt.imshow(segmentation[:,:,50], vmin=0, vmax=1)"
   ]
  },
  {
   "cell_type": "markdown",
   "id": "7c012870",
   "metadata": {},
   "source": [
    "## Meshing\n",
    "\n",
    "We convert the segmentation into a triangular mesh using the marching cubes method, and save the mesh. We introduce a couple of functions for mesh io and mesh handling. We save all meshes in as wavefront `.obj` files (see [wikipedia](https://en.wikipedia.org/wiki/Wavefront_.obj_file)). In python, we represent missing entries (such as a vertex which doesn't have a normal by `np.nan`.\n",
    "\n",
    "**Important convention** For sanities sake, we will always store all mesh coordinates in microns. This means rescaling appropriately after calculating the mesh from the 3d segmentation."
   ]
  },
  {
   "cell_type": "code",
   "execution_count": null,
   "id": "1d84ba4f",
   "metadata": {},
   "outputs": [],
   "source": [
    "#| export\n",
    "\n",
    "def flatten(lst, max_depth=1000, iter_count=0):\n",
    "    \"\"\"\n",
    "    Flatten a list of lists into a list.\n",
    "\n",
    "    Also works with inhomogeneous lists, e.g., [[0,1],2]. The argument\n",
    "    depth determines how \"deep\" to flatten the list, e.g. with max_depth=1:\n",
    "    [[(1,0), (1,0)]] -> [(1,0), (1,0)].\n",
    "\n",
    "    Parameters\n",
    "    ----------\n",
    "    lst : list\n",
    "        list-of-lists.\n",
    "    max_depth : int, optional\n",
    "        To what depth to flatten the list.\n",
    "    iter_count : int, optional\n",
    "        Helper argument for recursion depth determination.\n",
    "    \n",
    "    Returns\n",
    "    -------\n",
    "    iterator\n",
    "        flattened list.\n",
    "    \"\"\"\n",
    "    for el in lst:\n",
    "        if (isinstance(el, Iterable) and not isinstance(el, (str, bytes))\n",
    "                and iter_count < max_depth):\n",
    "            yield from flatten(el, max_depth=max_depth,\n",
    "                               iter_count=iter_count+1)\n",
    "        else:\n",
    "            yield el\n",
    "            \n",
    "def str_to_int_or_nan(x):\n",
    "    \"\"\"Convert string to int or np.nan if string is empty\"\"\"\n",
    "    if x == '':\n",
    "        return np.nan\n",
    "    return int(x)\n",
    "\n",
    "def int_or_nan_to_str(x):\n",
    "    \"\"\"Convert int/nan to string. np.nan is converted to empty string\"\"\"\n",
    "    if np.isnan(x):\n",
    "        return ''\n",
    "    return str(x)\n",
    "\n",
    "def pad_list(lst, length=3, fill_value=np.nan):\n",
    "    \"\"\"Pad end of list with fill_value if shorter than desired length.\"\"\"\n",
    "    return lst + max([0, (length-len(lst))]) * [fill_value,]\n",
    "\n",
    "def read_obj(filename):\n",
    "    \"\"\"\n",
    "    Return vertices, texture vertices, normals, and faces from an obj file.\n",
    "    \n",
    "    Faces are lists of 3-tuples vertex/texture vertex/normal. If a certain vertex has no texture or normal \n",
    "    associated to it, the entry is np.nan, else it is an index into the vertex, texture, and normal arrays\n",
    "    (note: indices of returned faces start at 0!). See https://en.wikipedia.org/wiki/Wavefront_.obj_file.\n",
    "\n",
    "    Parameters\n",
    "    ----------\n",
    "    filename : str\n",
    "        filename\n",
    "    Returns\n",
    "    -------\n",
    "    mesh: dict with entries \"vertices\", \"texture_vertices\", \"normals\", and \"faces\"\n",
    "        vertices, texture_vertices, and normals are np.arrays, faces is a list of lists.\n",
    "    \"\"\"\n",
    "\n",
    "    \n",
    "    with open(filename, 'r') as f:\n",
    "        lines = f.readlines()\n",
    "    vs = np.array([ln.split()[1:] for ln in lines if ln.startswith(\"v \")]).astype(float)\n",
    "    vts = np.array([ln.split()[1:] for ln in lines if ln.startswith(\"vt \")]).astype(float)\n",
    "    ns = np.array([ln.split()[1:] for ln in lines if ln.startswith(\"vn \")]).astype(float)\n",
    "    fs = [ln.split()[1:] for ln in lines if ln.startswith(\"f \")]\n",
    "    fs = [[pad_list([str_to_int_or_nan(y)-1 for y in x.split(\"/\")], length=3, fill_value=np.nan)\n",
    "           for x in f] for f in fs]\n",
    "    mesh = {\"vertices\": vs, \"texture_vertices\": vts, \"normals\": ns, \"faces\": fs}\n",
    "    return mesh\n",
    "\n",
    "def write_obj(filename, faces, vertices, texture_vertices=None, normals=None, indices_start_at_one=False):\n",
    "    \"\"\"\n",
    "    Write mesh to .obj format\n",
    "    \n",
    "    Can write texture coordinates and normals if included. \n",
    "    \n",
    "    Parameters\n",
    "    ----------\n",
    "    filename : str\n",
    "        filename to save to\n",
    "    vertices : np.array of shape (..., 3)\n",
    "        vertices\n",
    "    faces : list \n",
    "        Faces. A face can be either a list of vertex indices, or a list of vertex/texture/normal index tuples.\n",
    "        Indices can be np.nan or None to represent missing data.\n",
    "    texture_vertices: np.array of shape (..., 2), optional\n",
    "        Texture vertices\n",
    "    normals: np.array of shape (..., 3), optional\n",
    "         Normals\n",
    "    indices_start_at_one : bool, default True\n",
    "        Whether face indices start at one or at 0.\n",
    "    \n",
    "    Returns\n",
    "    -------\n",
    "    None\n",
    "    \n",
    "    \"\"\"\n",
    "    faces_include_texture = all([isinstance(v, Iterable) for v in flatten(faces, max_depth=1)])\n",
    "    if not faces_include_texture:\n",
    "        with open(filename, 'w') as f:\n",
    "            for v in vertices:\n",
    "                f.write(\"v {} {} {}\\n\".format(*v))\n",
    "            for fc in faces:\n",
    "                if not indices_start_at_one:\n",
    "                    fc = [v+1 for v in fc]\n",
    "                f.write(\"f {} {} {}\\n\".format(*fc))\n",
    "    if faces_include_texture:\n",
    "        assert all([len(v) ==3 for v in flatten(faces, max_depth=1)]), \"each vertex should contain 3 indices\"\n",
    "        texture_vertices = [] if texture_vertices is None else texture_vertices\n",
    "        normals = [] if normals is None else normals\n",
    "        with open(filename, 'w') as f:\n",
    "            for v in vertices:\n",
    "                f.write(\"v {} {} {}\\n\".format(*v))\n",
    "            for vt in texture_vertices:\n",
    "                f.write(\"vt {} {}\\n\".format(*vt))\n",
    "            for n in normals:\n",
    "                f.write(\"vn {} {} {}\\n\".format(*n))\n",
    "            for fc in faces:\n",
    "                if not indices_start_at_one:\n",
    "                    fc = [[ix+1 for ix in v] for v in fc]\n",
    "                fc = [[int_or_nan_to_str(ix) for ix in v] for v in fc]\n",
    "                f.write(\"f {} {} {}\\n\".format(*[\"{}/{}/{}\".format(*v) for v in fc]))\n",
    "    return None\n"
   ]
  },
  {
   "cell_type": "code",
   "execution_count": null,
   "id": "4574ed11",
   "metadata": {},
   "outputs": [],
   "source": [
    "#| export\n",
    "\n",
    "def match_vertex_info(faces, vertices, texture_vertices, normals):\n",
    "    \"\"\"\n",
    "    Match up 3d vertex coordinates / texture coordinates / normals based on face connectivity.\n",
    "    \n",
    "    Parameters\n",
    "    ----------\n",
    "    faces : list\n",
    "        List of faces. Each face is a list of vertex/texture vertex/normal array index triples. Indices start at 0!\n",
    "    vertices : np.array of shape (..., 3)\n",
    "        Vertices\n",
    "    texture_vertices: np.array of shape (..., 2)\n",
    "        Texture vertices\n",
    "    normals: np.array of shape (..., 3)\n",
    "         Normals\n",
    "    \n",
    "    Returns\n",
    "    -------\n",
    "    dict with entries:\n",
    "        vertices : np.array of shape (n_matched, 3)\n",
    "            Matched vertices\n",
    "        texture_vertices: np.array of shape (n_matched, 2)\n",
    "            Matched texture vertices\n",
    "        normals: np.array of shape (n_matched, 3)\n",
    "            Matched normals\n",
    "\n",
    "    \"\"\"\n",
    "    unique_v_vt_n_pairs = set([tuple(x) for x in flatten([fc for fc in faces\n",
    "                                                      if not np.isnan(list(flatten(fc))).any()], max_depth=1)])\n",
    "\n",
    "    matched_vertices = np.stack([vertices[ix[0]] for ix in unique_v_vt_n_pairs])\n",
    "    matched_texture_vertices = np.stack([texture_vertices[ix[1]] for ix in unique_v_vt_n_pairs])\n",
    "    matched_normals = np.stack([normals[ix[2]] for ix in unique_v_vt_n_pairs])\n",
    "    return {\"vertices\": matched_vertices,\n",
    "            \"texture_vertices\": matched_texture_vertices,\n",
    "            \"normals\": matched_normals}"
   ]
  },
  {
   "cell_type": "code",
   "execution_count": null,
   "id": "5541aa79",
   "metadata": {},
   "outputs": [],
   "source": [
    "# now we create a 3d mesh of using the marching cubes method\n",
    "\n",
    "level_set = mcubes.smooth(segmentation, method=\"gaussian\") # converts segmentation into level set, with 0=surface\n",
    "vertices, faces = mcubes.marching_cubes(level_set, 0)\n",
    "\n",
    "# EXTREMELY IMPORTANT - we now rescale the vertex coordinates so that they are in microns.\n",
    "vertices_in_microns = vertices * (np.array(metadata_dict['resolution_in_microns'])\n",
    "                                 /np.array(metadata_dict['subsampling_factors']))"
   ]
  },
  {
   "cell_type": "code",
   "execution_count": null,
   "id": "e77e7f09",
   "metadata": {},
   "outputs": [],
   "source": [
    "write_obj(f\"{metadata_dict['filename']}_mesh_marching_cubes.obj\", faces, vertices_in_microns,\n",
    "          indices_start_at_one=False)"
   ]
  },
  {
   "cell_type": "markdown",
   "id": "cf752cb2",
   "metadata": {},
   "source": [
    "### Saving the results\n",
    "\n",
    "We can now save the cartographic projections both as `.tif` stack for quantitative analysis, and as `.png`'s for visualization as mesh texture in blender. We will also save the metadata to a `.json` file\n",
    "\n",
    "Annoyingly, we have to normalize our data and convert it to 8-bit to save it as png."
   ]
  },
  {
   "cell_type": "code",
   "execution_count": null,
   "id": "1ce60c7c",
   "metadata": {},
   "outputs": [],
   "source": [
    "#| export\n",
    "\n",
    "def save_dict_to_json(filename, dictionary):\n",
    "    \"\"\"\n",
    "    Save dictionary to .json file.\n",
    "    \n",
    "    Will automatically convert numpy arrays to lists for saving. If you get an error like \"XXX is not JSON\n",
    "    serializable\", you need to ensure all your dictionary items are things that can be saved to text by json\n",
    "    (strings, numbers, lists).\n",
    "    \n",
    "    Parameters\n",
    "    ----------\n",
    "    filename : str\n",
    "        Filename to save to\n",
    "    dictionary : dict\n",
    "        Dictionary to save\n",
    "    \n",
    "    Returns\n",
    "    -------\n",
    "    None\n",
    "    \"\"\"\n",
    "    serializable_dictionary = {key: val.tolist() if isinstance(val, np.ndarray) else val\n",
    "                               for key, val in dictionary.items()}\n",
    "    with open(filename, \"w\") as f:\n",
    "        json.dump(serializable_dictionary, f)\n",
    "    return None"
   ]
  },
  {
   "cell_type": "code",
   "execution_count": null,
   "id": "823262d4",
   "metadata": {},
   "outputs": [],
   "source": [
    "# save metadata\n",
    "save_dict_to_json(f\"{metadata_dict['filename']}_metadata.json\", metadata_dict)"
   ]
  },
  {
   "cell_type": "code",
   "execution_count": null,
   "id": "70038a0f",
   "metadata": {},
   "outputs": [],
   "source": [
    "#| export\n",
    "\n",
    "def save_for_imageJ(filename, image, z_axis=None, channel_axis=None):\n",
    "    \"\"\"\n",
    "    Save image as 32bit ImageJ compatible .tif file\n",
    "    \n",
    "    If channel_axis is not provided, it is inferred as the shortest axis.\n",
    "    If z-axis is provided for a 4d array, it will be set as the default z-axis for ImageJ.\n",
    "    \"\"\"\n",
    "    channel_axis = np.argmin(image.shape) if channel_axis is None else channel_axis\n",
    "    if len(image.shape) == 3:\n",
    "        transposed_image = np.moveaxis(image, channel_axis, 0)\n",
    "        tifffile.imwrite(filename, transposed_image.astype(np.float32),\n",
    "                         metadata={'axes': 'CYX'}, imagej=True,)\n",
    "    elif len(image.shape) == 4:\n",
    "        if z_axis is not None:\n",
    "            transposed_image = np.moveaxis(image, (z_axis, channel_axis), (0,1))\n",
    "        else:\n",
    "            transposed_image = np.moveaxis(image, channel_axis, 1)\n",
    "        tifffile.imwrite(filename, transposed_image.astype(np.float32),\n",
    "                         metadata={'axes': 'ZCYX'}, imagej=True,)\n",
    "    return None\n",
    "    \n",
    "def normalize_quantiles_for_png(image, quantiles=(0.01, 0.99)):\n",
    "    \"\"\"\n",
    "    Normalize an image by setting given quantiles to 0 and 255 and converting to 8-bit, for saving as .png\n",
    "    \n",
    "    Also replaces nan by 0.\n",
    "    \n",
    "    Parameters\n",
    "    ----------\n",
    "    image : np.array\n",
    "        Image (should be single-channel)\n",
    "    quantiles : tuple\n",
    "        Image quantile to set to 0 and 255.\n",
    "    \n",
    "    Returns\n",
    "    -------\n",
    "    image_normalized : np.array\n",
    "        Normalized image, datatype np.uint8\n",
    "    \"\"\"\n",
    "    image_normalized = image - np.nanquantile(image, quantiles[0])\n",
    "    image_normalized /= np.nanquantile(image_normalized, quantiles[1])\n",
    "    image_normalized = np.nan_to_num(np.round(np.clip(255*image_normalized, 0, 255)), nan=0)\n",
    "    return image_normalized.astype(np.uint8)\n",
    "    \n",
    "    \n",
    "def save_stack_for_blender(image, directory, normalization=(0.01, 0.99)):\n",
    "    \"\"\"\n",
    "    Save multichannel volumetric image as series of grayscale .png images. Can normalize data if desired.\n",
    "    \n",
    "    This function necessarily converts the image to 8bit. Use a suitable normalization to ensure nothing \n",
    "    is lost.\n",
    "    \n",
    "    Parameters\n",
    "    ----------\n",
    "    image : 4d np.array\n",
    "        Axis 0 is assumed to be the channel axis, axis 1 is the slicing axes, i.e. images will correspond to\n",
    "        slices along axis 1.\n",
    "    directory : str\n",
    "        Path to save data to. Will create directory if it doesn't exist\n",
    "    normalization : tuple of float, or callable\n",
    "        Whether to normalize the image before saving it. If None, no normalization is performed. If a\n",
    "        tuple is given, it will be interpreted as quantiles to set to 0 and 255, respectively (over the\n",
    "        whole channel, not each slice). If a callable is provided, it will be applied to each channel.\n",
    "        \n",
    "    Returns\n",
    "    -------\n",
    "    None\n",
    "    \n",
    "    \"\"\"\n",
    "    directory = directory.removesuffix('/')\n",
    "    if not os.path.exists(directory):\n",
    "        os.makedirs(directory)\n",
    "    for ic, ch in enumerate(image):\n",
    "        if callable(normalization):\n",
    "            ch_normalized = normalization(ch)\n",
    "        if isinstance(normalization, tuple):\n",
    "            ch_normalized = normalize_quantiles_for_png(ch, quantiles=normalization)\n",
    "        for islc, slc in enumerate(ch_normalized):\n",
    "            slc = np.stack(3*[slc], axis=-1).astype(np.uint8) # necessary for saving as png\n",
    "            imsave(f'{directory}/channel_{ic}_slice_{str(islc).zfill(3)}.png', slc, check_contrast=False)\n",
    "    return None"
   ]
  },
  {
   "cell_type": "code",
   "execution_count": null,
   "id": "d399116f",
   "metadata": {},
   "outputs": [
    {
     "name": "stdout",
     "output_type": "stream",
     "text": [
      "Image shape (2, 5, 256, 256)\n"
     ]
    }
   ],
   "source": [
    "# read the data so we can check the saving function\n",
    "projected_data = adjust_axis_order(imread(f\"{metadata_dict['filename']}_projected.tif\"))\n",
    "print(\"Image shape\", projected_data.shape)"
   ]
  },
  {
   "cell_type": "code",
   "execution_count": null,
   "id": "c131da63",
   "metadata": {},
   "outputs": [],
   "source": [
    "save_for_imageJ(f\"{metadata_dict['filename']}_projected.tif\", projected_data, z_axis=1)"
   ]
  },
  {
   "cell_type": "code",
   "execution_count": null,
   "id": "b4e2ea70",
   "metadata": {},
   "outputs": [],
   "source": [
    "texture_path = f\"{os.getcwd()}/{metadata_dict['filename']}_textures\"\n",
    "save_stack_for_blender(projected_data, texture_path, normalization=(0.01, 0.99))"
   ]
  }
 ],
 "metadata": {
  "kernelspec": {
   "display_name": "python3",
   "language": "python",
   "name": "python3"
  }
 },
 "nbformat": 4,
 "nbformat_minor": 5
}

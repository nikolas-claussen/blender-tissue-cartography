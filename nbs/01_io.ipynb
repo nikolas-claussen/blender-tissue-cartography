{
 "cells": [
  {
   "cell_type": "code",
   "execution_count": 1,
   "id": "54aa0347",
   "metadata": {},
   "outputs": [],
   "source": [
    "#| default_exp io"
   ]
  },
  {
   "cell_type": "code",
   "execution_count": 2,
   "id": "c01ea96c",
   "metadata": {},
   "outputs": [],
   "source": [
    "#| export\n",
    "\n",
    "import numpy as np\n",
    "from skimage import transform\n",
    "from skimage.io import imread, imsave\n",
    "import h5py\n",
    "from typing import Iterable\n",
    "import tifffile\n",
    "import json\n",
    "import os\n",
    "from copy import deepcopy"
   ]
  },
  {
   "cell_type": "code",
   "execution_count": 3,
   "id": "d67c0267",
   "metadata": {},
   "outputs": [],
   "source": [
    "import matplotlib.pyplot as plt\n",
    "import mcubes"
   ]
  },
  {
   "cell_type": "markdown",
   "id": "f5514327",
   "metadata": {},
   "source": [
    "## Basic I/O\n",
    "\n",
    "In this notebook, we define a number of functions for image, mesh, and metadata loading and saving, and show how to use the with the data from the ``basics_example`` folder."
   ]
  },
  {
   "cell_type": "markdown",
   "id": "a586f315",
   "metadata": {},
   "source": [
    "## Load and subsample data for segmentation\n",
    "\n",
    "Let's load the dataset. We then enter the relevant metadata - the filename, resolution in microns, and how much we want to subsample for segmentation purposes."
   ]
  },
  {
   "cell_type": "code",
   "execution_count": 4,
   "id": "a1c7e707",
   "metadata": {},
   "outputs": [],
   "source": [
    "#| export\n",
    "\n",
    "def adjust_axis_order(image, channel_axis=None):\n",
    "    \"\"\"\n",
    "    Adjust axis order of image (numpy array) so that the channel axis is axis 0. \n",
    "    \n",
    "    If channel axis is not specified, it is infered as the axis with the smallest number of entries.\n",
    "    If the image contains a single channel, this function adds a singleton dimension.\n",
    "    Axis order is otherwise left unchanged. Image must have 3 axes (single channel volumetric)\n",
    "    or four axes (multichannel volumetric). \n",
    "    \n",
    "    Parameters\n",
    "    ----------\n",
    "    image: np.ndarray with 3 or 4 axes\n",
    "        Input image.\n",
    "    channel_axis: int or None, optional\n",
    "        Channel axis\n",
    "    \n",
    "    Returns\n",
    "    -------\n",
    "    transposed image: np.ndarray with 4 axes\n",
    "        Input image, channel now axis 0.\n",
    "    \"\"\"\n",
    "    assert 2 < len(image.shape) <5 , \"image must have 3 or 4 axes\"\n",
    "    if len(image.shape) == 3:\n",
    "        return image[np.newaxis]\n",
    "    if channel_axis is None:\n",
    "        channel_axis = np.argmin(image.shape)\n",
    "    return np.moveaxis(image, channel_axis, 0)"
   ]
  },
  {
   "cell_type": "code",
   "execution_count": 5,
   "id": "2346a597",
   "metadata": {},
   "outputs": [],
   "source": [
    "metadata_dict = {'filename': 'basics_example/basics_example',\n",
    "                 'resolution_in_microns': (1, 0.36, 0.36), # you can typically get this from the .tif metadata\n",
    "                 'subsampling_factors': (1, 1/3, 1/3),\n",
    "                 'normal_offsets':np.linspace(-2, 2, 5) # normal offsets for map projection, in microns\n",
    "                }"
   ]
  },
  {
   "cell_type": "code",
   "execution_count": 6,
   "id": "b1fa308e",
   "metadata": {},
   "outputs": [
    {
     "name": "stdout",
     "output_type": "stream",
     "text": [
      "image shape: (2, 26, 454, 511)\n"
     ]
    }
   ],
   "source": [
    "image = adjust_axis_order(imread(f\"{metadata_dict['filename']}.tif\"))\n",
    "print(\"image shape:\", image.shape) # image shape - spatial axes are in z-x-y order"
   ]
  },
  {
   "cell_type": "code",
   "execution_count": 7,
   "id": "1981c01d",
   "metadata": {},
   "outputs": [
    {
     "name": "stdout",
     "output_type": "stream",
     "text": [
      "subsampled image shape: (2, 26, 151, 170)\n"
     ]
    }
   ],
   "source": [
    "subsampled_image = transform.rescale(image, metadata_dict['subsampling_factors'],\n",
    "                                     channel_axis=0, preserve_range=True)\n",
    "print(\"subsampled image shape:\", subsampled_image.shape)"
   ]
  },
  {
   "cell_type": "markdown",
   "id": "901857d3",
   "metadata": {},
   "source": [
    "## Create 3d segmentation\n",
    "\n",
    "Now create a 3d segmentation, in this case using ilatik. ilastik works best with input saved as `.h5` data sets. "
   ]
  },
  {
   "cell_type": "code",
   "execution_count": 8,
   "id": "51eb13ee",
   "metadata": {},
   "outputs": [],
   "source": [
    "#| export\n",
    "\n",
    "def write_h5(filename, image, h5_dataset_name=\"image\"):\n",
    "    \"\"\"Write image (numpy array) as .h5 file (e.g. as input for ilastik).\"\"\"\n",
    "    with h5py.File(filename, \"w\") as f:\n",
    "        f.create_dataset('image', data=image)\n",
    "    return None\n",
    "\n",
    "def read_h5(filename):\n",
    "    \"\"\"Read .h5 file (e.g. ilastik output) into numpy array. Loads alphabetically first entry in .h5.\"\"\"\n",
    "    with h5py.File(filename, \"r\") as f:\n",
    "        arr = f[sorted(f.keys())[0]][()] \n",
    "    return arr"
   ]
  },
  {
   "cell_type": "code",
   "execution_count": 9,
   "id": "62c33c8b",
   "metadata": {},
   "outputs": [],
   "source": [
    "# we now save the subsampled image a .h5 file for input into ilastik for segmentation\n",
    "\n",
    "write_h5(f\"{metadata_dict['filename']}_subsampled.h5\", subsampled_image)"
   ]
  },
  {
   "cell_type": "code",
   "execution_count": 10,
   "id": "16e77650",
   "metadata": {},
   "outputs": [
    {
     "name": "stdout",
     "output_type": "stream",
     "text": [
      "segmentation shape: (26, 151, 170)\n"
     ]
    }
   ],
   "source": [
    "# after creating an ilastik project, training the model, and exporting the probabilities, we load the segmentation\n",
    "\n",
    "segmentation = read_h5(f\"{metadata_dict['filename']}_subsampled-image_Probabilities.h5\")\n",
    "segmentation = segmentation[0] # select the first channel of the segmentation - it's the probablity a pixel\n",
    "                               # is part of the sample\n",
    "print(\"segmentation shape:\", segmentation.shape)"
   ]
  },
  {
   "cell_type": "code",
   "execution_count": 11,
   "id": "ba35599c",
   "metadata": {},
   "outputs": [
    {
     "data": {
      "text/plain": [
       "<matplotlib.image.AxesImage at 0x7f33114a60a0>"
      ]
     },
     "execution_count": 11,
     "metadata": {},
     "output_type": "execute_result"
    },
    {
     "data": {
      "image/png": "[encoded data removed]",
      "text/plain": [
       "<Figure size 640x480 with 1 Axes>"
      ]
     },
     "metadata": {},
     "output_type": "display_data"
    }
   ],
   "source": [
    "# look at the segmentation in a cross section\n",
    "\n",
    "plt.imshow(segmentation[:,:,50], vmin=0, vmax=1)"
   ]
  },
  {
   "cell_type": "markdown",
   "id": "7c012870",
   "metadata": {},
   "source": [
    "## Meshing\n",
    "\n",
    "We convert the segmentation into a triangular mesh using the marching cubes method, and save the mesh. We introduce a couple of functions for mesh io and mesh handling. We save all meshes in as wavefront `.obj` files (see [wikipedia](https://en.wikipedia.org/wiki/Wavefront_.obj_file)). In python, we represent missing entries (such as a vertex which doesn't have a normal by `np.nan`.\n",
    "\n",
    "**Important convention** For sanities sake, we will always store all mesh coordinates in microns. This means rescaling appropriately after calculating the mesh from the 3d segmentation.\n",
    "\n",
    "For holding and handling `.obj` meshes, we will create a `ObjMesh` class."
   ]
  },
  {
   "cell_type": "code",
   "execution_count": 224,
   "id": "825202cd",
   "metadata": {},
   "outputs": [],
   "source": [
    "#| export\n",
    "\n",
    "def flatten(lst, max_depth=1000, iter_count=0):\n",
    "    \"\"\"\n",
    "    Flatten a list of lists into a list.\n",
    "\n",
    "    Also works with inhomogeneous lists, e.g., [[0,1],2]. The argument\n",
    "    depth determines how \"deep\" to flatten the list, e.g. with max_depth=1:\n",
    "    [[(1,0), (1,0)]] -> [(1,0), (1,0)].\n",
    "\n",
    "    Parameters\n",
    "    ----------\n",
    "    lst : list\n",
    "        list-of-lists.\n",
    "    max_depth : int, optional\n",
    "        To what depth to flatten the list.\n",
    "    iter_count : int, optional\n",
    "        Helper argument for recursion depth determination.\n",
    "    \n",
    "    Returns\n",
    "    -------\n",
    "    iterator\n",
    "        flattened list.\n",
    "    \"\"\"\n",
    "    for el in lst:\n",
    "        if (isinstance(el, Iterable) and not isinstance(el, (str, bytes))\n",
    "                and iter_count < max_depth):\n",
    "            yield from flatten(el, max_depth=max_depth,\n",
    "                               iter_count=iter_count+1)\n",
    "        else:\n",
    "            yield el\n",
    "            \n",
    "def pad_list(lst, length=3, fill_value=np.nan):\n",
    "    \"\"\"Pad end of list with fill_value if shorter than desired length.\"\"\"\n",
    "    return lst + max([0, (length-len(lst))]) * [fill_value,]\n",
    "\n",
    "def unique(sequence):\n",
    "    \"\"\"Create list of unique entries in sequence while preserving order\"\"\"\n",
    "    seen = set()\n",
    "    return [x for x in sequence if not (x in seen or seen.add(x))]\n",
    "\n",
    "#def index_else_nan(arr, ind, target_shape=None):\n",
    "#    \"\"\"Return arr[ind] if not np.isnan(ind), else np.nan*np.ones(arr.shape[1:])\"\"\"\n",
    "#    if np.isnan(ind):\n",
    "#        target_shape = (arr.shape[1:] if len(arr.shape) > 1 else (1,)) if target_shape is None else target_shape\n",
    "#        return np.nan*np.ones(target_shape)\n",
    "#    return arr[int(ind)]\n",
    "\n",
    "def index_else_nan(arr, inds):\n",
    "    \"\"\"Return arr[inds], masked so that the result is np.nan wherever ind is nan\"\"\"\n",
    "    if len(np.shape(inds)):\n",
    "        inds = np.array(inds)\n",
    "    mask = np.isnan(inds)\n",
    "    masked_inds = np.copy(inds)\n",
    "    masked_inds[mask] = 0\n",
    "    masked_inds = masked_inds.astype(int)    \n",
    "    selected = arr[masked_inds]\n",
    "    selected[mask] = np.nan\n",
    "    return selected"
   ]
  },
  {
   "cell_type": "code",
   "execution_count": null,
   "id": "508a02e3",
   "metadata": {},
   "outputs": [],
   "source": []
  },
  {
   "cell_type": "code",
   "execution_count": 217,
   "id": "0364d601",
   "metadata": {},
   "outputs": [],
   "source": [
    "#| export\n",
    "\n",
    "class ObjMesh:\n",
    "    \"\"\"\n",
    "    Simple class for reading, holding, transforming, and saving 3d polygonal meshes in the .obj format.\n",
    "    See https://en.wikipedia.org/wiki/Wavefront_.obj_file.\n",
    "    Attributes\n",
    "        - vertices = [(x_0, y_0, z_0), ... ]\n",
    "        - texture_vertices = [(u_0, v_0), ...] or None\n",
    "        - normals = [(nx_0, ny_0, nz_0), ...] or None\n",
    "        - faces = [f0, ...]\n",
    "        - only_vertices = bool. \n",
    "    vertices, texture_vertices, normals are np.arrays, faces is a list of lists.\n",
    "    Each face is either a list of vertex indices (if only_vertices is True), or, if the mesh\n",
    "    has texture and normal information, a list of vertex/texture/normal index triples.\n",
    "    Missing data is represented by np.nan. Faces can be any length (triangles, quads, ...).\n",
    "    Indices start at 0!\n",
    "    \n",
    "    The method match_vertex_info can be used to match up vertices, texture vertices and\n",
    "    normals based on the face connectivity. This sets the following attributes:\n",
    "        - matched_vertices\n",
    "        - matched_texture_vertices\n",
    "        - matched_normals\n",
    "    as np.array's with correspondong rows which can be used as base points for\n",
    "    interpolation.\n",
    "\n",
    "    The property tris gets all triangles as a numpy array.\n",
    "    \"\"\"\n",
    "    \n",
    "    def __init__(self, vertices, faces, texture_vertices=None, normals=None, name=None):\n",
    "        self.vertices, self.faces = (vertices, faces)\n",
    "        self.texture_vertices, self.normals = (texture_vertices, normals)\n",
    "        self.name = None\n",
    "        self.only_vertices = texture_vertices is None and normals is None\n",
    "\n",
    "    @staticmethod\n",
    "    def read_obj(filename):\n",
    "        \"\"\"\n",
    "        Return vertices, texture vertices, normals, and faces from an obj file.\n",
    "\n",
    "        Faces are lists of 3-tuples vertex/texture vertex/normal. If a certain vertex has no texture or normal \n",
    "        associated to it, the entry is np.nan, else it is an index into the vertex, texture, and normal arrays\n",
    "        (note: indices of returned faces start at 0!). See https://en.wikipedia.org/wiki/Wavefront_.obj_file.\n",
    "        \n",
    "        Intended for .obj files containing a single object only.\n",
    "\n",
    "        Parameters\n",
    "        ----------\n",
    "        filename : str\n",
    "            filename\n",
    "        Returns\n",
    "        -------\n",
    "        mesh: ObjMesh\n",
    "        \"\"\"\n",
    "        def _str_to_int_or_nan(x):\n",
    "            \"\"\"Convert string to int or np.nan if string is empty\"\"\"\n",
    "            if x == '':\n",
    "                return np.nan\n",
    "            return int(x)\n",
    "        with open(filename, 'r') as f:\n",
    "            lines = f.readlines()\n",
    "        names = [ln.split()[1:] for ln in lines if ln.startswith(\"o \")]\n",
    "        name = None if len(names) == 0 else names[0]\n",
    "        vs = np.array([ln.split()[1:] for ln in lines if ln.startswith(\"v \")]).astype(float)\n",
    "        vts = np.array([ln.split()[1:] for ln in lines if ln.startswith(\"vt \")]).astype(float)\n",
    "        ns = np.array([ln.split()[1:] for ln in lines if ln.startswith(\"vn \")]).astype(float)\n",
    "        fs = [ln.split()[1:] for ln in lines if ln.startswith(\"f \")]\n",
    "        fs = [[pad_list([_str_to_int_or_nan(y)-1 for y in x.split(\"/\")], length=3, fill_value=np.nan)\n",
    "               for x in f] for f in fs]\n",
    "        if vts.shape == (0,) and ns.shape == (0,):\n",
    "            fs = [[v[0] for v in f] for f in fs]\n",
    "            mesh = ObjMesh(vs, fs, texture_vertices=None, normals=None, name=name)\n",
    "        else:\n",
    "            mesh = ObjMesh(vs, fs, texture_vertices=vts, normals=ns, name=name)\n",
    "        return mesh\n",
    "    \n",
    "    def write_obj(self, filename,):\n",
    "        \"\"\"\n",
    "        Write mesh to .obj format.\n",
    "\n",
    "        Can write texture coordinates and normals if included. \n",
    "\n",
    "        Parameters\n",
    "        ----------\n",
    "        filename : str\n",
    "            filename to save to\n",
    "\n",
    "        Returns\n",
    "        -------\n",
    "        None\n",
    "\n",
    "        \"\"\"\n",
    "        def _int_or_nan_to_str(x):\n",
    "            \"\"\"Convert int/nan to string. np.nan is converted to empty string\"\"\"\n",
    "            if np.isnan(x):\n",
    "                return ''\n",
    "            return str(x)\n",
    "        namelines = [\"o {}\\n\".format(*self.name)] if self.name is not None else []\n",
    "        if self.only_vertices:\n",
    "            vlines = [\"v {} {} {}\\n\".format(*v) for v in self.vertices]\n",
    "            flines = [\"f {} {} {}\\n\".format(*[int(v+1) for v in fc]) for fc in self.faces]\n",
    "            with open(filename, 'w') as f:\n",
    "                f.writelines(namelines)\n",
    "                f.writelines(vlines)\n",
    "                f.writelines(flines)\n",
    "        else:\n",
    "            assert all([len(v)==3 for v in flatten(self.faces, max_depth=1)]), \"each vertex must have 3 indices\"\n",
    "            texture_vertices = [] if self.texture_vertices is None else self.texture_vertices\n",
    "            normals = [] if self.normals is None else self.normals\n",
    "            vlines = [\"v {} {} {}\\n\".format(*v) for v in self.vertices]\n",
    "            vtlines = [\"vt {} {}\\n\".format(*vt) for vt in texture_vertices]\n",
    "            nlines = [\"vn {} {} {}\\n\".format(*n) for n in normals]\n",
    "            flines = [\"f {} {} {}\\n\".format(*[\"{}/{}/{}\".format(*[_int_or_nan_to_str(ix+1) for ix in v])\n",
    "                                              for v in fc]) for fc in self.faces]\n",
    "            with open(filename, 'w') as f:\n",
    "                f.writelines(namelines)\n",
    "                f.writelines(vlines)\n",
    "                f.writelines(vtlines)\n",
    "                f.writelines(nlines)\n",
    "                f.writelines(flines)\n",
    "        return None\n",
    "         \n",
    "    @property\n",
    "    def tris(self):\n",
    "        \"\"\"Get all triangles in mesh as a numpy array. Entries are vertex indices.\"\"\"\n",
    "        if self.only_vertices:\n",
    "            return np.array([fc for fc in self.faces if len(fc)==3])\n",
    "        else:\n",
    "            return np.array([[v[0] for v in fc] for fc in self.faces if len(fc)==3])\n",
    "        return None\n",
    "    \n",
    "    @property\n",
    "    def texture_tris(self):\n",
    "        \"\"\"Get all texture triangles in mesh as a numpy array. Entries are texture_vertex indices.\"\"\"\n",
    "        if self.only_vertices:\n",
    "            return np.array([np.nan for fc in self.faces if len(fc)==3])\n",
    "        else:\n",
    "            return np.array([[v[1] for v in fc] for fc in self.faces if len(fc)==3])\n",
    "        return None\n",
    "    \n",
    "    @property\n",
    "    def vertex_normals(self):\n",
    "        \"\"\"Get array of vertex normals. If multiple normals per vertex are stored, the last one is returned\"\"\"\n",
    "        if self.only_vertices:\n",
    "            return np.nan*np.ones_like(self.vertices)\n",
    "        v_n_pairs = {v: np.nan for v in range(self.vertices.shape[0])}\n",
    "        for v, _, n in flatten(self.faces, max_depth=1):\n",
    "            v_n_pairs[v] = n\n",
    "        return np.array([index_else_nan(self.normals, v_n_pairs[key], target_shape=(3,))\n",
    "                         for key in range(self.vertices.shape[0])])\n",
    "\n",
    "    @property\n",
    "    def vertex_textures(self):\n",
    "        \"\"\"Get array of vertex texture coordinates. If multiple textures per vertex are stored,\n",
    "        the last one is returned\"\"\"\n",
    "        if self.only_vertices:\n",
    "            return np.nan*np.ones_like(self.vertices)\n",
    "        v_vt_pairs = {v: np.nan for v in range(self.vertices.shape[0])}\n",
    "        for v, vt, _ in flatten(self.faces, max_depth=1):\n",
    "            v_vt_pairs[v] = vt\n",
    "        return np.array([index_else_nan(self.texture_vertices, v_vt_pairs[key], target_shape=(2,))\n",
    "                         for key in range(self.vertices.shape[0])])\n",
    "    \n",
    "    def match_vertex_info(self, use_vertex_normals=True, require_texture_normals=True):\n",
    "        \"\"\"\n",
    "        Match up 3d vertex coordinates / texture coordinates / normals based on face connectivity.\n",
    "        \n",
    "        Sets attributes matched_vertices, matched_texture_vertices, matched_normals.\n",
    "        These attributes can then be used for interpolating volumetric data onto the UV square.\n",
    "        The resulting arrays will _not_ match the face indices, since there can be more texture vertices\n",
    "        than vertices, and will have a shape given by the number of unique vertex/texture vertex/normal\n",
    "        pairs (note: this is much lower than the number of faces, which is numerically favorable)\n",
    "        \n",
    "        Parameters\n",
    "        ----------\n",
    "        use_vertex_normals : bool, default True\n",
    "            Use vertex normals for normal info instead of face normals. Will result in arrays\n",
    "            of size O(n_vertices). Else, you get an arra of size O(n_triangles).\n",
    "        require_texture_normals : bool, default True\n",
    "            If True, discard vertices for which texture or normal info does not exist. \n",
    "            If False, attributes that do not exist for a given vertex are set to np.nan.\n",
    "            \n",
    "        Returns\n",
    "        -------\n",
    "        None\n",
    "        \"\"\"\n",
    "        \n",
    "        assert not self.only_vertices, \"\"\"Method requires texture or normal information\"\"\"\n",
    "        if not use_vertex_normals:\n",
    "            unique_v_vt_n_pairs = unique([tuple(x) for x in flatten(self.faces, max_depth=1)])\n",
    "            matched_vertices = np.array([index_else_nan(self.normals, pair[0], target_shape=(3,))\n",
    "                                         for pair in unique_v_vt_n_pairs])\n",
    "            matched_texture_vertices = np.array([index_else_nan(self.texture_vertices, pair[1], target_shape=(2,))\n",
    "                                                 for pair in unique_v_vt_n_pairs])\n",
    "            matched_normals = np.array([index_else_nan(self.normals, pair[2], target_shape=(3,))\n",
    "                                        for pair in unique_v_vt_n_pairs])\n",
    "        else:\n",
    "            unique_v_vt_pairs = unique([tuple(x[:2]) for x in flatten(self.faces, max_depth=1)])\n",
    "            matched_vertices = np.array([index_else_nan(self.normals, pair[0], target_shape=(3,))\n",
    "                                         for pair in unique_v_vt_pairs])\n",
    "            matched_texture_vertices = np.array([index_else_nan(self.texture_vertices, pair[1], target_shape=(2,))\n",
    "                                                 for pair in unique_v_vt_pairs])\n",
    "            normals = self.vertex_normals\n",
    "            matched_normals = np.array([index_else_nan(normals, pair[0], target_shape=(3,))\n",
    "                                        for pair in unique_v_vt_pairs])\n",
    "        if require_texture_normals:\n",
    "            mask = ~np.isnan(matched_texture_vertices).any(axis=1) & ~np.isnan(matched_normals).any(axis=1)\n",
    "            matched_vertices = matched_vertices[mask,:]\n",
    "            matched_texture_vertices = matched_texture_vertices[mask,:]\n",
    "            matched_normals = matched_normals[mask,:]            \n",
    "        self.matched_vertices = matched_vertices\n",
    "        self.matched_texture_vertices = matched_texture_vertices\n",
    "        self.matched_normals = matched_normals\n",
    "        return None\n",
    "\n",
    "    def apply_affine_to_mesh(self, trafo, update_matched_data=True):\n",
    "        \"\"\"\n",
    "        Apply affine transformation to mesh.\n",
    "        \n",
    "        Rotate/shear and translate vertices, rotate/shear and renormalize normals,\n",
    "        flip faces if transformation determinant is -1.\n",
    "\n",
    "        Parameters\n",
    "        ----------\n",
    "        trafo : np.array of shape (4,4) or (3,3)\n",
    "            Transformation matrix. If (4,4), it is interpreted as affine transformation.\n",
    "        update_matched_data : bool, default True\n",
    "            Update matched data\n",
    "\n",
    "        Returns\n",
    "        -------\n",
    "        newmesh : ObjMesh\n",
    "            Transformed mesh.\n",
    "\n",
    "        \"\"\"\n",
    "        assert trafo.shape==(3,3) or trafo.shape==(4,4), \"Transformation matrix must be 3*3 or 4*4\"\n",
    "        if trafo.shape == (3,3):\n",
    "            trafo_matrix, trafo_translate = (trafo, np.zeros(3))\n",
    "        elif trafo.shape == (4,4):\n",
    "            trafo_matrix, trafo_translate = (trafo[:3,:3], trafo[:3,-1])\n",
    "        newmesh = deepcopy(self)\n",
    "        newmesh.vertices = self.vertices@trafo_matrix.T + trafo_translate\n",
    "        if self.normals is not None:\n",
    "            normals_transformed = self.normals@trafo_matrix.T\n",
    "            newmesh.normals = (normals_transformed.T / np.linalg.norm(normals_transformed, axis=-1)).T\n",
    "        if np.linalg.det(trafo_matrix) < 0:\n",
    "            newmesh.faces = [fc[::-1] for fc in self.faces]\n",
    "        if update_matched_data and not self.only_vertices:\n",
    "            newmesh.match_vertex_info()\n",
    "        return newmesh"
   ]
  },
  {
   "cell_type": "code",
   "execution_count": 218,
   "id": "c4711d82",
   "metadata": {},
   "outputs": [],
   "source": [
    "mesh = ObjMesh.read_obj(\"drosophila_example/Drosophila_CAAX-mCherry_mesh_uv.obj\")"
   ]
  },
  {
   "cell_type": "code",
   "execution_count": 223,
   "id": "446cbacc",
   "metadata": {},
   "outputs": [
    {
     "data": {
      "text/plain": [
       "((8160, 3), (8288, 2), 16294)"
      ]
     },
     "execution_count": 223,
     "metadata": {},
     "output_type": "execute_result"
    }
   ],
   "source": [
    "mesh.vertices.shape, mesh.texture_vertices.shape, len(mesh.faces)"
   ]
  },
  {
   "cell_type": "code",
   "execution_count": 205,
   "id": "cdf6a822",
   "metadata": {},
   "outputs": [],
   "source": [
    "mesh.match_vertex_info(use_vertex_normals=False)"
   ]
  },
  {
   "cell_type": "code",
   "execution_count": 206,
   "id": "a38337c7",
   "metadata": {},
   "outputs": [],
   "source": [
    "mesh.match_vertex_info(use_vertex_normals=True)"
   ]
  },
  {
   "cell_type": "code",
   "execution_count": 209,
   "id": "f11342b4",
   "metadata": {},
   "outputs": [
    {
     "data": {
      "text/plain": [
       "((8288, 3), (8288, 3))"
      ]
     },
     "execution_count": 209,
     "metadata": {},
     "output_type": "execute_result"
    }
   ],
   "source": [
    "mesh.matched_normals.shape, mesh.matched_vertices.shape"
   ]
  },
  {
   "cell_type": "code",
   "execution_count": 212,
   "id": "898b5b4d",
   "metadata": {},
   "outputs": [],
   "source": [
    "# test this on an example\n",
    "mesh_fname_ref = \"registration_example/Drosophila_reference_preregistered.obj\"\n",
    "mesh_fname_data = \"registration_example/Drosophila_CAAX-mCherry_mesh_remeshed.obj\"\n",
    "\n",
    "mesh = ObjMesh.read_obj(mesh_fname_ref)"
   ]
  },
  {
   "cell_type": "code",
   "execution_count": 213,
   "id": "98797253",
   "metadata": {},
   "outputs": [
    {
     "name": "stdout",
     "output_type": "stream",
     "text": [
      "679 ms ± 8.17 ms per loop (mean ± std. dev. of 7 runs, 1 loop each)\n"
     ]
    }
   ],
   "source": [
    "%%timeit\n",
    "mesh.match_vertex_info(require_texture_normals=False, use_vertex_normals=True)"
   ]
  },
  {
   "cell_type": "code",
   "execution_count": 266,
   "id": "5541aa79",
   "metadata": {},
   "outputs": [],
   "source": [
    "# now we create a 3d mesh of using the marching cubes method\n",
    "\n",
    "level_set = mcubes.smooth(segmentation, method=\"gaussian\") # converts segmentation into level set, with 0=surface\n",
    "vertices, faces = mcubes.marching_cubes(level_set, 0)\n",
    "\n",
    "# EXTREMELY IMPORTANT - we now rescale the vertex coordinates so that they are in microns.\n",
    "vertices_in_microns = vertices * (np.array(metadata_dict['resolution_in_microns'])\n",
    "                                 /np.array(metadata_dict['subsampling_factors']))"
   ]
  },
  {
   "cell_type": "code",
   "execution_count": 267,
   "id": "4f42b6d4",
   "metadata": {},
   "outputs": [],
   "source": [
    "mesh = ObjMesh(vertices_in_microns, faces)\n",
    "mesh.name = \"basics_example_mesh_marching_cubes\"\n",
    "mesh.write_obj(f\"{metadata_dict['filename']}_mesh_marching_cubes.obj\")"
   ]
  },
  {
   "cell_type": "code",
   "execution_count": 268,
   "id": "5c867075",
   "metadata": {},
   "outputs": [
    {
     "data": {
      "text/plain": [
       "True"
      ]
     },
     "execution_count": 268,
     "metadata": {},
     "output_type": "execute_result"
    }
   ],
   "source": [
    "mesh.only_vertices"
   ]
  },
  {
   "cell_type": "code",
   "execution_count": 269,
   "id": "2e6b37d5",
   "metadata": {},
   "outputs": [
    {
     "name": "stdout",
     "output_type": "stream",
     "text": [
      "262 ms ± 1.1 ms per loop (mean ± std. dev. of 7 runs, 1 loop each)\n"
     ]
    }
   ],
   "source": [
    "%%timeit\n",
    "mesh.write_obj(f\"{metadata_dict['filename']}_mesh_marching_cubes.obj\")"
   ]
  },
  {
   "cell_type": "code",
   "execution_count": 270,
   "id": "912a10af",
   "metadata": {},
   "outputs": [
    {
     "name": "stdout",
     "output_type": "stream",
     "text": [
      "170 ms ± 1.51 ms per loop (mean ± std. dev. of 7 runs, 10 loops each)\n"
     ]
    }
   ],
   "source": [
    "%%timeit\n",
    "ObjMesh.read_obj(f\"{metadata_dict['filename']}_mesh_marching_cubes.obj\")"
   ]
  },
  {
   "cell_type": "code",
   "execution_count": 274,
   "id": "8bb46ad6",
   "metadata": {},
   "outputs": [
    {
     "name": "stdout",
     "output_type": "stream",
     "text": [
      "CPU times: user 863 ms, sys: 43.9 ms, total: 907 ms\n",
      "Wall time: 905 ms\n"
     ]
    }
   ],
   "source": [
    "%%time\n",
    "## try a somewhat larger mesh with texture info etc\n",
    "\n",
    "mesh = ObjMesh.read_obj(\"registration_example/Drosophila_reference.obj\")"
   ]
  },
  {
   "cell_type": "code",
   "execution_count": 276,
   "id": "c90e49ee",
   "metadata": {
    "scrolled": true
   },
   "outputs": [
    {
     "name": "stdout",
     "output_type": "stream",
     "text": [
      "CPU times: user 1.1 s, sys: 23.9 ms, total: 1.12 s\n",
      "Wall time: 1.12 s\n"
     ]
    }
   ],
   "source": [
    "%%time\n",
    "\n",
    "mesh.write_obj(\"registration_example/Drosophila_reference_test_write.obj\")"
   ]
  },
  {
   "cell_type": "markdown",
   "id": "cf752cb2",
   "metadata": {},
   "source": [
    "### Saving the results\n",
    "\n",
    "We can now save the cartographic projections both as `.tif` stack for quantitative analysis, and as `.png`'s for visualization as mesh texture in blender. We will also save the metadata to a `.json` file\n",
    "\n",
    "Annoyingly, we have to normalize our data and convert it to 8-bit to save it as png."
   ]
  },
  {
   "cell_type": "code",
   "execution_count": null,
   "id": "1ce60c7c",
   "metadata": {},
   "outputs": [],
   "source": [
    "#| export\n",
    "\n",
    "def save_dict_to_json(filename, dictionary):\n",
    "    \"\"\"\n",
    "    Save dictionary to .json file.\n",
    "    \n",
    "    Will automatically convert numpy arrays to lists for saving. If you get an error like \"XXX is not JSON\n",
    "    serializable\", you need to ensure all your dictionary items are things that can be saved to text by json\n",
    "    (strings, numbers, lists).\n",
    "    \n",
    "    Parameters\n",
    "    ----------\n",
    "    filename : str\n",
    "        Filename to save to\n",
    "    dictionary : dict\n",
    "        Dictionary to save\n",
    "    \n",
    "    Returns\n",
    "    -------\n",
    "    None\n",
    "    \"\"\"\n",
    "    serializable_dictionary = {key: val.tolist() if isinstance(val, np.ndarray) else val\n",
    "                               for key, val in dictionary.items()}\n",
    "    with open(filename, \"w\") as f:\n",
    "        json.dump(serializable_dictionary, f)\n",
    "    return None"
   ]
  },
  {
   "cell_type": "code",
   "execution_count": null,
   "id": "823262d4",
   "metadata": {},
   "outputs": [],
   "source": [
    "# save metadata\n",
    "save_dict_to_json(f\"{metadata_dict['filename']}_metadata.json\", metadata_dict)"
   ]
  },
  {
   "cell_type": "code",
   "execution_count": null,
   "id": "70038a0f",
   "metadata": {},
   "outputs": [],
   "source": [
    "#| export\n",
    "\n",
    "def save_for_imageJ(filename, image, z_axis=None, channel_axis=None):\n",
    "    \"\"\"\n",
    "    Save image as 32bit ImageJ compatible .tif file\n",
    "    \n",
    "    If channel_axis is not provided, it is inferred as the shortest axis.\n",
    "    If z-axis is provided for a 4d array, it will be set as the default z-axis for ImageJ.\n",
    "    \"\"\"\n",
    "    channel_axis = np.argmin(image.shape) if channel_axis is None else channel_axis\n",
    "    if len(image.shape) == 3:\n",
    "        transposed_image = np.moveaxis(image, channel_axis, 0)\n",
    "        tifffile.imwrite(filename, transposed_image.astype(np.float32),\n",
    "                         metadata={'axes': 'CYX'}, imagej=True,)\n",
    "    elif len(image.shape) == 4:\n",
    "        if z_axis is not None:\n",
    "            transposed_image = np.moveaxis(image, (z_axis, channel_axis), (0,1))\n",
    "        else:\n",
    "            transposed_image = np.moveaxis(image, channel_axis, 1)\n",
    "        tifffile.imwrite(filename, transposed_image.astype(np.float32),\n",
    "                         metadata={'axes': 'ZCYX'}, imagej=True,)\n",
    "    return None\n",
    "    \n",
    "def normalize_quantiles_for_png(image, quantiles=(0.01, 0.99)):\n",
    "    \"\"\"\n",
    "    Normalize an image by setting given quantiles to 0 and 255 and converting to 8-bit, for saving as .png\n",
    "    \n",
    "    Also replaces nan by 0.\n",
    "    \n",
    "    Parameters\n",
    "    ----------\n",
    "    image : np.array\n",
    "        Image (should be single-channel)\n",
    "    quantiles : tuple\n",
    "        Image quantile to set to 0 and 255.\n",
    "    \n",
    "    Returns\n",
    "    -------\n",
    "    image_normalized : np.array\n",
    "        Normalized image, datatype np.uint8\n",
    "    \"\"\"\n",
    "    image_normalized = image - np.nanquantile(image, quantiles[0])\n",
    "    image_normalized /= np.nanquantile(image_normalized, quantiles[1])\n",
    "    image_normalized = np.nan_to_num(np.round(np.clip(255*image_normalized, 0, 255)), nan=0)\n",
    "    return image_normalized.astype(np.uint8)\n",
    "    \n",
    "    \n",
    "def save_stack_for_blender(image, directory, normalization=(0.01, 0.99)):\n",
    "    \"\"\"\n",
    "    Save multichannel volumetric image as series of grayscale .png images. Can normalize data if desired.\n",
    "    \n",
    "    This function necessarily converts the image to 8bit. Use a suitable normalization to ensure nothing \n",
    "    is lost.\n",
    "    \n",
    "    Parameters\n",
    "    ----------\n",
    "    image : 4d np.array\n",
    "        Axis 0 is assumed to be the channel axis, axis 1 is the slicing axes, i.e. images will correspond to\n",
    "        slices along axis 1.\n",
    "    directory : str\n",
    "        Path to save data to. Will create directory if it doesn't exist\n",
    "    normalization : tuple of float, or callable\n",
    "        Whether to normalize the image before saving it. If None, no normalization is performed. If a\n",
    "        tuple is given, it will be interpreted as quantiles to set to 0 and 255, respectively (over the\n",
    "        whole channel, not each slice). If a callable is provided, it will be applied to each channel.\n",
    "        \n",
    "    Returns\n",
    "    -------\n",
    "    None\n",
    "    \n",
    "    \"\"\"\n",
    "    directory = directory.removesuffix('/')\n",
    "    if not os.path.exists(directory):\n",
    "        os.makedirs(directory)\n",
    "    for ic, ch in enumerate(image):\n",
    "        if callable(normalization):\n",
    "            ch_normalized = normalization(ch)\n",
    "        if isinstance(normalization, tuple):\n",
    "            ch_normalized = normalize_quantiles_for_png(ch, quantiles=normalization)\n",
    "        for islc, slc in enumerate(ch_normalized):\n",
    "            slc = np.stack(3*[slc], axis=-1).astype(np.uint8) # necessary for saving as png\n",
    "            imsave(f'{directory}/channel_{ic}_slice_{str(islc).zfill(3)}.png', slc, check_contrast=False)\n",
    "    return None"
   ]
  },
  {
   "cell_type": "code",
   "execution_count": null,
   "id": "3941ad53",
   "metadata": {},
   "outputs": [
    {
     "name": "stdout",
     "output_type": "stream",
     "text": [
      "Image shape (2, 5, 256, 256)\n"
     ]
    }
   ],
   "source": [
    "# read the data so we can check the saving function\n",
    "projected_data = adjust_axis_order(imread(f\"{metadata_dict['filename']}_projected.tif\"))\n",
    "print(\"Image shape\", projected_data.shape)"
   ]
  },
  {
   "cell_type": "code",
   "execution_count": null,
   "id": "c131da63",
   "metadata": {},
   "outputs": [],
   "source": [
    "save_for_imageJ(f\"{metadata_dict['filename']}_projected.tif\", projected_data, z_axis=1)"
   ]
  },
  {
   "cell_type": "code",
   "execution_count": null,
   "id": "b4e2ea70",
   "metadata": {},
   "outputs": [],
   "source": [
    "texture_path = f\"{os.getcwd()}/{metadata_dict['filename']}_textures\"\n",
    "save_stack_for_blender(projected_data, texture_path, normalization=(0.01, 0.99))"
   ]
  }
 ],
 "metadata": {
  "kernelspec": {
   "display_name": "Python 3 (ipykernel)",
   "language": "python",
   "name": "python3"
  },
  "language_info": {
   "codemirror_mode": {
    "name": "ipython",
    "version": 3
   },
   "file_extension": ".py",
   "mimetype": "text/x-python",
   "name": "python",
   "nbconvert_exporter": "python",
   "pygments_lexer": "ipython3",
   "version": "3.9.18"
  }
 },
 "nbformat": 4,
 "nbformat_minor": 5
}

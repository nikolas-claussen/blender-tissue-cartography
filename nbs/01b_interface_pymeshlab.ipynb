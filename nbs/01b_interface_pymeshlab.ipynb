{
 "cells": [
  {
   "cell_type": "code",
   "execution_count": null,
   "id": "e4720f5c",
   "metadata": {},
   "outputs": [],
   "source": [
    "#| default_exp interface_pymeshlab"
   ]
  },
  {
   "cell_type": "code",
   "execution_count": 2,
   "id": "1df20cd2",
   "metadata": {},
   "outputs": [],
   "source": [
    "#| export\n",
    "\n",
    "from blender_tissue_cartography import io as tcio"
   ]
  },
  {
   "cell_type": "code",
   "execution_count": 3,
   "id": "aedff762",
   "metadata": {},
   "outputs": [],
   "source": [
    "#| export\n",
    "\n",
    "import numpy as np\n",
    "import os\n",
    "from copy import deepcopy\n",
    "import pymeshlab"
   ]
  },
  {
   "cell_type": "code",
   "execution_count": 7,
   "id": "55de1e07",
   "metadata": {},
   "outputs": [],
   "source": [
    "import matplotlib.pyplot as plt\n",
    "from importlib import reload"
   ]
  },
  {
   "cell_type": "markdown",
   "id": "9f893cb7",
   "metadata": {},
   "source": [
    "## Interfacing with `pymeshlab`\n",
    "\n",
    "In this notebook, we define functions to convert our `ObjMesh` class to and from `pymeshlab`."
   ]
  },
  {
   "cell_type": "code",
   "execution_count": 6,
   "id": "474cae58",
   "metadata": {},
   "outputs": [],
   "source": [
    "mesh_fname_data = \"registration_example/Drosophila_CAAX-mCherry_mesh_remeshed.obj\"\n",
    "mesh_fname_ref = \"registration_example/Drosophila_reference_preregistered.obj\""
   ]
  },
  {
   "cell_type": "code",
   "execution_count": null,
   "id": "fc0845d9",
   "metadata": {},
   "outputs": [],
   "source": []
  }
 ],
 "metadata": {
  "kernelspec": {
   "display_name": "Python [conda env:blender-tissue-cartography]",
   "language": "python",
   "name": "conda-env-blender-tissue-cartography-py"
  },
  "language_info": {
   "codemirror_mode": {
    "name": "ipython",
    "version": 3
   },
   "file_extension": ".py",
   "mimetype": "text/x-python",
   "name": "python",
   "nbconvert_exporter": "python",
   "pygments_lexer": "ipython3",
   "version": "3.11.9"
  }
 },
 "nbformat": 4,
 "nbformat_minor": 5
}

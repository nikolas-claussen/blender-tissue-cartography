{
 "cells": [
  {
   "cell_type": "code",
   "execution_count": 1,
   "id": "4ad2382a",
   "metadata": {},
   "outputs": [],
   "source": [
    "#| default_exp interface_pymeshlab"
   ]
  },
  {
   "cell_type": "code",
   "execution_count": 2,
   "id": "45a2f435",
   "metadata": {},
   "outputs": [
    {
     "name": "stdout",
     "output_type": "stream",
     "text": [
      "Warning:\n",
      "Unable to load the following plugins:\n",
      "\n",
      "\tlibio_e57.so: libio_e57.so does not seem to be a Qt Plugin.\n",
      "\n",
      "Cannot load library /home/nikolas/Programs/miniconda3/envs/blender-tissue-cartography/lib/python3.11/site-packages/pymeshlab/lib/plugins/libio_e57.so: (/lib/x86_64-linux-gnu/libp11-kit.so.0: undefined symbol: ffi_type_pointer, version LIBFFI_BASE_7.0)\n",
      "\n"
     ]
    }
   ],
   "source": [
    "#| export\n",
    "\n",
    "from blender_tissue_cartography import io as tcio\n",
    "import numpy as np\n",
    "import pymeshlab\n",
    "import warnings"
   ]
  },
  {
   "cell_type": "code",
   "execution_count": 3,
   "id": "23881aca",
   "metadata": {},
   "outputs": [],
   "source": [
    "from importlib import reload"
   ]
  },
  {
   "cell_type": "code",
   "execution_count": 4,
   "id": "925dbe1c",
   "metadata": {},
   "outputs": [],
   "source": [
    "np.set_printoptions(suppress=True)"
   ]
  },
  {
   "cell_type": "markdown",
   "id": "b030c301",
   "metadata": {},
   "source": [
    "## Interfacing with `pymeshlab`\n",
    "\n",
    "In this notebook, we define functions to convert our `ObjMesh` class to and from `pymeshlab`.\n",
    "\n",
    "Unfortunately, `pymeshlab`'s default IO discards UV information. So just relying on writing stuff to disk won't work."
   ]
  },
  {
   "cell_type": "code",
   "execution_count": 5,
   "id": "3c35f41d",
   "metadata": {},
   "outputs": [
    {
     "data": {
      "text/plain": [
       "<module 'blender_tissue_cartography.io' from '/home/nikolas/Documents/UCSB/streichan/numerics/code/python code/jupyter notebooks/blender-tissue-cartography/blender_tissue_cartography/io.py'>"
      ]
     },
     "execution_count": 5,
     "metadata": {},
     "output_type": "execute_result"
    }
   ],
   "source": [
    "reload(tcio)"
   ]
  },
  {
   "cell_type": "code",
   "execution_count": 6,
   "id": "eeb8e2b1",
   "metadata": {},
   "outputs": [],
   "source": [
    "mesh_fname_data = \"registration_example/Drosophila_CAAX-mCherry_mesh_remeshed.obj\"\n",
    "mesh_fname_ref = \"registration_example/Drosophila_reference_preregistered.obj\""
   ]
  },
  {
   "cell_type": "code",
   "execution_count": 7,
   "id": "556f7e95",
   "metadata": {},
   "outputs": [],
   "source": [
    "mesh_data = tcio.ObjMesh.read_obj(mesh_fname_data)\n",
    "mesh_ref = tcio.ObjMesh.read_obj(mesh_fname_ref)"
   ]
  },
  {
   "cell_type": "code",
   "execution_count": 36,
   "id": "aa2263fc",
   "metadata": {},
   "outputs": [],
   "source": [
    "#| export\n",
    "\n",
    "def convert_to_pymeshlab(mesh: tcio.ObjMesh, add_texture_info=None) -> pymeshlab.Mesh:\n",
    "    \"\"\"\n",
    "    Convert tcio.ObjMesh to pymeshlab.Mesh.\n",
    "    \n",
    "    See https://pymeshlab.readthedocs.io/en/latest/classes/mesh.html\n",
    "    Note: normal information is recalculated by pymeshlab. Discards any non-triangle faces.\n",
    "    \n",
    "    Texture is saved as a vertex attribute via v_tex_coords_matrix. Note that this discards\n",
    "    information since a vertex can have multiple texture coordinates. For this reason,\n",
    "    we also save it as 3 custom face attributes 'face_tex_vertex_{0/1/2}'.\n",
    "    \n",
    "    Parameters\n",
    "    ----------\n",
    "    mesh : tcio.ObjMesh\n",
    "    add_texture_info : None or bool\n",
    "        Whether to add texture info to the pymeshlab.Mesh. If None, texture is added if\n",
    "        available for at least one vertex.\n",
    "    Returns\n",
    "    -------\n",
    "    pymeshlab.Mesh\n",
    "\n",
    "    \"\"\"\n",
    "    if not mesh.is_triangular:\n",
    "        warnings.warn(f\"Warning: mesh not triangular. discarding non-triangular faces\")\n",
    "    add_texture_info = ((not mesh.only_vertices and len(mesh.texture_vertices) > 0)\n",
    "                        if add_texture_info is None else add_texture_info)\n",
    "    if not add_texture_info:\n",
    "        return pymeshlab.Mesh(vertex_matrix=mesh.vertices, face_matrix=mesh.tris)\n",
    "    converted = pymeshlab.Mesh(vertex_matrix=mesh.vertices, face_matrix=mesh.tris,\n",
    "                               v_tex_coords_matrix=mesh.vertex_textures)\n",
    "    texture_tris = mesh.texture_tris\n",
    "    for vertex in [0,1,2]:\n",
    "        atttrib = np.pad(tcio.index_else_nan(mesh.texture_vertices, texture_tris[:,vertex]),\n",
    "                         ((0,0), (0,1)), constant_values=0)\n",
    "        converted.add_face_custom_point_attribute(atttrib, f\"face_tex_vertex_{vertex}\")\n",
    "    return converted"
   ]
  },
  {
   "cell_type": "code",
   "execution_count": 16,
   "id": "9a43b41a",
   "metadata": {},
   "outputs": [],
   "source": [
    "pymesh_data = convert_to_pymeshlab(mesh_data)"
   ]
  },
  {
   "cell_type": "code",
   "execution_count": 37,
   "id": "de1dba72",
   "metadata": {},
   "outputs": [
    {
     "name": "stdout",
     "output_type": "stream",
     "text": [
      "CPU times: user 356 ms, sys: 3.97 ms, total: 360 ms\n",
      "Wall time: 360 ms\n"
     ]
    }
   ],
   "source": [
    "%%time\n",
    "pymesh_ref = convert_to_pymeshlab(mesh_ref)"
   ]
  },
  {
   "cell_type": "code",
   "execution_count": 97,
   "id": "7de68d68",
   "metadata": {},
   "outputs": [
    {
     "data": {
      "text/plain": [
       "True"
      ]
     },
     "execution_count": 97,
     "metadata": {},
     "output_type": "execute_result"
    }
   ],
   "source": [
    "np.allclose(mesh_ref.vertices, pymesh_ref.vertex_matrix())"
   ]
  },
  {
   "cell_type": "code",
   "execution_count": 98,
   "id": "c1755957",
   "metadata": {},
   "outputs": [
    {
     "data": {
      "text/plain": [
       "array([0.99904184, 0.99822658, 0.99668032, ..., 0.99417082, 0.99599803,\n",
       "       0.99721726])"
      ]
     },
     "execution_count": 98,
     "metadata": {},
     "output_type": "execute_result"
    }
   ],
   "source": [
    "pymesh_normals = pymesh_ref.vertex_normal_matrix()\n",
    "pymesh_normals = (pymesh_normals.T / np.linalg.norm(pymesh_normals, axis=-1)).T\n",
    "\n",
    "np.einsum('vi,vi->v', mesh_ref.vertex_normals, pymesh_normals)"
   ]
  },
  {
   "cell_type": "code",
   "execution_count": 99,
   "id": "803c8b62",
   "metadata": {},
   "outputs": [
    {
     "data": {
      "text/plain": [
       "True"
      ]
     },
     "execution_count": 99,
     "metadata": {},
     "output_type": "execute_result"
    }
   ],
   "source": [
    "np.allclose(mesh_ref.vertex_textures, pymesh_ref.vertex_tex_coord_matrix())"
   ]
  },
  {
   "cell_type": "code",
   "execution_count": 81,
   "id": "850c3513",
   "metadata": {},
   "outputs": [
    {
     "name": "stdout",
     "output_type": "stream",
     "text": [
      "746 ms ± 3.2 ms per loop (mean ± std. dev. of 7 runs, 1 loop each)\n"
     ]
    }
   ],
   "source": [
    "%%timeit\n",
    "convert_to_pymeshlab(mesh_ref)"
   ]
  },
  {
   "cell_type": "code",
   "execution_count": 44,
   "id": "6187f937",
   "metadata": {},
   "outputs": [],
   "source": [
    "#| export\n",
    "\n",
    "def convert_from_pymeshlab(mesh: pymeshlab.Mesh, reconstruct_texture_from_faces=True,\n",
    "                           texture_vertex_decimals=10) -> tcio.ObjMesh:\n",
    "    \"\"\"\n",
    "    Convert pymeshlab mesh to ObjMesh.\n",
    "    \n",
    "    Texture vertices can be reconstructed from face attribute face_tex_vertex_{0/1/2} or from\n",
    "    vertex attribute vertex_tex_coord_matrix. Reconstruction from face texture can accomodate\n",
    "    multiple texture coordinates per vertex (e.g. for UV maps with seams).\n",
    "    \n",
    "    Texture vertices are rounded to texture_vertex_decimals decimals\n",
    "    \"\"\"\n",
    "    vertices = mesh.vertex_matrix()\n",
    "    normals = mesh.vertex_normal_matrix()\n",
    "    normals = (normals.T / np.linalg.norm(normals, axis=-1)).T\n",
    "    if not mesh.has_vertex_tex_coord():\n",
    "        faces = [[3*[v,] for v in f] for f in mesh.face_matrix()]\n",
    "        return tcio.ObjMesh(vertices=vertices, faces=faces, normals=normals)\n",
    "    if mesh.has_vertex_tex_coord() and not reconstruct_texture_from_faces:\n",
    "        faces = [[3*[v,] for v in f] for f in mesh.face_matrix()]\n",
    "        return tcio.ObjMesh(vertices=vertices, faces=faces, normals=normals,\n",
    "                           texture_vertices=mesh.vertex_tex_coord_matrix())\n",
    "    # reconstruct texture vertices - big pain.\n",
    "    texture_vertices = np.vstack([mesh.face_custom_point_attribute_matrix(f\"face_tex_vertex_{i}\")[:,:2]\n",
    "                                  for i in [0,1,2]])\n",
    "    texture_vertices = np.round(texture_vertices, decimals=texture_vertex_decimals)\n",
    "    texture_vertices_unique, inverse_index = np.unique(texture_vertices, axis=0, return_inverse=True)\n",
    "    \n",
    "    n_faces = mesh.face_matrix().shape[0]\n",
    "    faces = [[[v, inverse_index[ifc+iv*n_faces], v] for iv, v in enumerate(fc)]\n",
    "             for ifc, fc in enumerate(mesh.face_matrix())]\n",
    "\n",
    "    return tcio.ObjMesh(vertices=vertices, faces=faces, normals=normals, texture_vertices=texture_vertices_unique)"
   ]
  },
  {
   "cell_type": "code",
   "execution_count": 45,
   "id": "b9c47e3f",
   "metadata": {},
   "outputs": [],
   "source": [
    "pymesh_ref = convert_to_pymeshlab(mesh_ref)"
   ]
  },
  {
   "cell_type": "code",
   "execution_count": 47,
   "id": "35ba25ec",
   "metadata": {},
   "outputs": [
    {
     "name": "stdout",
     "output_type": "stream",
     "text": [
      "CPU times: user 571 ms, sys: 20 ms, total: 591 ms\n",
      "Wall time: 591 ms\n"
     ]
    },
    {
     "data": {
      "text/plain": [
       "<blender_tissue_cartography.io.ObjMesh at 0x7f0bbe808810>"
      ]
     },
     "execution_count": 47,
     "metadata": {},
     "output_type": "execute_result"
    }
   ],
   "source": [
    "%%time\n",
    "convert_from_pymeshlab(pymesh_ref)"
   ]
  },
  {
   "cell_type": "code",
   "execution_count": 40,
   "id": "da34d028",
   "metadata": {},
   "outputs": [],
   "source": [
    "mesh_seams = tcio.ObjMesh.read_obj(\"drosophila_example/Drosophila_CAAX-mCherry_mesh_uv.obj\")"
   ]
  },
  {
   "cell_type": "code",
   "execution_count": 41,
   "id": "bee15c43",
   "metadata": {},
   "outputs": [],
   "source": [
    "pymesh_seams = convert_to_pymeshlab(mesh_seams,add_texture_info=True)"
   ]
  },
  {
   "cell_type": "code",
   "execution_count": 42,
   "id": "92e66976",
   "metadata": {},
   "outputs": [
    {
     "name": "stderr",
     "output_type": "stream",
     "text": [
      "/tmp/ipykernel_1257322/2081661155.py:16: RuntimeWarning: invalid value encountered in divide\n",
      "  normals = (normals.T / np.linalg.norm(normals, axis=-1)).T\n"
     ]
    },
    {
     "data": {
      "text/plain": [
       "(8160, 2)"
      ]
     },
     "execution_count": 42,
     "metadata": {},
     "output_type": "execute_result"
    }
   ],
   "source": [
    "convert_from_pymeshlab(pymesh_seams, reconstruct_texture_from_faces=False).texture_vertices.shape"
   ]
  },
  {
   "cell_type": "code",
   "execution_count": 43,
   "id": "0dec9f6e",
   "metadata": {},
   "outputs": [
    {
     "name": "stderr",
     "output_type": "stream",
     "text": [
      "/tmp/ipykernel_1257322/2081661155.py:16: RuntimeWarning: invalid value encountered in divide\n",
      "  normals = (normals.T / np.linalg.norm(normals, axis=-1)).T\n"
     ]
    }
   ],
   "source": [
    "mesh_seams_reconverted = convert_from_pymeshlab(pymesh_seams, reconstruct_texture_from_faces=True)"
   ]
  },
  {
   "cell_type": "code",
   "execution_count": 260,
   "id": "d129a9c4",
   "metadata": {},
   "outputs": [
    {
     "data": {
      "text/plain": [
       "((8288, 2), (8276, 2))"
      ]
     },
     "execution_count": 260,
     "metadata": {},
     "output_type": "execute_result"
    }
   ],
   "source": [
    "mesh_seams.texture_vertices.shape, mesh_seams_reconverted.texture_vertices.shape"
   ]
  },
  {
   "cell_type": "code",
   "execution_count": 262,
   "id": "e8ecbcd9",
   "metadata": {},
   "outputs": [],
   "source": [
    "mesh_seams_reconverted.write_obj(\"drosophila_example/Drosophila_CAAX-mCherry_mesh_uv_resaved.obj\")"
   ]
  },
  {
   "cell_type": "code",
   "execution_count": 274,
   "id": "c023e872",
   "metadata": {},
   "outputs": [
    {
     "data": {
      "text/plain": [
       "(16274, 3)"
      ]
     },
     "execution_count": 274,
     "metadata": {},
     "output_type": "execute_result"
    }
   ],
   "source": [
    "pymesh_seams.face_custom_point_attribute_matrix(f\"face_tex_vertex_{1}\").shape"
   ]
  },
  {
   "cell_type": "markdown",
   "id": "06008a04",
   "metadata": {},
   "source": [
    "You can now use `MeshLab` filters like this, and the face attributes will hopefully be correctly updated."
   ]
  },
  {
   "cell_type": "code",
   "execution_count": 304,
   "id": "20617956",
   "metadata": {},
   "outputs": [],
   "source": [
    "ms = pymeshlab.MeshSet()\n",
    "ms.add_mesh(pymesh_seams)\n",
    "\n",
    "ms.meshing_merge_close_vertices(threshold=pymeshlab.PercentageValue(100))\n",
    "pymesh_seams_remeshed = ms.current_mesh()"
   ]
  },
  {
   "cell_type": "code",
   "execution_count": 305,
   "id": "09952664",
   "metadata": {},
   "outputs": [
    {
     "data": {
      "text/plain": [
       "(9054, 3)"
      ]
     },
     "execution_count": 305,
     "metadata": {},
     "output_type": "execute_result"
    }
   ],
   "source": [
    "pymesh_seams_remeshed.face_custom_point_attribute_matrix(f\"face_tex_vertex_{1}\").shape"
   ]
  },
  {
   "cell_type": "code",
   "execution_count": 312,
   "id": "60da6621",
   "metadata": {},
   "outputs": [
    {
     "name": "stderr",
     "output_type": "stream",
     "text": [
      "/tmp/ipykernel_1145232/2081661155.py:16: RuntimeWarning: invalid value encountered in divide\n",
      "  normals = (normals.T / np.linalg.norm(normals, axis=-1)).T\n"
     ]
    },
    {
     "data": {
      "text/plain": [
       "(8072, 2)"
      ]
     },
     "execution_count": 312,
     "metadata": {},
     "output_type": "execute_result"
    }
   ],
   "source": [
    "convert_from_pymeshlab(pymesh_seams_remeshed, reconstruct_texture_from_faces=True,\n",
    "                       texture_vertex_decimals=12).texture_vertices.shape"
   ]
  }
 ],
 "metadata": {
  "kernelspec": {
   "display_name": "Python [conda env:blender-tissue-cartography]",
   "language": "python",
   "name": "conda-env-blender-tissue-cartography-py"
  },
  "language_info": {
   "codemirror_mode": {
    "name": "ipython",
    "version": 3
   },
   "file_extension": ".py",
   "mimetype": "text/x-python",
   "name": "python",
   "nbconvert_exporter": "python",
   "pygments_lexer": "ipython3",
   "version": "3.11.9"
  }
 },
 "nbformat": 4,
 "nbformat_minor": 5
}

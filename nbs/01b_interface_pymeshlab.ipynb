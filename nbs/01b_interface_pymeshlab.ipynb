{
 "cells": [
  {
   "cell_type": "code",
   "execution_count": 1,
   "id": "2f6151ad",
   "metadata": {},
   "outputs": [],
   "source": [
    "#| default_exp interface_pymeshlab"
   ]
  },
  {
   "cell_type": "code",
   "execution_count": 2,
   "id": "e05c9010",
   "metadata": {},
   "outputs": [],
   "source": [
    "#| export\n",
    "\n",
    "from blender_tissue_cartography import io as tcio"
   ]
  },
  {
   "cell_type": "code",
   "execution_count": 3,
   "id": "cdb3d845",
   "metadata": {},
   "outputs": [
    {
     "name": "stdout",
     "output_type": "stream",
     "text": [
      "Warning:\n",
      "Unable to load the following plugins:\n",
      "\n",
      "\tlibio_e57.so: libio_e57.so does not seem to be a Qt Plugin.\n",
      "\n",
      "Cannot load library /home/nikolas/Programs/miniconda3/envs/blender-tissue-cartography/lib/python3.11/site-packages/pymeshlab/lib/plugins/libio_e57.so: (/lib/x86_64-linux-gnu/libp11-kit.so.0: undefined symbol: ffi_type_pointer, version LIBFFI_BASE_7.0)\n",
      "\n"
     ]
    }
   ],
   "source": [
    "#| export\n",
    "\n",
    "import numpy as np\n",
    "import os\n",
    "from copy import deepcopy\n",
    "import pymeshlab"
   ]
  },
  {
   "cell_type": "code",
   "execution_count": 4,
   "id": "2b1ac058",
   "metadata": {},
   "outputs": [],
   "source": [
    "import matplotlib.pyplot as plt\n",
    "from importlib import reload"
   ]
  },
  {
   "cell_type": "markdown",
   "id": "9c0e974c",
   "metadata": {},
   "source": [
    "## Interfacing with `pymeshlab`\n",
    "\n",
    "In this notebook, we define functions to convert our `ObjMesh` class to and from `pymeshlab`."
   ]
  },
  {
   "cell_type": "code",
   "execution_count": 5,
   "id": "7598e98a",
   "metadata": {},
   "outputs": [],
   "source": [
    "mesh_fname_data = \"registration_example/Drosophila_CAAX-mCherry_mesh_remeshed.obj\"\n",
    "mesh_fname_ref = \"registration_example/Drosophila_reference_preregistered.obj\""
   ]
  },
  {
   "cell_type": "code",
   "execution_count": 6,
   "id": "1c85ee02",
   "metadata": {},
   "outputs": [],
   "source": [
    "mesh_data = tcio.ObjMesh.read_obj(mesh_fname_data)\n",
    "mesh_ref = tcio.ObjMesh.read_obj(mesh_fname_ref)"
   ]
  },
  {
   "cell_type": "code",
   "execution_count": 20,
   "id": "2b75f164",
   "metadata": {},
   "outputs": [],
   "source": [
    "def to_pymeshlab(mesh: tcio.ObjMesh):\n",
    "    \"\"\"Convert tcio.ObjMesh to pymeshlab.Mesh\"\"\"\n",
    "    mesh.match_vertex_info(require_texture_normals=False)\n",
    "    return pymeshlab.Mesh(vertex_matrix=mesh.matched_vertices,\n",
    "                          face_list_of_indices=[np.array([v[0] for v in fc]) for fc in mesh.faces],\n",
    "                          v_normals_matrix=mesh.matched_normals,\n",
    "                          v_tex_coords_matrix=mesh.matched_texture_vertices,)"
   ]
  },
  {
   "cell_type": "code",
   "execution_count": 22,
   "id": "dca5cde9",
   "metadata": {},
   "outputs": [
    {
     "data": {
      "text/plain": [
       "<pymeshlab.pmeshlab.Mesh at 0x7fb9fb04bfb0>"
      ]
     },
     "execution_count": 22,
     "metadata": {},
     "output_type": "execute_result"
    }
   ],
   "source": [
    "to_pymeshlab(mesh_ref)"
   ]
  },
  {
   "cell_type": "code",
   "execution_count": null,
   "id": "0335145c",
   "metadata": {},
   "outputs": [],
   "source": []
  },
  {
   "cell_type": "code",
   "execution_count": null,
   "id": "f48a10d8",
   "metadata": {},
   "outputs": [],
   "source": []
  },
  {
   "cell_type": "code",
   "execution_count": 18,
   "id": "29f37dcc",
   "metadata": {},
   "outputs": [
    {
     "data": {
      "text/plain": [
       "<pymeshlab.pmeshlab.Mesh at 0x7fb9fb7fc6b0>"
      ]
     },
     "execution_count": 18,
     "metadata": {},
     "output_type": "execute_result"
    }
   ],
   "source": [
    "mesh_ref.match_vertex_info(require_texture_normals=False)\n",
    "pymeshlab.Mesh(vertex_matrix=mesh_ref.matched_vertices,\n",
    "               face_list_of_indices=[np.array([v[0] for v in fc]) for fc in mesh_ref.faces],\n",
    "               v_normals_matrix=mesh_ref.matched_normals,\n",
    "               v_tex_coords_matrix=mesh_ref.matched_texture_vertices,\n",
    "              )"
   ]
  },
  {
   "cell_type": "code",
   "execution_count": 19,
   "id": "c1043c42",
   "metadata": {},
   "outputs": [
    {
     "data": {
      "text/plain": [
       "<pymeshlab.pmeshlab.Mesh at 0x7fb9fb643fb0>"
      ]
     },
     "execution_count": 19,
     "metadata": {},
     "output_type": "execute_result"
    }
   ],
   "source": [
    "mesh_ref.match_vertex_info(require_texture_normals=False)\n",
    "pymeshlab.Mesh(vertex_matrix=mesh_ref.matched_vertices,\n",
    "               face_list_of_indices=mesh_ref.tris,\n",
    "               v_normals_matrix=mesh_ref.matched_normals,\n",
    "               v_tex_coords_matrix=mesh_ref.matched_texture_vertices,\n",
    "              )"
   ]
  },
  {
   "cell_type": "code",
   "execution_count": null,
   "id": "fbf2929e",
   "metadata": {},
   "outputs": [],
   "source": []
  }
 ],
 "metadata": {
  "kernelspec": {
   "display_name": "Python [conda env:blender-tissue-cartography]",
   "language": "python",
   "name": "conda-env-blender-tissue-cartography-py"
  },
  "language_info": {
   "codemirror_mode": {
    "name": "ipython",
    "version": 3
   },
   "file_extension": ".py",
   "mimetype": "text/x-python",
   "name": "python",
   "nbconvert_exporter": "python",
   "pygments_lexer": "ipython3",
   "version": "3.11.9"
  }
 },
 "nbformat": 4,
 "nbformat_minor": 5
}

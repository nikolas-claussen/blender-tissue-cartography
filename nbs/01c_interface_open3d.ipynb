{
 "cells": [
  {
   "cell_type": "code",
   "execution_count": 1,
   "id": "e01a9efe",
   "metadata": {},
   "outputs": [],
   "source": [
    "#| default_exp interface_pymeshlab"
   ]
  },
  {
   "cell_type": "code",
   "execution_count": 266,
   "id": "7387c21d",
   "metadata": {},
   "outputs": [],
   "source": [
    "#| export\n",
    "\n",
    "from blender_tissue_cartography import io as tcio\n",
    "import numpy as np\n",
    "import pymeshlab"
   ]
  },
  {
   "cell_type": "code",
   "execution_count": 267,
   "id": "734d4c56",
   "metadata": {},
   "outputs": [],
   "source": [
    "from importlib import reload"
   ]
  },
  {
   "cell_type": "code",
   "execution_count": 268,
   "id": "9ee624b2",
   "metadata": {},
   "outputs": [],
   "source": [
    "np.set_printoptions(suppress=True)"
   ]
  },
  {
   "cell_type": "markdown",
   "id": "b0b4aa7b",
   "metadata": {},
   "source": [
    "## Interfacing with `open3d`\n",
    "\n",
    "In this notebook, we define functions to convert our `ObjMesh` class to and from `open3d`.\n",
    "\n",
    "Note: `open3d` uses its own array-like datatype, `o3d.core.Tensor` (for autodiff-reasons I think). This means there are also _two_ triangular mesh classes, one `Tensor`-based, one not. We'll convert to the `Tensor`-based one since it appears to be the one which will be supported in the future. "
   ]
  },
  {
   "cell_type": "code",
   "execution_count": 78,
   "id": "e574dbf2",
   "metadata": {},
   "outputs": [
    {
     "data": {
      "text/plain": [
       "<module 'blender_tissue_cartography.io' from '/home/nikolas/Documents/UCSB/streichan/numerics/code/python code/jupyter notebooks/blender-tissue-cartography/blender_tissue_cartography/io.py'>"
      ]
     },
     "execution_count": 78,
     "metadata": {},
     "output_type": "execute_result"
    }
   ],
   "source": [
    "reload(tcio)"
   ]
  },
  {
   "cell_type": "code",
   "execution_count": 79,
   "id": "5f2e0f3c",
   "metadata": {},
   "outputs": [],
   "source": [
    "mesh_fname_data = \"registration_example/Drosophila_CAAX-mCherry_mesh_remeshed.obj\"\n",
    "mesh_fname_ref = \"registration_example/Drosophila_reference_preregistered.obj\""
   ]
  },
  {
   "cell_type": "code",
   "execution_count": 100,
   "id": "bf33be22",
   "metadata": {},
   "outputs": [],
   "source": [
    "mesh_data = tcio.ObjMesh.read_obj(mesh_fname_data)\n",
    "mesh_ref = tcio.ObjMesh.read_obj(mesh_fname_ref)\n",
    "\n",
    "mesh_data.match_vertex_info(require_texture_normals=False)\n",
    "mesh_ref.match_vertex_info(require_texture_normals=False)"
   ]
  },
  {
   "cell_type": "code",
   "execution_count": 237,
   "id": "d5ddd5dd",
   "metadata": {},
   "outputs": [],
   "source": [
    "#| export\n",
    "\n",
    "def convert_to_pymeshlab(mesh: tcio.ObjMesh) -> pymeshlab.Mesh:\n",
    "    \"\"\"\n",
    "    Convert tcio.ObjMesh to pymeshlab.Mesh.\n",
    "    \n",
    "    See https://pymeshlab.readthedocs.io/en/latest/classes/mesh.html\n",
    "    Note: normal information is recalculated by pymeshlab. Discards any non-triangle faces.\n",
    "    \"\"\"\n",
    "    mesh.match_vertex_info(require_texture_normals=False)\n",
    "    if np.isnan(mesh.matched_texture_vertices).any():\n",
    "        return pymeshlab.Mesh(vertex_matrix=mesh.matched_vertices, face_matrix=mesh.tris)\n",
    "    return pymeshlab.Mesh(vertex_matrix=mesh.matched_vertices, face_matrix=mesh.tris,\n",
    "                          v_tex_coords_matrix=mesh.matched_texture_vertices.astype(np.float64))"
   ]
  },
  {
   "cell_type": "code",
   "execution_count": 238,
   "id": "3f31c1df",
   "metadata": {},
   "outputs": [],
   "source": [
    "pymesh_data = convert_to_pymeshlab(mesh_data)\n",
    "pymesh_ref = convert_to_pymeshlab(mesh_ref)"
   ]
  },
  {
   "cell_type": "code",
   "execution_count": 239,
   "id": "ddae2062",
   "metadata": {},
   "outputs": [
    {
     "data": {
      "text/plain": [
       "True"
      ]
     },
     "execution_count": 239,
     "metadata": {},
     "output_type": "execute_result"
    }
   ],
   "source": [
    "np.allclose(mesh_ref.matched_vertices, pymesh_ref.vertex_matrix())"
   ]
  },
  {
   "cell_type": "code",
   "execution_count": 240,
   "id": "141dc722",
   "metadata": {},
   "outputs": [
    {
     "data": {
      "text/plain": [
       "array([0.99904184, 0.99822658, 0.99668032, ..., 0.99417082, 0.99599803,\n",
       "       0.99721726])"
      ]
     },
     "execution_count": 240,
     "metadata": {},
     "output_type": "execute_result"
    }
   ],
   "source": [
    "pymesh_normals = pymesh_ref.vertex_normal_matrix()\n",
    "pymesh_normals = (pymesh_normals.T / np.linalg.norm(pymesh_normals, axis=-1)).T\n",
    "\n",
    "np.einsum('vi,vi->v', mesh_ref.matched_normals, pymesh_normals)"
   ]
  },
  {
   "cell_type": "code",
   "execution_count": 243,
   "id": "4f1bb19a",
   "metadata": {},
   "outputs": [
    {
     "data": {
      "text/plain": [
       "True"
      ]
     },
     "execution_count": 243,
     "metadata": {},
     "output_type": "execute_result"
    }
   ],
   "source": [
    "np.allclose(mesh_ref.matched_texture_vertices, pymesh_ref.vertex_tex_coord_matrix())"
   ]
  },
  {
   "cell_type": "code",
   "execution_count": 244,
   "id": "50e286a5",
   "metadata": {},
   "outputs": [
    {
     "name": "stdout",
     "output_type": "stream",
     "text": [
      "297 ms ± 3.66 ms per loop (mean ± std. dev. of 7 runs, 1 loop each)\n"
     ]
    }
   ],
   "source": [
    "%%timeit\n",
    "convert_to_pymeshlab(mesh_ref)"
   ]
  },
  {
   "cell_type": "code",
   "execution_count": 263,
   "id": "9acd5d7b",
   "metadata": {},
   "outputs": [],
   "source": [
    "#| export\n",
    "\n",
    "def convert_from_pymeshlab(mesh: pymeshlab.pmeshlab.Mesh) -> pymeshlab.Mesh:\n",
    "    \"\"\"Convert pymeshlab mesh to ObjMesh.\"\"\"\n",
    "    vertices = mesh.vertex_matrix()\n",
    "    faces = [[3*[v,] for v in f] for f in pymesh_ref.face_matrix()]\n",
    "    normals = pymesh_ref.vertex_normal_matrix()\n",
    "    normals = (normals.T / np.linalg.norm(normals, axis=-1)).T\n",
    "    if mesh.has_vertex_tex_coord():\n",
    "        return tcio.ObjMesh(vertices=vertices, faces=faces, normals=normals,\n",
    "                            texture_vertices=mesh.vertex_tex_coord_matrix())\n",
    "    return tcio.ObjMesh(vertices=vertices, faces=faces, normals=normals)"
   ]
  },
  {
   "cell_type": "code",
   "execution_count": 264,
   "id": "a8f7cbda",
   "metadata": {},
   "outputs": [],
   "source": [
    "mesh_reconverted = convert_from_pymeshlab(pymesh_ref)"
   ]
  },
  {
   "cell_type": "code",
   "execution_count": 265,
   "id": "d5d39466",
   "metadata": {},
   "outputs": [
    {
     "data": {
      "text/plain": [
       "array([[0.84753603, 0.99985301],\n",
       "       [0.84363198, 0.99985301],\n",
       "       [0.83972698, 0.99985403],\n",
       "       ...,\n",
       "       [0.007827  , 0.000135  ],\n",
       "       [0.003923  , 0.000135  ],\n",
       "       [0.000018  , 0.000136  ]])"
      ]
     },
     "execution_count": 265,
     "metadata": {},
     "output_type": "execute_result"
    }
   ],
   "source": [
    "mesh_reconverted.texture_vertices"
   ]
  }
 ],
 "metadata": {
  "kernelspec": {
   "display_name": "Python [conda env:blender-tissue-cartography]",
   "language": "python",
   "name": "conda-env-blender-tissue-cartography-py"
  },
  "language_info": {
   "codemirror_mode": {
    "name": "ipython",
    "version": 3
   },
   "file_extension": ".py",
   "mimetype": "text/x-python",
   "name": "python",
   "nbconvert_exporter": "python",
   "pygments_lexer": "ipython3",
   "version": "3.11.9"
  }
 },
 "nbformat": 4,
 "nbformat_minor": 5
}

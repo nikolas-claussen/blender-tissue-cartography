{
 "cells": [
  {
   "cell_type": "code",
   "execution_count": 1,
   "id": "e01a9efe",
   "metadata": {},
   "outputs": [],
   "source": [
    "#| default_exp interface_open3d"
   ]
  },
  {
   "cell_type": "code",
   "execution_count": 2,
   "id": "7387c21d",
   "metadata": {},
   "outputs": [
    {
     "name": "stdout",
     "output_type": "stream",
     "text": [
      "Jupyter environment detected. Enabling Open3D WebVisualizer.\n",
      "[Open3D INFO] WebRTC GUI backend enabled.\n",
      "[Open3D INFO] WebRTCWindowSystem: HTTP handshake server disabled.\n"
     ]
    }
   ],
   "source": [
    "#| export\n",
    "\n",
    "from blender_tissue_cartography import io as tcio\n",
    "import numpy as np\n",
    "import open3d as o3d"
   ]
  },
  {
   "cell_type": "code",
   "execution_count": 5,
   "id": "734d4c56",
   "metadata": {},
   "outputs": [],
   "source": [
    "from importlib import reload\n",
    "from copy import deepcopy"
   ]
  },
  {
   "cell_type": "code",
   "execution_count": 6,
   "id": "9ee624b2",
   "metadata": {},
   "outputs": [],
   "source": [
    "np.set_printoptions(suppress=True)"
   ]
  },
  {
   "cell_type": "markdown",
   "id": "b0b4aa7b",
   "metadata": {},
   "source": [
    "## Interfacing with `open3d`\n",
    "\n",
    "In this notebook, we define functions to convert our `ObjMesh` class to and from `open3d`.\n",
    "\n",
    "Note: `open3d` uses its own array-like datatype, `o3d.core.Tensor` (for autodiff-reasons I think). This means there are also _two_ triangular mesh classes, one `Tensor`-based, one not. We'll convert to the `Tensor`-based one since it appears to be the one which will be supported in the future. \n",
    "\n",
    "See https://www.open3d.org/docs/latest/python_api/open3d.t.geometry.TriangleMesh.html"
   ]
  },
  {
   "cell_type": "code",
   "execution_count": 125,
   "id": "08ddc8bd",
   "metadata": {},
   "outputs": [],
   "source": [
    "#| export\n",
    "\n",
    "def convert_to_open3d(mesh: tcio.ObjMesh, add_texture_info=None) -> o3d.t.geometry.TriangleMesh:\n",
    "    \"\"\"\n",
    "    Convert tcio.ObjMesh to open3d.t.geometry.TriangleMesh.\n",
    "    \n",
    "    See https://www.open3d.org/docs/latest/python_api/open3d.t.geometry.TriangleMesh.html\n",
    "    Note: open3d stores its texture coordinates generally as face attributes.\n",
    "    The returned mesh has a face attribute mesh_o3d.triangle.texture_uvs if \n",
    "    texture info is provided. Normals are recomputed by open3d.\n",
    "    \n",
    "    Parameters\n",
    "    ----------\n",
    "    mesh : tcio.ObjMesh\n",
    "        Input mesh\n",
    "    add_texture_info : None or bool\n",
    "        Whether to add texture info to the pymeshlab.Mesh. If None, texture is added if available\n",
    "        for all vertices. If True, missing texture info is set to np.nan\n",
    "    Returns\n",
    "    -------\n",
    "    mesh_o3d: o3d.t.geometry.TriangleMesh\n",
    "\n",
    "    \"\"\"\n",
    "    add_texture_info = (not np.isnan(mesh.vertex_textures).any()\n",
    "                        if add_texture_info is None else add_texture_info)\n",
    "    \n",
    "    dtype_f = o3d.core.float32\n",
    "    dtype_i = o3d.core.int32\n",
    "    mesh_o3d = o3d.t.geometry.TriangleMesh()\n",
    "    \n",
    "    mesh_o3d.triangle.indices = o3d.core.Tensor(mesh.tris, dtype_i)\n",
    "    mesh_o3d.vertex.positions = o3d.core.Tensor(mesh.vertices, dtype_f)\n",
    "    if add_texture_info:\n",
    "        mesh_o3d.triangle.texture_uvs = o3d.core.Tensor(np.stack([[tcio.index_else_nan(\n",
    "            mesh.texture_vertices, v, target_shape=(2,)) for v in tri] for tri in mesh.texture_tris]), dtype_f)\n",
    "    return mesh_o3d"
   ]
  },
  {
   "cell_type": "code",
   "execution_count": 128,
   "id": "a8705a6f",
   "metadata": {},
   "outputs": [],
   "source": [
    "arr = np.random.normal(size=(10, 2))\n",
    "inds = np.vstack([np.random.randint(low=0, high=9, size=(20,3)), np.nan*np.ones((4, 3))])\n"
   ]
  },
  {
   "cell_type": "code",
   "execution_count": 140,
   "id": "e7e0df73",
   "metadata": {
    "scrolled": true
   },
   "outputs": [],
   "source": [
    "mask = np.isnan(inds)\n",
    "masked_inds = np.copy(inds)\n",
    "masked_inds[mask] = 0\n",
    "masked_inds = masked_inds.astype(int)\n",
    "selected = arr[masked_inds] \n",
    "selected[mask] = np.nan"
   ]
  },
  {
   "cell_type": "code",
   "execution_count": null,
   "id": "2d9bf90b",
   "metadata": {},
   "outputs": [],
   "source": []
  },
  {
   "cell_type": "code",
   "execution_count": 149,
   "id": "bcc9a59d",
   "metadata": {},
   "outputs": [],
   "source": []
  },
  {
   "cell_type": "code",
   "execution_count": 150,
   "id": "7e79b183",
   "metadata": {},
   "outputs": [
    {
     "data": {
      "text/plain": [
       "array([nan, nan])"
      ]
     },
     "execution_count": 150,
     "metadata": {},
     "output_type": "execute_result"
    }
   ],
   "source": [
    "index_else_nan(arr, np.nan)"
   ]
  },
  {
   "cell_type": "code",
   "execution_count": 144,
   "id": "05519bae",
   "metadata": {},
   "outputs": [
    {
     "data": {
      "text/plain": [
       "(111104, 3)"
      ]
     },
     "execution_count": 144,
     "metadata": {},
     "output_type": "execute_result"
    }
   ],
   "source": [
    "meshref. mesh_ref.texture_tris.shape"
   ]
  },
  {
   "cell_type": "code",
   "execution_count": null,
   "id": "d31d41d5",
   "metadata": {},
   "outputs": [],
   "source": [
    "# SizeVector[111104, 3, 2]"
   ]
  },
  {
   "cell_type": "code",
   "execution_count": null,
   "id": "fa492467",
   "metadata": {},
   "outputs": [],
   "source": []
  },
  {
   "cell_type": "code",
   "execution_count": null,
   "id": "6aa3f2a2",
   "metadata": {},
   "outputs": [],
   "source": []
  },
  {
   "cell_type": "code",
   "execution_count": 126,
   "id": "53ae8cec",
   "metadata": {},
   "outputs": [
    {
     "data": {
      "text/plain": [
       "TriangleMesh on CPU:0 [8425 vertices (Float32) and 16846 triangles (Int32)].\n",
       "Vertex Attributes: None.\n",
       "Triangle Attributes: texture_uvs (dtype = Float32, shape = {16846, 3, 2})."
      ]
     },
     "execution_count": 126,
     "metadata": {},
     "output_type": "execute_result"
    }
   ],
   "source": [
    "convert_to_open3d(mesh_data, add_texture_info=True)"
   ]
  },
  {
   "cell_type": "code",
   "execution_count": 121,
   "id": "b6a6fa93",
   "metadata": {},
   "outputs": [
    {
     "ename": "ValueError",
     "evalue": "cannot convert float NaN to integer",
     "output_type": "error",
     "traceback": [
      "\u001b[0;31m---------------------------------------------------------------------------\u001b[0m",
      "\u001b[0;31mValueError\u001b[0m                                Traceback (most recent call last)",
      "Cell \u001b[0;32mIn[121], line 1\u001b[0m\n\u001b[0;32m----> 1\u001b[0m \u001b[38;5;28mint\u001b[39m(np\u001b[38;5;241m.\u001b[39mnan)\n",
      "\u001b[0;31mValueError\u001b[0m: cannot convert float NaN to integer"
     ]
    }
   ],
   "source": [
    "int(np.nan)"
   ]
  },
  {
   "cell_type": "code",
   "execution_count": 118,
   "id": "8a94d64f",
   "metadata": {},
   "outputs": [
    {
     "data": {
      "text/plain": [
       "array([[    2,     1,     0],\n",
       "       [    4,     3,     1],\n",
       "       [    6,     5,     3],\n",
       "       ...,\n",
       "       [56022, 55804, 56021],\n",
       "       [56024, 55806, 56022],\n",
       "       [56025, 56023, 56024]])"
      ]
     },
     "execution_count": 118,
     "metadata": {},
     "output_type": "execute_result"
    }
   ],
   "source": [
    "mesh_ref.texture_tris"
   ]
  },
  {
   "cell_type": "code",
   "execution_count": null,
   "id": "1ea0fd1e",
   "metadata": {},
   "outputs": [],
   "source": []
  },
  {
   "cell_type": "code",
   "execution_count": 103,
   "id": "e574dbf2",
   "metadata": {},
   "outputs": [
    {
     "data": {
      "text/plain": [
       "<module 'blender_tissue_cartography.io' from '/home/nikolas/Documents/UCSB/streichan/numerics/code/python code/jupyter notebooks/blender-tissue-cartography/blender_tissue_cartography/io.py'>"
      ]
     },
     "execution_count": 103,
     "metadata": {},
     "output_type": "execute_result"
    }
   ],
   "source": [
    "reload(tcio)"
   ]
  },
  {
   "cell_type": "code",
   "execution_count": 104,
   "id": "5f2e0f3c",
   "metadata": {},
   "outputs": [],
   "source": [
    "mesh_fname_data = \"registration_example/Drosophila_CAAX-mCherry_mesh_remeshed.obj\"\n",
    "mesh_fname_ref = \"registration_example/Drosophila_reference_preregistered.obj\""
   ]
  },
  {
   "cell_type": "code",
   "execution_count": 105,
   "id": "bf33be22",
   "metadata": {},
   "outputs": [],
   "source": [
    "mesh_data = tcio.ObjMesh.read_obj(mesh_fname_data)\n",
    "mesh_ref = tcio.ObjMesh.read_obj(mesh_fname_ref)\n",
    "\n",
    "mesh_data.match_vertex_info(require_texture_normals=False)\n",
    "mesh_ref.match_vertex_info(require_texture_normals=False)"
   ]
  },
  {
   "cell_type": "code",
   "execution_count": 108,
   "id": "403ab4f7",
   "metadata": {},
   "outputs": [],
   "source": [
    "mesh_ref_o3d = convert_to_open3d(mesh_ref, add_texture_info=True)"
   ]
  },
  {
   "cell_type": "code",
   "execution_count": 109,
   "id": "6a0dbd11",
   "metadata": {},
   "outputs": [
    {
     "data": {
      "text/plain": [
       "TensorMap(primary_key=\"positions\") with 1 attribute:\n",
       "  - positions: shape={56026, 3}, dtype=Float32, device=CPU:0 (primary)\n",
       "  (Use . to access attributes, e.g., tensor_map.positions)"
      ]
     },
     "execution_count": 109,
     "metadata": {},
     "output_type": "execute_result"
    }
   ],
   "source": [
    "mesh_ref_o3d.vertex"
   ]
  },
  {
   "cell_type": "code",
   "execution_count": 80,
   "id": "6f6f70dd",
   "metadata": {},
   "outputs": [
    {
     "data": {
      "text/plain": [
       "True"
      ]
     },
     "execution_count": 80,
     "metadata": {},
     "output_type": "execute_result"
    }
   ],
   "source": [
    "# this is how you access attributes\n",
    "\n",
    "np.allclose(mesh_ref_o3d.vertex.positions.numpy(), mesh_ref.vertices)"
   ]
  },
  {
   "cell_type": "code",
   "execution_count": 81,
   "id": "2f6b5deb",
   "metadata": {},
   "outputs": [
    {
     "name": "stdout",
     "output_type": "stream",
     "text": [
      "[Open3D INFO] actual parallel_partitions 1\n"
     ]
    },
    {
     "data": {
      "text/plain": [
       "(0.027833282947540283, 2, 1)"
      ]
     },
     "execution_count": 81,
     "metadata": {},
     "output_type": "execute_result"
    }
   ],
   "source": [
    "# this is how open3d represents UV maps. Let's create a UV map using the iso-charts algorithm\n",
    "\n",
    "mesh_ref_o3d.compute_uvatlas()"
   ]
  },
  {
   "cell_type": "code",
   "execution_count": 82,
   "id": "34ff6d6e",
   "metadata": {},
   "outputs": [
    {
     "data": {
      "text/plain": [
       "SizeVector[111104, 3, 2]"
      ]
     },
     "execution_count": 82,
     "metadata": {},
     "output_type": "execute_result"
    }
   ],
   "source": [
    "mesh_ref_o3d.triangle.texture_uvs.shape"
   ]
  },
  {
   "cell_type": "code",
   "execution_count": 83,
   "id": "4f71fb9b",
   "metadata": {},
   "outputs": [],
   "source": [
    "# now let's keep the uv info\n",
    "\n",
    "mesh_ref_o3d = convert_to_open3d(mesh_ref, add_texture_info=True)"
   ]
  },
  {
   "cell_type": "code",
   "execution_count": 84,
   "id": "98ae3544",
   "metadata": {},
   "outputs": [
    {
     "data": {
      "text/plain": [
       "TensorMap(primary_key=\"indices\") with 3 attributes:\n",
       "  - indices    : shape={111104, 3}, dtype=Int32, device=CPU:0 (primary)\n",
       "  - normals    : shape={111104, 3}, dtype=Float32, device=CPU:0\n",
       "  - texture_uvs: shape={111104, 3, 2}, dtype=Float32, device=CPU:0\n",
       "  (Use . to access attributes, e.g., tensor_map.indices)"
      ]
     },
     "execution_count": 84,
     "metadata": {},
     "output_type": "execute_result"
    }
   ],
   "source": [
    "mesh_ref_o3d.triangle"
   ]
  },
  {
   "cell_type": "code",
   "execution_count": 85,
   "id": "ac69ed73",
   "metadata": {},
   "outputs": [],
   "source": [
    "#| export\n",
    "\n",
    "def convert_from_open3d(mesh: o3d.t.geometry.TriangleMesh, reconstruct_texture_from_faces=None,\n",
    "                        texture_vertex_decimals=10) -> tcio.ObjMesh:\n",
    "    \"\"\"\n",
    "    Convert open3d mesh to ObjMesh.\n",
    "    \n",
    "    Automatically recomputes vertex normals.\n",
    "    \n",
    "    Parameters\n",
    "    ----------\n",
    "    mesh : o3d.t.geometry.TriangleMesh\n",
    "        Input mesh\n",
    "    reconstruct_texture_from_faces : None or bool\n",
    "        Whether to reconstruct the texture info\n",
    "    texture_vertex_decimals : int, default 10\n",
    "        Decimals UV vertices are rounded to. Needed to merge potential duplicate vertices\n",
    "        for an economic representation.\n",
    "    \n",
    "    Returns\n",
    "    -------\n",
    "    tcio.ObjMesh\n",
    "\n",
    "    \"\"\"\n",
    "    vertices = mesh.vertex.positions.numpy()\n",
    "    normals = mesh.vertex.normals.numpy()\n",
    "    normals = (normals.T / np.linalg.norm(normals, axis=-1)).T\n",
    "    face_matrix = mesh.triangle.indices.numpy()\n",
    "    if reconstruct_texture_from_faces is None:\n",
    "        reconstruct_texture_from_faces = \"texture_uvs\" in mesh.triangle\n",
    "    \n",
    "    if not reconstruct_texture_from_faces:\n",
    "        faces = [[3*[v,] for v in f] for f in face_matrix]\n",
    "        return tcio.ObjMesh(vertices=vertices, faces=faces, normals=normals)\n",
    "    \n",
    "    # reconstruct texture vertices - big pain.\n",
    "    texture_vertices = mesh.triangle.texture_uvs.numpy().reshape(-1, 2, order='F')\n",
    "    texture_vertices = np.round(texture_vertices, decimals=texture_vertex_decimals)\n",
    "    texture_vertices_unique, inverse_index = np.unique(texture_vertices, axis=0, return_inverse=True)\n",
    "    \n",
    "    n_faces = face_matrix.shape[0]\n",
    "    faces = [[[v, inverse_index[ifc+iv*n_faces], v] for iv, v in enumerate(fc)]\n",
    "             for ifc, fc in enumerate(face_matrix)]\n",
    "\n",
    "    return tcio.ObjMesh(vertices=vertices, faces=faces, normals=normals, texture_vertices=texture_vertices_unique)"
   ]
  },
  {
   "cell_type": "code",
   "execution_count": 86,
   "id": "ec87b9d8",
   "metadata": {},
   "outputs": [],
   "source": [
    "mesh_seams = tcio.ObjMesh.read_obj(\"drosophila_example/Drosophila_CAAX-mCherry_mesh_uv.obj\")"
   ]
  },
  {
   "cell_type": "code",
   "execution_count": 87,
   "id": "5d451547",
   "metadata": {},
   "outputs": [],
   "source": [
    "o3d_seams = convert_to_open3d(mesh_seams, add_texture_info=True)"
   ]
  },
  {
   "cell_type": "code",
   "execution_count": 88,
   "id": "e9ba83b0",
   "metadata": {},
   "outputs": [
    {
     "name": "stderr",
     "output_type": "stream",
     "text": [
      "/tmp/ipykernel_1152880/2692007992.py:25: RuntimeWarning: invalid value encountered in divide\n",
      "  normals = (normals.T / np.linalg.norm(normals, axis=-1)).T\n"
     ]
    }
   ],
   "source": [
    "mesh_seams_reconverted = convert_from_open3d(o3d_seams, reconstruct_texture_from_faces=True)"
   ]
  },
  {
   "cell_type": "code",
   "execution_count": 89,
   "id": "73fb973d",
   "metadata": {},
   "outputs": [],
   "source": [
    "mesh_seams_reconverted.write_obj(\"drosophila_example/Drosophila_CAAX-mCherry_mesh_uv_resaved_open3d.obj\")"
   ]
  },
  {
   "cell_type": "code",
   "execution_count": null,
   "id": "d3221edf",
   "metadata": {},
   "outputs": [],
   "source": []
  },
  {
   "cell_type": "code",
   "execution_count": null,
   "id": "da5ad246",
   "metadata": {},
   "outputs": [],
   "source": []
  },
  {
   "cell_type": "code",
   "execution_count": null,
   "id": "28a22b88",
   "metadata": {},
   "outputs": [],
   "source": []
  }
 ],
 "metadata": {
  "kernelspec": {
   "display_name": "Python [conda env:blender-tissue-cartography]",
   "language": "python",
   "name": "conda-env-blender-tissue-cartography-py"
  },
  "language_info": {
   "codemirror_mode": {
    "name": "ipython",
    "version": 3
   },
   "file_extension": ".py",
   "mimetype": "text/x-python",
   "name": "python",
   "nbconvert_exporter": "python",
   "pygments_lexer": "ipython3",
   "version": "3.11.9"
  }
 },
 "nbformat": 4,
 "nbformat_minor": 5
}

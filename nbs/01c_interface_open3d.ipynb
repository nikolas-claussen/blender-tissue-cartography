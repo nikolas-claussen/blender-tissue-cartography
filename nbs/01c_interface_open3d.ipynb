{
 "cells": [
  {
   "cell_type": "code",
   "execution_count": 1,
   "id": "e01a9efe",
   "metadata": {},
   "outputs": [],
   "source": [
    "#| default_exp interface_open3d"
   ]
  },
  {
   "cell_type": "code",
   "execution_count": 2,
   "id": "7387c21d",
   "metadata": {},
   "outputs": [
    {
     "name": "stdout",
     "output_type": "stream",
     "text": [
      "Jupyter environment detected. Enabling Open3D WebVisualizer.\n",
      "[Open3D INFO] WebRTC GUI backend enabled.\n",
      "[Open3D INFO] WebRTCWindowSystem: HTTP handshake server disabled.\n"
     ]
    }
   ],
   "source": [
    "#| export\n",
    "\n",
    "from blender_tissue_cartography import io as tcio\n",
    "import numpy as np\n",
    "import open3d as o3d"
   ]
  },
  {
   "cell_type": "code",
   "execution_count": 3,
   "id": "734d4c56",
   "metadata": {},
   "outputs": [],
   "source": [
    "from importlib import reload\n",
    "from copy import deepcopy"
   ]
  },
  {
   "cell_type": "code",
   "execution_count": 4,
   "id": "9ee624b2",
   "metadata": {},
   "outputs": [],
   "source": [
    "np.set_printoptions(suppress=True)"
   ]
  },
  {
   "cell_type": "markdown",
   "id": "b0b4aa7b",
   "metadata": {},
   "source": [
    "## Interfacing with `open3d`\n",
    "\n",
    "In this notebook, we define functions to convert our `ObjMesh` class to and from `open3d`.\n",
    "\n",
    "Note: `open3d` uses its own array-like datatype, `o3d.core.Tensor` (for autodiff-reasons I think). This means there are also _two_ triangular mesh classes, one `Tensor`-based, one not. We'll convert to the `Tensor`-based one since it appears to be the one which will be supported in the future. \n",
    "\n",
    "See https://www.open3d.org/docs/latest/python_api/open3d.t.geometry.TriangleMesh.html"
   ]
  },
  {
   "cell_type": "code",
   "execution_count": 12,
   "id": "0cf09bd6",
   "metadata": {},
   "outputs": [],
   "source": [
    "#| export\n",
    "\n",
    "def convert_to_open3d(mesh: tcio.ObjMesh, add_texture_info=None) -> o3d.t.geometry.TriangleMesh:\n",
    "    \"\"\"\n",
    "    Convert tcio.ObjMesh to open3d.t.geometry.TriangleMesh.\n",
    "    \n",
    "    See https://www.open3d.org/docs/latest/python_api/open3d.t.geometry.TriangleMesh.html\n",
    "    Note: open3d stores its texture coordinates generally as face attributes.\n",
    "    The returned mesh has a face attribute mesh_o3d.triangle.texture_uvs if \n",
    "    texture info is provided. Normals are recomputed by open3d.\n",
    "    \n",
    "    Parameters\n",
    "    ----------\n",
    "    mesh : tcio.ObjMesh\n",
    "        Input mesh\n",
    "    add_texture_info : None or bool\n",
    "        Whether to add texture info to the pymeshlab.Mesh. If None, texture is added if available\n",
    "        for all vertices. If True, missing texture info is set to np.nan\n",
    "    Returns\n",
    "    -------\n",
    "    mesh_o3d: o3d.t.geometry.TriangleMesh\n",
    "\n",
    "    \"\"\"\n",
    "    add_texture_info = (not np.isnan(mesh.vertex_textures).any()\n",
    "                        if add_texture_info is None else add_texture_info)\n",
    "    \n",
    "    dtype_f = o3d.core.float32\n",
    "    dtype_i = o3d.core.int32\n",
    "    mesh_o3d = o3d.t.geometry.TriangleMesh()\n",
    "    \n",
    "    mesh_o3d.triangle.indices = o3d.core.Tensor(mesh.tris, dtype_i)\n",
    "    mesh_o3d.vertex.positions = o3d.core.Tensor(mesh.vertices, dtype_f)\n",
    "    if add_texture_info:\n",
    "        mesh_o3d.triangle.texture_uvs = o3d.core.Tensor(tcio.index_else_nan(mesh.texture_vertices,\n",
    "                                                                            mesh.texture_tris), dtype_f)\n",
    "    return mesh_o3d"
   ]
  },
  {
   "cell_type": "code",
   "execution_count": 13,
   "id": "e574dbf2",
   "metadata": {},
   "outputs": [
    {
     "data": {
      "text/plain": [
       "<module 'blender_tissue_cartography.io' from '/home/nikolas/Documents/UCSB/streichan/numerics/code/python code/jupyter notebooks/blender-tissue-cartography/blender_tissue_cartography/io.py'>"
      ]
     },
     "execution_count": 13,
     "metadata": {},
     "output_type": "execute_result"
    }
   ],
   "source": [
    "reload(tcio)"
   ]
  },
  {
   "cell_type": "code",
   "execution_count": 14,
   "id": "5f2e0f3c",
   "metadata": {},
   "outputs": [],
   "source": [
    "mesh_fname_data = \"registration_example/Drosophila_CAAX-mCherry_mesh_remeshed.obj\"\n",
    "mesh_fname_ref = \"registration_example/Drosophila_reference_preregistered.obj\""
   ]
  },
  {
   "cell_type": "code",
   "execution_count": 15,
   "id": "bf33be22",
   "metadata": {},
   "outputs": [],
   "source": [
    "mesh_data = tcio.ObjMesh.read_obj(mesh_fname_data)\n",
    "mesh_ref = tcio.ObjMesh.read_obj(mesh_fname_ref)"
   ]
  },
  {
   "cell_type": "code",
   "execution_count": 17,
   "id": "26b5732d",
   "metadata": {},
   "outputs": [],
   "source": [
    "mesh_ref_o3d = convert_to_open3d(mesh_ref, add_texture_info=True)"
   ]
  },
  {
   "cell_type": "code",
   "execution_count": 109,
   "id": "44211e86",
   "metadata": {},
   "outputs": [
    {
     "data": {
      "text/plain": [
       "TensorMap(primary_key=\"positions\") with 1 attribute:\n",
       "  - positions: shape={56026, 3}, dtype=Float32, device=CPU:0 (primary)\n",
       "  (Use . to access attributes, e.g., tensor_map.positions)"
      ]
     },
     "execution_count": 109,
     "metadata": {},
     "output_type": "execute_result"
    }
   ],
   "source": [
    "mesh_ref_o3d.vertex"
   ]
  },
  {
   "cell_type": "code",
   "execution_count": 80,
   "id": "ffb84d0c",
   "metadata": {},
   "outputs": [
    {
     "data": {
      "text/plain": [
       "True"
      ]
     },
     "execution_count": 80,
     "metadata": {},
     "output_type": "execute_result"
    }
   ],
   "source": [
    "# this is how you access attributes\n",
    "\n",
    "np.allclose(mesh_ref_o3d.vertex.positions.numpy(), mesh_ref.vertices)"
   ]
  },
  {
   "cell_type": "code",
   "execution_count": 81,
   "id": "6b2d943a",
   "metadata": {},
   "outputs": [
    {
     "name": "stdout",
     "output_type": "stream",
     "text": [
      "[Open3D INFO] actual parallel_partitions 1\n"
     ]
    },
    {
     "data": {
      "text/plain": [
       "(0.027833282947540283, 2, 1)"
      ]
     },
     "execution_count": 81,
     "metadata": {},
     "output_type": "execute_result"
    }
   ],
   "source": [
    "# this is how open3d represents UV maps. Let's create a UV map using the iso-charts algorithm\n",
    "\n",
    "mesh_ref_o3d.compute_uvatlas()"
   ]
  },
  {
   "cell_type": "code",
   "execution_count": 82,
   "id": "d25df5e7",
   "metadata": {},
   "outputs": [
    {
     "data": {
      "text/plain": [
       "SizeVector[111104, 3, 2]"
      ]
     },
     "execution_count": 82,
     "metadata": {},
     "output_type": "execute_result"
    }
   ],
   "source": [
    "mesh_ref_o3d.triangle.texture_uvs.shape"
   ]
  },
  {
   "cell_type": "code",
   "execution_count": 83,
   "id": "f7bc33fe",
   "metadata": {},
   "outputs": [],
   "source": [
    "# now let's keep the uv info\n",
    "\n",
    "mesh_ref_o3d = convert_to_open3d(mesh_ref, add_texture_info=True)"
   ]
  },
  {
   "cell_type": "code",
   "execution_count": 84,
   "id": "457007f7",
   "metadata": {},
   "outputs": [
    {
     "data": {
      "text/plain": [
       "TensorMap(primary_key=\"indices\") with 3 attributes:\n",
       "  - indices    : shape={111104, 3}, dtype=Int32, device=CPU:0 (primary)\n",
       "  - normals    : shape={111104, 3}, dtype=Float32, device=CPU:0\n",
       "  - texture_uvs: shape={111104, 3, 2}, dtype=Float32, device=CPU:0\n",
       "  (Use . to access attributes, e.g., tensor_map.indices)"
      ]
     },
     "execution_count": 84,
     "metadata": {},
     "output_type": "execute_result"
    }
   ],
   "source": [
    "mesh_ref_o3d.triangle"
   ]
  },
  {
   "cell_type": "code",
   "execution_count": 61,
   "id": "bb7e565a",
   "metadata": {},
   "outputs": [],
   "source": [
    "#| export\n",
    "\n",
    "def convert_from_open3d(mesh: o3d.t.geometry.TriangleMesh, reconstruct_texture_from_faces=None,\n",
    "                        texture_vertex_decimals=10) -> tcio.ObjMesh:\n",
    "    \"\"\"\n",
    "    Convert open3d mesh to ObjMesh.\n",
    "    \n",
    "    Automatically recomputes vertex normals.\n",
    "    \n",
    "    Parameters\n",
    "    ----------\n",
    "    mesh : o3d.t.geometry.TriangleMesh\n",
    "        Input mesh\n",
    "    reconstruct_texture_from_faces : None or bool\n",
    "        Whether to reconstruct the texture info\n",
    "    texture_vertex_decimals : int, default 10\n",
    "        Decimals UV vertices are rounded to. Needed to merge potential duplicate vertices\n",
    "        for an economic representation.\n",
    "    \n",
    "    Returns\n",
    "    -------\n",
    "    tcio.ObjMesh\n",
    "\n",
    "    \"\"\"\n",
    "    if isinstance(mesh, o3d.geometry.TriangleMesh): # legacy ...\n",
    "        vertices = np.asarray(mesh.vertices)\n",
    "        mesh.compute_vertex_normals()\n",
    "        normals = np.asarray(mesh_legacy.vertex_normals)\n",
    "        normals = (normals.T / np.linalg.norm(normals, axis=-1)).T\n",
    "        face_matrix = np.asarray(mesh.triangles)\n",
    "        if reconstruct_texture_from_faces is None:\n",
    "            reconstruct_texture_from_faces = hasattr(mesh, 'triangle_uvs')\n",
    "        if not reconstruct_texture_from_faces:\n",
    "            faces = [[3*[v,] for v in f] for f in face_matrix]\n",
    "            return tcio.ObjMesh(vertices=vertices, faces=faces, normals=normals)\n",
    "        texture_vertices = np.asarray(mesh_legacy.triangle_uvs).reshape(-1,3,2).reshape(-1, 2, order='F')\n",
    "        texture_vertices = np.round(texture_vertices, decimals=texture_vertex_decimals)\n",
    "        texture_vertices_unique, inverse_index = np.unique(texture_vertices, axis=0, return_inverse=True)\n",
    "\n",
    "        n_faces = face_matrix.shape[0]\n",
    "        faces = [[[v, inverse_index[ifc+iv*n_faces], v] for iv, v in enumerate(fc)]\n",
    "                 for ifc, fc in enumerate(face_matrix)]\n",
    "\n",
    "        return tcio.ObjMesh(vertices=vertices, faces=faces, normals=normals,\n",
    "                            texture_vertices=texture_vertices_unique)\n",
    "    else:    \n",
    "        vertices = mesh.vertex.positions.numpy()\n",
    "        mesh.compute_vertex_normals()\n",
    "        normals = mesh.vertex.normals.numpy()\n",
    "        normals = (normals.T / np.linalg.norm(normals, axis=-1)).T\n",
    "        face_matrix = mesh.triangle.indices.numpy()\n",
    "        if reconstruct_texture_from_faces is None:\n",
    "            reconstruct_texture_from_faces = \"texture_uvs\" in mesh.triangle\n",
    "\n",
    "        if not reconstruct_texture_from_faces:\n",
    "            faces = [[3*[v,] for v in f] for f in face_matrix]\n",
    "            return tcio.ObjMesh(vertices=vertices, faces=faces, normals=normals)\n",
    "\n",
    "        # reconstruct texture vertices - big pain.\n",
    "        texture_vertices = mesh.triangle.texture_uvs.numpy().reshape(-1, 2, order='F')\n",
    "        texture_vertices = np.round(texture_vertices, decimals=texture_vertex_decimals)\n",
    "        texture_vertices_unique, inverse_index = np.unique(texture_vertices, axis=0, return_inverse=True)\n",
    "\n",
    "        n_faces = face_matrix.shape[0]\n",
    "        faces = [[[v, inverse_index[ifc+iv*n_faces], v] for iv, v in enumerate(fc)]\n",
    "                 for ifc, fc in enumerate(face_matrix)]\n",
    "\n",
    "        return tcio.ObjMesh(vertices=vertices, faces=faces, normals=normals,\n",
    "                            texture_vertices=texture_vertices_unique)"
   ]
  },
  {
   "cell_type": "code",
   "execution_count": 62,
   "id": "600b08e2",
   "metadata": {},
   "outputs": [],
   "source": [
    "mesh_seams = tcio.ObjMesh.read_obj(\"drosophila_example/Drosophila_CAAX-mCherry_mesh_uv.obj\")"
   ]
  },
  {
   "cell_type": "code",
   "execution_count": 63,
   "id": "ec88a636",
   "metadata": {},
   "outputs": [],
   "source": [
    "o3d_seams = convert_to_open3d(mesh_seams, add_texture_info=True)"
   ]
  },
  {
   "cell_type": "code",
   "execution_count": 64,
   "id": "101b8db0",
   "metadata": {},
   "outputs": [
    {
     "name": "stderr",
     "output_type": "stream",
     "text": [
      "/tmp/ipykernel_1158674/1023165026.py:50: RuntimeWarning: invalid value encountered in divide\n",
      "  normals = (normals.T / np.linalg.norm(normals, axis=-1)).T\n"
     ]
    }
   ],
   "source": [
    "mesh_seams_reconverted = convert_from_open3d(o3d_seams, reconstruct_texture_from_faces=True)"
   ]
  },
  {
   "cell_type": "code",
   "execution_count": 65,
   "id": "a55be290",
   "metadata": {
    "scrolled": true
   },
   "outputs": [
    {
     "name": "stderr",
     "output_type": "stream",
     "text": [
      "/tmp/ipykernel_1158674/1023165026.py:29: RuntimeWarning: invalid value encountered in divide\n",
      "  normals = (normals.T / np.linalg.norm(normals, axis=-1)).T\n"
     ]
    },
    {
     "data": {
      "text/plain": [
       "<blender_tissue_cartography.io.ObjMesh at 0x7f751e8d7890>"
      ]
     },
     "execution_count": 65,
     "metadata": {},
     "output_type": "execute_result"
    }
   ],
   "source": [
    "convert_from_open3d(o3d_seams.to_legacy())"
   ]
  },
  {
   "cell_type": "code",
   "execution_count": 89,
   "id": "077befc8",
   "metadata": {},
   "outputs": [],
   "source": [
    "mesh_seams_reconverted.write_obj(\"drosophila_example/Drosophila_CAAX-mCherry_mesh_uv_resaved_open3d.obj\")"
   ]
  }
 ],
 "metadata": {
  "kernelspec": {
   "display_name": "Python [conda env:blender-tissue-cartography]",
   "language": "python",
   "name": "conda-env-blender-tissue-cartography-py"
  },
  "language_info": {
   "codemirror_mode": {
    "name": "ipython",
    "version": 3
   },
   "file_extension": ".py",
   "mimetype": "text/x-python",
   "name": "python",
   "nbconvert_exporter": "python",
   "pygments_lexer": "ipython3",
   "version": "3.11.9"
  }
 },
 "nbformat": 4,
 "nbformat_minor": 5
}

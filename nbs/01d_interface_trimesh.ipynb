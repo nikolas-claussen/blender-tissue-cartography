{
 "cells": [
  {
   "cell_type": "code",
   "execution_count": 1,
   "id": "4ad2382a",
   "metadata": {},
   "outputs": [],
   "source": [
    "#| default_exp interface_trimesh"
   ]
  },
  {
   "cell_type": "markdown",
   "id": "b030c301",
   "metadata": {},
   "source": [
    "## `trimesh` interface\n",
    "\n",
    "> Convert `ObjMesh` to `trimesh`'s mesh class.\n",
    "\n",
    "\n",
    "In this notebook, we define functions to convert our `ObjMesh` class to and from `trimesh` (https://trimesh.org/) which is a python library for triangle meshes. I generally prefer to use `igl`, but maybe `trimesh` has some feature you want.\n",
    "\n",
    "Note: `trimesh` represents triangular meshes only, and its way of representing UV information is not ideal. It is not recommended to edit mesh topology in `trimesh` if the UV mapping has already been defined."
   ]
  },
  {
   "cell_type": "code",
   "execution_count": 2,
   "id": "45a2f435",
   "metadata": {},
   "outputs": [],
   "source": [
    "#| export\n",
    "\n",
    "from blender_tissue_cartography import mesh as tcmesh\n",
    "\n",
    "import numpy as np\n",
    "import trimesh"
   ]
  },
  {
   "cell_type": "code",
   "execution_count": 4,
   "id": "925dbe1c",
   "metadata": {},
   "outputs": [],
   "source": [
    "#| hide\n",
    "np.set_printoptions(suppress=True)"
   ]
  },
  {
   "cell_type": "code",
   "execution_count": 6,
   "id": "aa2263fc",
   "metadata": {},
   "outputs": [],
   "source": [
    "#| export\n",
    "\n",
    "def convert_to_trimesh(mesh: tcmesh.ObjMesh, add_texture_info=None) -> trimesh.Trimesh:\n",
    "    \"\"\"\n",
    "    Convert tcmesh.ObjMesh to trimesh.Trimesh\n",
    "    \n",
    "    See https://trimesh.org/trimesh.base.html\n",
    "    Note: normal information is recalculated. Discards any non-triangle faces.\n",
    "    \n",
    "    Texture is saved as a vertex attribute via v_tex_coords_matrix. Note that this discards\n",
    "    information since a vertex can have multiple texture coordinates!\n",
    "    For this reason, we also add the texture coordinates as a (n_faces, 3, s)-array attribute\n",
    "    `face_tex`. Note: this will _not_ be updated if you remesh etc.\n",
    "    \n",
    "    Parameters\n",
    "    ----------\n",
    "    mesh : tcmesh.ObjMesh\n",
    "    add_texture_info : None or bool\n",
    "        Whether to add texture info to the trimesh.Trimesh. If None, texture is added if\n",
    "        available for at least one vertex.\n",
    "    Returns\n",
    "    -------\n",
    "    trimesh.Trimesh\n",
    "\n",
    "    \"\"\"\n",
    "    if not mesh.is_triangular:\n",
    "        warnings.warn(f\"Warning: mesh not triangular. discarding non-triangular faces\")\n",
    "    add_texture_info = ((not mesh.only_vertices and len(mesh.texture_vertices) > 0)\n",
    "                        if add_texture_info is None else add_texture_info)\n",
    "    if not add_texture_info:\n",
    "        return trimesh.Trimesh(mesh.vertices, mesh.tris)\n",
    "    texture = trimesh.visual.texture.TextureVisuals(uv=mesh.vertex_textures)\n",
    "    converted = trimesh.Trimesh(mesh.vertices, mesh.tris, visual=texture)\n",
    "    converted.face_tex = tcmesh.index_else_nan(mesh.texture_vertices, mesh.texture_tris)\n",
    "    return converted"
   ]
  },
  {
   "cell_type": "code",
   "execution_count": 7,
   "id": "eeb8e2b1",
   "metadata": {},
   "outputs": [
    {
     "name": "stderr",
     "output_type": "stream",
     "text": [
      "Warning: readOBJ() ignored non-comment line 4:\n",
      "  o embryo_rect\n"
     ]
    }
   ],
   "source": [
    "mesh_fname_data = \"registration_example/Drosophila_CAAX-mCherry_mesh_remeshed.obj\"\n",
    "mesh_fname_ref = \"registration_example/Drosophila_reference.obj\"\n",
    "mesh_data = tcmesh.ObjMesh.read_obj(mesh_fname_data)\n",
    "mesh_ref = tcmesh.ObjMesh.read_obj(mesh_fname_ref)"
   ]
  },
  {
   "cell_type": "code",
   "execution_count": 10,
   "id": "9a43b41a",
   "metadata": {},
   "outputs": [
    {
     "data": {
      "text/plain": [
       "True"
      ]
     },
     "execution_count": 10,
     "metadata": {},
     "output_type": "execute_result"
    }
   ],
   "source": [
    "trimesh_data = convert_to_trimesh(mesh_data)\n",
    "np.allclose(mesh_data.vertices, trimesh_data.vertices)"
   ]
  },
  {
   "cell_type": "code",
   "execution_count": 12,
   "id": "c1755957",
   "metadata": {},
   "outputs": [
    {
     "data": {
      "text/plain": [
       "array([6.27953731, 6.26481851, 6.27572446, ..., 6.24734426, 6.22183872,\n",
       "       6.25817202])"
      ]
     },
     "execution_count": 12,
     "metadata": {},
     "output_type": "execute_result"
    }
   ],
   "source": [
    "trimesh_normals = trimesh_data.vertex_normals\n",
    "trimesh_normals = (trimesh_normals.T / np.linalg.norm(trimesh_normals, axis=-1)).T\n",
    "\n",
    "np.einsum('vi,vi->v', mesh_data.normals, trimesh_normals)"
   ]
  },
  {
   "cell_type": "code",
   "execution_count": 14,
   "id": "6187f937",
   "metadata": {},
   "outputs": [],
   "source": [
    "#| export\n",
    "\n",
    "def convert_from_trimesh(mesh: trimesh.Trimesh, reconstruct_texture_from_faces=True,\n",
    "                           texture_vertex_decimals=10) -> tcmesh.ObjMesh:\n",
    "    \"\"\"\n",
    "    Convert trimesh mesh to ObjMesh.\n",
    "    \n",
    "    Texture vertices can be reconstructed from face attribute face_tex or from \n",
    "    vertex attribute vertex_tex_coord_matrix. Reconstruction from face texture can accommodate\n",
    "    multiple texture coordinates per vertex (e.g. for UV maps with seams).\n",
    "    \n",
    "    Texture vertices are rounded to texture_vertex_decimals decimals\n",
    "    \"\"\"\n",
    "    vertices = mesh.vertices\n",
    "    normals = mesh.vertex_normals\n",
    "    normals = (normals.T / np.linalg.norm(normals, axis=-1)).T\n",
    "    if not hasattr(mesh.visual, 'uv'):\n",
    "        faces = [[2*[v,] for v in f] for f in mesh.faces]\n",
    "        return tcmesh.ObjMesh(vertices=vertices, faces=faces, normals=normals)\n",
    "    if hasattr(mesh.visual, 'uv') and not reconstruct_texture_from_faces:\n",
    "        faces = [[2*[v,] for v in f] for f in mesh.faces]\n",
    "        return tcmesh.ObjMesh(vertices=vertices, faces=faces, normals=normals, texture_vertices=mesh.visual.uv)\n",
    "    # reconstruct texture vertices - big pain.\n",
    "    texture_vertices = np.vstack([mesh.face_tex[:,i,:] for i in [0,1,2]])\n",
    "    texture_vertices = np.round(texture_vertices, decimals=texture_vertex_decimals)\n",
    "    texture_vertices_unique, inverse_index = np.unique(texture_vertices, axis=0, return_inverse=True)\n",
    "\n",
    "    n_faces = mesh.faces.shape[0]\n",
    "    faces = [[[v, inverse_index[ifc+iv*n_faces]] for iv, v in enumerate(fc)]\n",
    "              for ifc, fc in enumerate(mesh.faces)]\n",
    "\n",
    "    return tcmesh.ObjMesh(vertices=vertices, faces=faces, normals=normals, texture_vertices=texture_vertices_unique)"
   ]
  },
  {
   "cell_type": "code",
   "execution_count": 15,
   "id": "b9c47e3f",
   "metadata": {},
   "outputs": [],
   "source": [
    "trimesh_ref = convert_to_trimesh(mesh_ref)"
   ]
  },
  {
   "cell_type": "code",
   "execution_count": 16,
   "id": "da34d028",
   "metadata": {},
   "outputs": [
    {
     "name": "stderr",
     "output_type": "stream",
     "text": [
      "Warning: readOBJ() ignored non-comment line 4:\n",
      "  o Drosophila_CAAX-mCherry_mesh_remeshed\n",
      "Warning: readOBJ() ignored non-comment line 48073:\n",
      "  l 2534 8160\n",
      "/home/nikolas/Programs/miniconda3/envs/blender-tissue-cartography/lib/python3.11/site-packages/trimesh/grouping.py:99: RuntimeWarning: invalid value encountered in cast\n",
      "  stacked = np.column_stack(stacked).round().astype(np.int64)\n"
     ]
    }
   ],
   "source": [
    "mesh_seams = tcmesh.ObjMesh.read_obj(\"drosophila_example/Drosophila_CAAX-mCherry_mesh_uv.obj\")\n",
    "trimesh_seams = convert_to_trimesh(mesh_seams,add_texture_info=True)"
   ]
  },
  {
   "cell_type": "code",
   "execution_count": 18,
   "id": "92e66976",
   "metadata": {},
   "outputs": [
    {
     "data": {
      "text/plain": [
       "((8159, 2), (8288, 2))"
      ]
     },
     "execution_count": 18,
     "metadata": {},
     "output_type": "execute_result"
    }
   ],
   "source": [
    "convert_from_trimesh(trimesh_seams, reconstruct_texture_from_faces=False).texture_vertices.shape, mesh_seams.texture_vertices.shape"
   ]
  }
 ],
 "metadata": {
  "kernelspec": {
   "display_name": "Python [conda env:blender-tissue-cartography] *",
   "language": "python",
   "name": "conda-env-blender-tissue-cartography-py"
  },
  "language_info": {
   "codemirror_mode": {
    "name": "ipython",
    "version": 3
   },
   "file_extension": ".py",
   "mimetype": "text/x-python",
   "name": "python",
   "nbconvert_exporter": "python",
   "pygments_lexer": "ipython3",
   "version": "3.11.9"
  }
 },
 "nbformat": 4,
 "nbformat_minor": 5
}

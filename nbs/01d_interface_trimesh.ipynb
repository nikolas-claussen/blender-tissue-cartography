{
 "cells": [
  {
   "cell_type": "code",
   "execution_count": 8,
   "id": "4ad2382a",
   "metadata": {},
   "outputs": [],
   "source": [
    "#| default_exp interface_trimesh"
   ]
  },
  {
   "cell_type": "code",
   "execution_count": 9,
   "id": "45a2f435",
   "metadata": {},
   "outputs": [],
   "source": [
    "#| export\n",
    "\n",
    "from blender_tissue_cartography import io as tcio\n",
    "import numpy as np\n",
    "import trimesh"
   ]
  },
  {
   "cell_type": "code",
   "execution_count": 10,
   "id": "23881aca",
   "metadata": {},
   "outputs": [],
   "source": [
    "from importlib import reload"
   ]
  },
  {
   "cell_type": "code",
   "execution_count": 11,
   "id": "925dbe1c",
   "metadata": {},
   "outputs": [],
   "source": [
    "np.set_printoptions(suppress=True)"
   ]
  },
  {
   "cell_type": "markdown",
   "id": "b030c301",
   "metadata": {},
   "source": [
    "## Interfacing with `trimesh`\n",
    "\n",
    "In this notebook, we define functions to convert our `ObjMesh` class to and from `trimesh`.\n",
    "\n",
    "Note: `trimesh` represents triangular meshes only, and its way for representing UV information is not ideal. It is not recommended to edit mesh topology in `trimesh` if the UV mapping has already been defined."
   ]
  },
  {
   "cell_type": "code",
   "execution_count": 12,
   "id": "3c35f41d",
   "metadata": {},
   "outputs": [
    {
     "data": {
      "text/plain": [
       "<module 'blender_tissue_cartography.io' from '/home/nikolas/Documents/UCSB/streichan/numerics/code/python code/jupyter notebooks/blender-tissue-cartography/blender_tissue_cartography/io.py'>"
      ]
     },
     "execution_count": 12,
     "metadata": {},
     "output_type": "execute_result"
    }
   ],
   "source": [
    "reload(tcio)"
   ]
  },
  {
   "cell_type": "code",
   "execution_count": 13,
   "id": "eeb8e2b1",
   "metadata": {},
   "outputs": [],
   "source": [
    "mesh_fname_data = \"registration_example/Drosophila_CAAX-mCherry_mesh_remeshed.obj\"\n",
    "mesh_fname_ref = \"registration_example/Drosophila_reference_preregistered.obj\""
   ]
  },
  {
   "cell_type": "code",
   "execution_count": 14,
   "id": "556f7e95",
   "metadata": {},
   "outputs": [],
   "source": [
    "mesh_data = tcio.ObjMesh.read_obj(mesh_fname_data)\n",
    "mesh_ref = tcio.ObjMesh.read_obj(mesh_fname_ref)"
   ]
  },
  {
   "cell_type": "code",
   "execution_count": 15,
   "id": "aa2263fc",
   "metadata": {},
   "outputs": [],
   "source": [
    "#| export\n",
    "\n",
    "def convert_to_trimesh(mesh: tcio.ObjMesh, add_texture_info=None) -> trimesh.Trimesh:\n",
    "    \"\"\"\n",
    "    Convert tcio.ObjMesh to trimesh.Trimesh\n",
    "    \n",
    "    See https://trimesh.org/trimesh.base.html\n",
    "    Note: normal information is recalculated. Discards any non-triangle faces.\n",
    "    \n",
    "    Texture is saved as a vertex attribute via v_tex_coords_matrix. Note that this discards\n",
    "    information since a vertex can have multiple texture coordinates!\n",
    "    For this reason, we also add the texture coordinates as a (n_faces, 3, s)-array attribute\n",
    "    `face_tex`. Note: this will _not_ be updated if you remesh etc.\n",
    "    \n",
    "    Parameters\n",
    "    ----------\n",
    "    mesh : tcio.ObjMesh\n",
    "    add_texture_info : None or bool\n",
    "        Whether to add texture info to the trimesh.Trimesh. If None, texture is added if\n",
    "        available for at least one vertex.\n",
    "    Returns\n",
    "    -------\n",
    "    trimesh.Trimesh\n",
    "\n",
    "    \"\"\"\n",
    "    if not mesh.is_triangular:\n",
    "        warnings.warn(f\"Warning: mesh not triangular. discarding non-triangular faces\")\n",
    "    add_texture_info = ((not mesh.only_vertices and len(mesh.texture_vertices) > 0)\n",
    "                        if add_texture_info is None else add_texture_info)\n",
    "    if not add_texture_info:\n",
    "        return trimesh.Trimesh(mesh.vertices, mesh.tris)\n",
    "    texture = trimesh.visual.texture.TextureVisuals(uv=mesh.vertex_textures)\n",
    "    converted = trimesh.Trimesh(mesh.vertices, mesh.tris, visual=texture)\n",
    "    converted.face_tex = tcio.index_else_nan(mesh.texture_vertices, mesh.texture_tris)\n",
    "    return converted"
   ]
  },
  {
   "cell_type": "code",
   "execution_count": 16,
   "id": "9a43b41a",
   "metadata": {},
   "outputs": [],
   "source": [
    "trimesh_data = convert_to_trimesh(mesh_data)"
   ]
  },
  {
   "cell_type": "code",
   "execution_count": 18,
   "id": "de1dba72",
   "metadata": {},
   "outputs": [
    {
     "name": "stdout",
     "output_type": "stream",
     "text": [
      "CPU times: user 354 ms, sys: 7.76 ms, total: 362 ms\n",
      "Wall time: 362 ms\n"
     ]
    }
   ],
   "source": [
    "%%time\n",
    "trimesh_ref = convert_to_trimesh(mesh_ref)"
   ]
  },
  {
   "cell_type": "code",
   "execution_count": 20,
   "id": "7de68d68",
   "metadata": {},
   "outputs": [
    {
     "data": {
      "text/plain": [
       "True"
      ]
     },
     "execution_count": 20,
     "metadata": {},
     "output_type": "execute_result"
    }
   ],
   "source": [
    "np.allclose(mesh_ref.vertices, trimesh_ref.vertices)"
   ]
  },
  {
   "cell_type": "code",
   "execution_count": 21,
   "id": "c1755957",
   "metadata": {},
   "outputs": [
    {
     "data": {
      "text/plain": [
       "array([0.99904184, 0.99822658, 0.99668032, ..., 0.99417082, 0.99599803,\n",
       "       0.99721726])"
      ]
     },
     "execution_count": 21,
     "metadata": {},
     "output_type": "execute_result"
    }
   ],
   "source": [
    "trimesh_normals = trimesh_ref.vertex_normals\n",
    "trimesh_normals = (trimesh_normals.T / np.linalg.norm(trimesh_normals, axis=-1)).T\n",
    "\n",
    "np.einsum('vi,vi->v', mesh_ref.vertex_normals, trimesh_normals)"
   ]
  },
  {
   "cell_type": "code",
   "execution_count": 23,
   "id": "803c8b62",
   "metadata": {},
   "outputs": [
    {
     "data": {
      "text/plain": [
       "True"
      ]
     },
     "execution_count": 23,
     "metadata": {},
     "output_type": "execute_result"
    }
   ],
   "source": [
    "np.allclose(mesh_ref.vertex_textures, trimesh_ref.visual.uv)"
   ]
  },
  {
   "cell_type": "code",
   "execution_count": 24,
   "id": "850c3513",
   "metadata": {},
   "outputs": [
    {
     "name": "stdout",
     "output_type": "stream",
     "text": [
      "253 ms ± 5.36 ms per loop (mean ± std. dev. of 7 runs, 1 loop each)\n"
     ]
    }
   ],
   "source": [
    "%%timeit\n",
    "convert_to_trimesh(mesh_ref)"
   ]
  },
  {
   "cell_type": "code",
   "execution_count": 25,
   "id": "6187f937",
   "metadata": {},
   "outputs": [],
   "source": [
    "#| export\n",
    "\n",
    "def convert_from_trimesh(mesh: trimesh.Trimesh, reconstruct_texture_from_faces=True,\n",
    "                           texture_vertex_decimals=10) -> tcio.ObjMesh:\n",
    "    \"\"\"\n",
    "    Convert trimesh mesh to ObjMesh.\n",
    "    \n",
    "    Texture vertices can be reconstructed from face attribute face_tex or from\n",
    "    vertex attribute vertex_tex_coord_matrix. Reconstruction from face texture can accomodate\n",
    "    multiple texture coordinates per vertex (e.g. for UV maps with seams).\n",
    "    \n",
    "    Texture vertices are rounded to texture_vertex_decimals decimals\n",
    "    \"\"\"\n",
    "    vertices = mesh.vertices\n",
    "    normals = mesh.vertex_normals\n",
    "    normals = (normals.T / np.linalg.norm(normals, axis=-1)).T\n",
    "    if not hasattr(mesh.visual, 'uv'):\n",
    "        faces = [[3*[v,] for v in f] for f in mesh.faces]\n",
    "        return tcio.ObjMesh(vertices=vertices, faces=faces, normals=normals)\n",
    "    if hasattr(mesh.visual, 'uv') and not reconstruct_texture_from_faces:\n",
    "        faces = [[3*[v,] for v in f] for f in mesh.faces]\n",
    "        return tcio.ObjMesh(vertices=vertices, faces=faces, normals=normals, texture_vertices=mesh.visual.uv)\n",
    "    # reconstruct texture vertices - big pain.\n",
    "    texture_vertices = np.vstack([mesh.face_tex[:,i,:] for i in [0,1,2]])\n",
    "    texture_vertices = np.round(texture_vertices, decimals=texture_vertex_decimals)\n",
    "    texture_vertices_unique, inverse_index = np.unique(texture_vertices, axis=0, return_inverse=True)\n",
    "\n",
    "    n_faces = mesh.faces.shape[0]\n",
    "    faces = [[[v, inverse_index[ifc+iv*n_faces], v] for iv, v in enumerate(fc)]\n",
    "              for ifc, fc in enumerate(mesh.faces)]\n",
    "\n",
    "    return tcio.ObjMesh(vertices=vertices, faces=faces, normals=normals, texture_vertices=texture_vertices_unique)"
   ]
  },
  {
   "cell_type": "code",
   "execution_count": 26,
   "id": "b9c47e3f",
   "metadata": {},
   "outputs": [],
   "source": [
    "trimesh_ref = convert_to_trimesh(mesh_ref)"
   ]
  },
  {
   "cell_type": "code",
   "execution_count": 28,
   "id": "35ba25ec",
   "metadata": {},
   "outputs": [
    {
     "name": "stdout",
     "output_type": "stream",
     "text": [
      "CPU times: user 650 ms, sys: 27.6 ms, total: 677 ms\n",
      "Wall time: 676 ms\n"
     ]
    },
    {
     "data": {
      "text/plain": [
       "<blender_tissue_cartography.io.ObjMesh at 0x7f260613e790>"
      ]
     },
     "execution_count": 28,
     "metadata": {},
     "output_type": "execute_result"
    }
   ],
   "source": [
    "%%time\n",
    "convert_from_trimesh(trimesh_ref)"
   ]
  },
  {
   "cell_type": "code",
   "execution_count": 29,
   "id": "da34d028",
   "metadata": {},
   "outputs": [],
   "source": [
    "mesh_seams = tcio.ObjMesh.read_obj(\"drosophila_example/Drosophila_CAAX-mCherry_mesh_uv.obj\")"
   ]
  },
  {
   "cell_type": "code",
   "execution_count": 30,
   "id": "bee15c43",
   "metadata": {},
   "outputs": [
    {
     "name": "stderr",
     "output_type": "stream",
     "text": [
      "/home/nikolas/Programs/miniconda3/envs/blender-tissue-cartography/lib/python3.11/site-packages/trimesh/grouping.py:99: RuntimeWarning: invalid value encountered in cast\n",
      "  stacked = np.column_stack(stacked).round().astype(np.int64)\n"
     ]
    }
   ],
   "source": [
    "trimesh_seams = convert_to_trimesh(mesh_seams,add_texture_info=True)"
   ]
  },
  {
   "cell_type": "code",
   "execution_count": 31,
   "id": "92e66976",
   "metadata": {},
   "outputs": [
    {
     "data": {
      "text/plain": [
       "(8159, 2)"
      ]
     },
     "execution_count": 31,
     "metadata": {},
     "output_type": "execute_result"
    }
   ],
   "source": [
    "convert_from_trimesh(trimesh_seams, reconstruct_texture_from_faces=False).texture_vertices.shape"
   ]
  },
  {
   "cell_type": "code",
   "execution_count": 32,
   "id": "0dec9f6e",
   "metadata": {},
   "outputs": [],
   "source": [
    "mesh_seams_reconverted = convert_from_trimesh(trimesh_seams, reconstruct_texture_from_faces=True)"
   ]
  },
  {
   "cell_type": "code",
   "execution_count": 33,
   "id": "d129a9c4",
   "metadata": {},
   "outputs": [
    {
     "data": {
      "text/plain": [
       "((8288, 2), (8288, 2))"
      ]
     },
     "execution_count": 33,
     "metadata": {},
     "output_type": "execute_result"
    }
   ],
   "source": [
    "mesh_seams.texture_vertices.shape, mesh_seams_reconverted.texture_vertices.shape"
   ]
  },
  {
   "cell_type": "code",
   "execution_count": 34,
   "id": "e8ecbcd9",
   "metadata": {},
   "outputs": [],
   "source": [
    "mesh_seams_reconverted.write_obj(\"drosophila_example/Drosophila_CAAX-mCherry_mesh_uv_resaved_trimesh.obj\")"
   ]
  }
 ],
 "metadata": {
  "kernelspec": {
   "display_name": "Python [conda env:blender-tissue-cartography]",
   "language": "python",
   "name": "conda-env-blender-tissue-cartography-py"
  },
  "language_info": {
   "codemirror_mode": {
    "name": "ipython",
    "version": 3
   },
   "file_extension": ".py",
   "mimetype": "text/x-python",
   "name": "python",
   "nbconvert_exporter": "python",
   "pygments_lexer": "ipython3",
   "version": "3.11.9"
  }
 },
 "nbformat": 4,
 "nbformat_minor": 5
}

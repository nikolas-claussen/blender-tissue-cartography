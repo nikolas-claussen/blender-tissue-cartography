{
 "cells": [
  {
   "cell_type": "markdown",
   "id": "48996fd9",
   "metadata": {},
   "source": [
    "# Subdivision and simplification with pymeshlab\n",
    "\n",
    "This notebook contains functions for subdividing and simplifying meshes using pymeshlab while preserving UV information. This is useful since it allows one to increase or decrease the mesh \"resolution\" as needed when the mesh is deformed.\n",
    "\n",
    "A limitation of this code is that it ensures correct transfer of UV information by cutting meshes along their UV seams. This does not alter the mesh position but it does alter the topology."
   ]
  },
  {
   "cell_type": "markdown",
   "id": "5c25698e",
   "metadata": {},
   "source": [
    "**Other notes**\n",
    "\n",
    "- Blender make multi-color surfaces (using texture and material preview) and Semi-Transparent too. Can surely be done without UV map (texture coordinates I think)"
   ]
  },
  {
   "cell_type": "markdown",
   "id": "3e95dc00",
   "metadata": {},
   "source": [
    "**Other options**\n",
    "\n",
    "The other option, generally speaking, is to UV map from each timepoint mesh separately. Then use a reproducible algorithm of sorts to make sure one has consistent maps. Overall this is the strategy of Noah and Dillon. But this interferes with the idea of a graphical, interactive way of making UV maps! Maybe we can still learn something from the tubular paper."
   ]
  },
  {
   "cell_type": "code",
   "execution_count": 1,
   "id": "d3da3a72",
   "metadata": {},
   "outputs": [],
   "source": [
    "#| default_exp remesh_igl"
   ]
  },
  {
   "cell_type": "code",
   "execution_count": 2,
   "id": "4b2d29b5",
   "metadata": {},
   "outputs": [],
   "source": [
    "#| export\n",
    "\n",
    "from blender_tissue_cartography import io as tcio\n",
    "\n",
    "import numpy as np\n",
    "import igl\n",
    "\n",
    "import warnings\n",
    "import os"
   ]
  },
  {
   "cell_type": "code",
   "execution_count": 3,
   "id": "4f35e8ff",
   "metadata": {},
   "outputs": [],
   "source": [
    "import matplotlib.pyplot as plt"
   ]
  },
  {
   "cell_type": "markdown",
   "id": "96f206b8",
   "metadata": {},
   "source": [
    "### Subdivision with `igl`"
   ]
  },
  {
   "cell_type": "code",
   "execution_count": 4,
   "id": "62027180",
   "metadata": {},
   "outputs": [],
   "source": [
    "#| export\n",
    "\n",
    "def subdivide_igl(mesh, reglue=True, decimals=10):\n",
    "    \"\"\"\n",
    "    Refine mesh by edge subdivision using pymeshlab.\n",
    "    \n",
    "    Preserves UV information, but cuts the mesh along seams. Can glue back after. Subdivides all edges.\n",
    "    \n",
    "    Parameters\n",
    "    ----------\n",
    "    mesh : ObjMesh\n",
    "        Initial mesh.\n",
    "\n",
    "    Returns\n",
    "    -------\n",
    "    mesh_subdiv : ObjMesh\n",
    "        Subdivided mesh.\n",
    "    reglue : bool\n",
    "        Glue back after cutting\n",
    "    decimals : int\n",
    "        Decimal precision for merging vertices when regluing.\n",
    "    \"\"\"\n",
    "    mesh_cut = mesh.cut_along_seams()\n",
    "    S, new_faces = igl.loop_subdivision_matrix(mesh_cut.vertices.shape[0], mesh_cut.tris)\n",
    "    new_verts = S.dot(mesh_cut.vertices)\n",
    "    new_textures = S.dot(mesh_cut.texture_vertices)\n",
    "    mesh_subdiv = tcio.ObjMesh(vertices=new_verts, texture_vertices=new_textures,\n",
    "                               faces=[[[v,v] for v in fc] for fc in new_faces])\n",
    "    if reglue:\n",
    "        mesh_subdiv = tcio.glue_seams(mesh_subdiv, decimals=decimals)\n",
    "    return mesh_subdiv"
   ]
  },
  {
   "cell_type": "code",
   "execution_count": 5,
   "id": "47198208",
   "metadata": {},
   "outputs": [],
   "source": [
    "# can we somehow avoid the requirement to cut the mesh?"
   ]
  },
  {
   "cell_type": "code",
   "execution_count": 6,
   "id": "35286ee2",
   "metadata": {},
   "outputs": [],
   "source": [
    "mesh_test = tcio.ObjMesh.read_obj(\"movie_example/initial_uv.obj\")"
   ]
  },
  {
   "cell_type": "code",
   "execution_count": 7,
   "id": "bb3159c4",
   "metadata": {},
   "outputs": [],
   "source": [
    "mesh_subdiv = subdivide_igl(mesh_test) "
   ]
  },
  {
   "cell_type": "code",
   "execution_count": 8,
   "id": "494ebfb3",
   "metadata": {},
   "outputs": [],
   "source": [
    "mesh_subdiv.write_obj(\"movie_example/mesh_subdivided_igl.obj\")"
   ]
  },
  {
   "cell_type": "code",
   "execution_count": 9,
   "id": "92c8fef9",
   "metadata": {},
   "outputs": [
    {
     "data": {
      "text/plain": [
       "[<matplotlib.lines.Line2D at 0x7f459c642190>,\n",
       " <matplotlib.lines.Line2D at 0x7f458a863990>]"
      ]
     },
     "execution_count": 9,
     "metadata": {},
     "output_type": "execute_result"
    },
    {
     "data": {
      "image/png": "[encoded data removed]",
      "text/plain": [
       "<Figure size 640x480 with 1 Axes>"
      ]
     },
     "metadata": {},
     "output_type": "display_data"
    }
   ],
   "source": [
    "plt.triplot(*mesh_subdiv.texture_vertices.T, mesh_subdiv.tris)"
   ]
  },
  {
   "cell_type": "code",
   "execution_count": 16,
   "id": "ebfc559f",
   "metadata": {},
   "outputs": [],
   "source": [
    "mesh_subdiv_glued = tcio.glue_seams(mesh_subdiv, decimals=8)"
   ]
  },
  {
   "cell_type": "code",
   "execution_count": 17,
   "id": "366f178f",
   "metadata": {},
   "outputs": [
    {
     "data": {
      "text/plain": [
       "((80873, 3), (81663, 3))"
      ]
     },
     "execution_count": 17,
     "metadata": {},
     "output_type": "execute_result"
    }
   ],
   "source": [
    "mesh_subdiv_glued.vertices.shape, mesh_subdiv.vertices.shape"
   ]
  },
  {
   "cell_type": "code",
   "execution_count": 18,
   "id": "c19cae9a",
   "metadata": {},
   "outputs": [],
   "source": [
    "mesh_subdiv_glued.write_obj(\"movie_example/mesh_subdivided_glued_igl.obj\")"
   ]
  },
  {
   "cell_type": "code",
   "execution_count": 19,
   "id": "9f17701b",
   "metadata": {},
   "outputs": [
    {
     "data": {
      "text/plain": [
       "array([14715, 63899, 14723, 63941, 14732, 63898])"
      ]
     },
     "execution_count": 19,
     "metadata": {},
     "output_type": "execute_result"
    }
   ],
   "source": [
    "igl.boundary_loop(mesh_subdiv_glued.tris)\n"
   ]
  },
  {
   "cell_type": "markdown",
   "id": "20f083ba",
   "metadata": {},
   "source": [
    "## Trying to only subdivide certain faces"
   ]
  },
  {
   "cell_type": "code",
   "execution_count": 9,
   "id": "bda17ee8",
   "metadata": {},
   "outputs": [],
   "source": [
    "mesh_cut = meshes_wrapped[-1].cut_along_seams()"
   ]
  },
  {
   "cell_type": "code",
   "execution_count": 10,
   "id": "f502e5fb",
   "metadata": {},
   "outputs": [
    {
     "data": {
      "text/plain": [
       "((40420, 3), 20210.0)"
      ]
     },
     "execution_count": 10,
     "metadata": {},
     "output_type": "execute_result"
    }
   ],
   "source": [
    "mesh_cut.tris.shape, 40420/2"
   ]
  },
  {
   "cell_type": "code",
   "execution_count": 11,
   "id": "77e26efe",
   "metadata": {},
   "outputs": [],
   "source": [
    "S, new_faces = igl.loop_subdivision_matrix(mesh_cut.vertices.shape[0], mesh_cut.tris[20210:])"
   ]
  },
  {
   "cell_type": "code",
   "execution_count": 12,
   "id": "034d2a1c",
   "metadata": {},
   "outputs": [],
   "source": [
    "new_textures = S.dot(mesh_cut.texture_vertices)"
   ]
  },
  {
   "cell_type": "code",
   "execution_count": 22,
   "id": "c4b09011",
   "metadata": {},
   "outputs": [
    {
     "data": {
      "text/plain": [
       "(51570, 20623)"
      ]
     },
     "execution_count": 22,
     "metadata": {},
     "output_type": "execute_result"
    }
   ],
   "source": [
    "S.shape"
   ]
  },
  {
   "cell_type": "code",
   "execution_count": 13,
   "id": "d6bac937",
   "metadata": {},
   "outputs": [],
   "source": [
    "unique_faces = np.unique(np.vstack([mesh_cut.tris, new_faces]), axis=1)"
   ]
  },
  {
   "cell_type": "code",
   "execution_count": 14,
   "id": "ce77591f",
   "metadata": {},
   "outputs": [],
   "source": [
    "new_verts = S.dot(mesh_cut.vertices)\n",
    "mesh_subdiv_partial = tcio.ObjMesh(vertices=new_verts, texture_vertices=new_textures,\n",
    "                                   faces=[[[v,v] for v in fc] for fc in unique_faces])\n"
   ]
  },
  {
   "cell_type": "code",
   "execution_count": 15,
   "id": "be887476",
   "metadata": {},
   "outputs": [],
   "source": [
    "mesh_subdiv_partial.write_obj(\"movie_example/mesh_subdivided_partial_igl.obj\")"
   ]
  },
  {
   "cell_type": "code",
   "execution_count": 106,
   "id": "65a8faec",
   "metadata": {},
   "outputs": [
    {
     "data": {
      "text/plain": [
       "51569"
      ]
     },
     "execution_count": 106,
     "metadata": {},
     "output_type": "execute_result"
    }
   ],
   "source": [
    "new_faces.max()"
   ]
  },
  {
   "cell_type": "code",
   "execution_count": 21,
   "id": "9df684ac",
   "metadata": {},
   "outputs": [
    {
     "data": {
      "text/plain": [
       "[<matplotlib.lines.Line2D at 0x7f89d15d0490>]"
      ]
     },
     "execution_count": 21,
     "metadata": {},
     "output_type": "execute_result"
    },
    {
     "data": {
      "image/png": "[encoded data removed]",
      "text/plain": [
       "<Figure size 640x480 with 1 Axes>"
      ]
     },
     "metadata": {},
     "output_type": "display_data"
    }
   ],
   "source": [
    "plt.plot(np.isnan(new_verts).any(axis=1))"
   ]
  },
  {
   "cell_type": "markdown",
   "id": "69335d0b",
   "metadata": {},
   "source": [
    "### simplification/decimation with `igl`\n",
    "\n",
    "Assigning texture coordinates simply based on the birth vertex is not great. can we do better? I guess not :\\"
   ]
  },
  {
   "cell_type": "code",
   "execution_count": 30,
   "id": "c0365937",
   "metadata": {},
   "outputs": [],
   "source": [
    "_, vertices_new, faces_new, birth_faces, birth_vertices = igl.qslim(new_mesh.vertices, new_mesh.tris,\n",
    "                                                                    max_m=int(new_mesh.tris.shape[0]/4))\n"
   ]
  },
  {
   "cell_type": "markdown",
   "id": "2d0e71e9",
   "metadata": {},
   "source": [
    "### simplification/decimation with `igl`\n",
    "\n",
    "Assigning texture coordinates simply based on the birth vertex is not great. can we do better? I guess not :\\"
   ]
  },
  {
   "cell_type": "code",
   "execution_count": 31,
   "id": "e014a5d4",
   "metadata": {},
   "outputs": [],
   "source": [
    "new_new_mesh = tcio.ObjMesh(vertices=vertices_new, texture_vertices=new_mesh.texture_vertices[birth_vertices],\n",
    "                            faces=[[[v,v] for v in fc] for fc in faces_new])"
   ]
  },
  {
   "cell_type": "code",
   "execution_count": 32,
   "id": "fa5cf74e",
   "metadata": {},
   "outputs": [],
   "source": [
    "new_new_mesh = tcwrap.smooth_laplacian_texture(new_new_mesh, n_iter=5)"
   ]
  },
  {
   "cell_type": "code",
   "execution_count": 33,
   "id": "da81df79",
   "metadata": {},
   "outputs": [
    {
     "data": {
      "text/plain": [
       "[<matplotlib.lines.Line2D at 0x7fe2fefe8490>,\n",
       " <matplotlib.lines.Line2D at 0x7fe2ff053690>]"
      ]
     },
     "execution_count": 33,
     "metadata": {},
     "output_type": "execute_result"
    },
    {
     "data": {
      "image/png": "[encoded data removed]",
      "text/plain": [
       "<Figure size 640x480 with 1 Axes>"
      ]
     },
     "metadata": {},
     "output_type": "display_data"
    }
   ],
   "source": [
    "plt.triplot(*new_new_mesh.texture_vertices.T, new_new_mesh.tris)"
   ]
  },
  {
   "cell_type": "code",
   "execution_count": 34,
   "id": "683bed98",
   "metadata": {},
   "outputs": [],
   "source": [
    "new_new_mesh.write_obj(\"movie_example/mesh_subdivided_simplified_igl.obj\")"
   ]
  }
 ],
 "metadata": {
  "kernelspec": {
   "display_name": "Python [conda env:blender-tissue-cartography] *",
   "language": "python",
   "name": "conda-env-blender-tissue-cartography-py"
  },
  "language_info": {
   "codemirror_mode": {
    "name": "ipython",
    "version": 3
   },
   "file_extension": ".py",
   "mimetype": "text/x-python",
   "name": "python",
   "nbconvert_exporter": "python",
   "pygments_lexer": "ipython3",
   "version": "3.11.9"
  }
 },
 "nbformat": 4,
 "nbformat_minor": 5
}
